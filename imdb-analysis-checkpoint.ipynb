{
 "cells": [
  {
   "cell_type": "markdown",
   "metadata": {
    "_cell_guid": "b1076dfc-b9ad-4769-8c92-a6c4dae69d19",
    "_uuid": "8f2839f25d086af736a60e9eeb907d3b93b6e0e5"
   },
   "source": [
    "# IMDB - EDA"
   ]
  },
  {
   "cell_type": "markdown",
   "metadata": {},
   "source": [
    "**IMDB**-  is an online database of information related to films, television programs, home videos, video games, and streaming content online – including cast, production crew and personal biographies, plot summaries, trivia, ratings, and fan and critical reviews."
   ]
  },
  {
   "cell_type": "markdown",
   "metadata": {},
   "source": [
    "Basic information about dataset:\n",
    "\n",
    "* Poster_Link - Link of the poster that imdb using\n",
    "* Series_Title = Name of the movie\n",
    "* Released_Year - Year at which that movie released\n",
    "* Certificate - Certificate earned by that movie\n",
    "* Runtime - Total runtime of the movie\n",
    "* Genre - Genre of the movie\n",
    "* IMDB_Rating - Rating of the movie at IMDB site\n",
    "* Overview - mini story/ summary\n",
    "* Meta_score - Score earned by the movie\n",
    "* Director - Name of the Director\n",
    "* Star1,Star2,Star3,Star4 - Name of the Stars\n",
    "* Noofvotes - Total number of votes\n",
    "* Gross - Money earned by that movie\n",
    "\n",
    "\n",
    "Data shape:\n",
    "* number of rows: 1000\n",
    "* number of columns: 16"
   ]
  },
  {
   "cell_type": "markdown",
   "metadata": {},
   "source": [
    "## 1. Data preprocessing"
   ]
  },
  {
   "cell_type": "markdown",
   "metadata": {},
   "source": [
    "### 1.1 Importing modules"
   ]
  },
  {
   "cell_type": "code",
   "execution_count": 1,
   "metadata": {
    "execution": {
     "iopub.execute_input": "2021-10-14T15:40:26.222280Z",
     "iopub.status.busy": "2021-10-14T15:40:26.221869Z",
     "iopub.status.idle": "2021-10-14T15:40:26.255380Z",
     "shell.execute_reply": "2021-10-14T15:40:26.254271Z",
     "shell.execute_reply.started": "2021-10-14T15:40:26.222220Z"
    }
   },
   "outputs": [
    {
     "data": {
      "text/html": [
       "        <script type=\"text/javascript\">\n",
       "        window.PlotlyConfig = {MathJaxConfig: 'local'};\n",
       "        if (window.MathJax) {MathJax.Hub.Config({SVG: {font: \"STIX-Web\"}});}\n",
       "        if (typeof require !== 'undefined') {\n",
       "        require.undef(\"plotly\");\n",
       "        requirejs.config({\n",
       "            paths: {\n",
       "                'plotly': ['https://cdn.plot.ly/plotly-2.9.0.min']\n",
       "            }\n",
       "        });\n",
       "        require(['plotly'], function(Plotly) {\n",
       "            window._Plotly = Plotly;\n",
       "        });\n",
       "        }\n",
       "        </script>\n",
       "        "
      ]
     },
     "metadata": {},
     "output_type": "display_data"
    }
   ],
   "source": [
    "import pandas as pd\n",
    "import numpy as np\n",
    "\n",
    "import matplotlib.pyplot as plt\n",
    "import matplotlib\n",
    "import seaborn as sns\n",
    "import warnings\n",
    "warnings.simplefilter(action='ignore', category=FutureWarning)\n",
    "warnings.simplefilter(action='ignore', category=UserWarning)\n",
    "sns.set(style=\"white\")\n",
    "\n",
    "\n",
    "import plotly\n",
    "import plotly.graph_objects as go\n",
    "import plotly.express as px\n",
    "from plotly.subplots import make_subplots\n",
    "import plotly.figure_factory as ff\n",
    "\n",
    "from plotly.offline import plot, iplot, init_notebook_mode\n",
    "init_notebook_mode(connected=True)\n",
    "\n",
    "df = pd.read_csv('imdb_top_1000.csv')"
   ]
  },
  {
   "cell_type": "code",
   "execution_count": 2,
   "metadata": {
    "execution": {
     "iopub.execute_input": "2021-10-14T15:40:26.258596Z",
     "iopub.status.busy": "2021-10-14T15:40:26.257789Z",
     "iopub.status.idle": "2021-10-14T15:40:26.279434Z",
     "shell.execute_reply": "2021-10-14T15:40:26.278808Z",
     "shell.execute_reply.started": "2021-10-14T15:40:26.258549Z"
    }
   },
   "outputs": [
    {
     "data": {
      "text/html": [
       "<div>\n",
       "<style scoped>\n",
       "    .dataframe tbody tr th:only-of-type {\n",
       "        vertical-align: middle;\n",
       "    }\n",
       "\n",
       "    .dataframe tbody tr th {\n",
       "        vertical-align: top;\n",
       "    }\n",
       "\n",
       "    .dataframe thead th {\n",
       "        text-align: right;\n",
       "    }\n",
       "</style>\n",
       "<table border=\"1\" class=\"dataframe\">\n",
       "  <thead>\n",
       "    <tr style=\"text-align: right;\">\n",
       "      <th></th>\n",
       "      <th>Poster_Link</th>\n",
       "      <th>Series_Title</th>\n",
       "      <th>Released_Year</th>\n",
       "      <th>Certificate</th>\n",
       "      <th>Runtime</th>\n",
       "      <th>Genre</th>\n",
       "      <th>IMDB_Rating</th>\n",
       "      <th>Overview</th>\n",
       "      <th>Meta_score</th>\n",
       "      <th>Director</th>\n",
       "      <th>Star1</th>\n",
       "      <th>Star2</th>\n",
       "      <th>Star3</th>\n",
       "      <th>Star4</th>\n",
       "      <th>No_of_Votes</th>\n",
       "      <th>Gross</th>\n",
       "    </tr>\n",
       "  </thead>\n",
       "  <tbody>\n",
       "    <tr>\n",
       "      <th>0</th>\n",
       "      <td>https://m.media-amazon.com/images/M/MV5BMDFkYT...</td>\n",
       "      <td>The Shawshank Redemption</td>\n",
       "      <td>1994</td>\n",
       "      <td>A</td>\n",
       "      <td>142 min</td>\n",
       "      <td>Drama</td>\n",
       "      <td>9.3</td>\n",
       "      <td>Two imprisoned men bond over a number of years...</td>\n",
       "      <td>80.0</td>\n",
       "      <td>Frank Darabont</td>\n",
       "      <td>Tim Robbins</td>\n",
       "      <td>Morgan Freeman</td>\n",
       "      <td>Bob Gunton</td>\n",
       "      <td>William Sadler</td>\n",
       "      <td>2343110</td>\n",
       "      <td>28,341,469</td>\n",
       "    </tr>\n",
       "    <tr>\n",
       "      <th>1</th>\n",
       "      <td>https://m.media-amazon.com/images/M/MV5BM2MyNj...</td>\n",
       "      <td>The Godfather</td>\n",
       "      <td>1972</td>\n",
       "      <td>A</td>\n",
       "      <td>175 min</td>\n",
       "      <td>Crime, Drama</td>\n",
       "      <td>9.2</td>\n",
       "      <td>An organized crime dynasty's aging patriarch t...</td>\n",
       "      <td>100.0</td>\n",
       "      <td>Francis Ford Coppola</td>\n",
       "      <td>Marlon Brando</td>\n",
       "      <td>Al Pacino</td>\n",
       "      <td>James Caan</td>\n",
       "      <td>Diane Keaton</td>\n",
       "      <td>1620367</td>\n",
       "      <td>134,966,411</td>\n",
       "    </tr>\n",
       "    <tr>\n",
       "      <th>2</th>\n",
       "      <td>https://m.media-amazon.com/images/M/MV5BMTMxNT...</td>\n",
       "      <td>The Dark Knight</td>\n",
       "      <td>2008</td>\n",
       "      <td>UA</td>\n",
       "      <td>152 min</td>\n",
       "      <td>Action, Crime, Drama</td>\n",
       "      <td>9.0</td>\n",
       "      <td>When the menace known as the Joker wreaks havo...</td>\n",
       "      <td>84.0</td>\n",
       "      <td>Christopher Nolan</td>\n",
       "      <td>Christian Bale</td>\n",
       "      <td>Heath Ledger</td>\n",
       "      <td>Aaron Eckhart</td>\n",
       "      <td>Michael Caine</td>\n",
       "      <td>2303232</td>\n",
       "      <td>534,858,444</td>\n",
       "    </tr>\n",
       "  </tbody>\n",
       "</table>\n",
       "</div>"
      ],
      "text/plain": [
       "                                         Poster_Link  \\\n",
       "0  https://m.media-amazon.com/images/M/MV5BMDFkYT...   \n",
       "1  https://m.media-amazon.com/images/M/MV5BM2MyNj...   \n",
       "2  https://m.media-amazon.com/images/M/MV5BMTMxNT...   \n",
       "\n",
       "               Series_Title Released_Year Certificate  Runtime  \\\n",
       "0  The Shawshank Redemption          1994           A  142 min   \n",
       "1             The Godfather          1972           A  175 min   \n",
       "2           The Dark Knight          2008          UA  152 min   \n",
       "\n",
       "                  Genre  IMDB_Rating  \\\n",
       "0                 Drama          9.3   \n",
       "1          Crime, Drama          9.2   \n",
       "2  Action, Crime, Drama          9.0   \n",
       "\n",
       "                                            Overview  Meta_score  \\\n",
       "0  Two imprisoned men bond over a number of years...        80.0   \n",
       "1  An organized crime dynasty's aging patriarch t...       100.0   \n",
       "2  When the menace known as the Joker wreaks havo...        84.0   \n",
       "\n",
       "               Director           Star1           Star2          Star3  \\\n",
       "0        Frank Darabont     Tim Robbins  Morgan Freeman     Bob Gunton   \n",
       "1  Francis Ford Coppola   Marlon Brando       Al Pacino     James Caan   \n",
       "2     Christopher Nolan  Christian Bale    Heath Ledger  Aaron Eckhart   \n",
       "\n",
       "            Star4  No_of_Votes        Gross  \n",
       "0  William Sadler      2343110   28,341,469  \n",
       "1    Diane Keaton      1620367  134,966,411  \n",
       "2   Michael Caine      2303232  534,858,444  "
      ]
     },
     "execution_count": 2,
     "metadata": {},
     "output_type": "execute_result"
    }
   ],
   "source": [
    "df.head(3)\n"
   ]
  },
  {
   "cell_type": "code",
   "execution_count": 3,
   "metadata": {
    "execution": {
     "iopub.execute_input": "2021-10-14T15:40:26.281194Z",
     "iopub.status.busy": "2021-10-14T15:40:26.280556Z",
     "iopub.status.idle": "2021-10-14T15:40:26.311673Z",
     "shell.execute_reply": "2021-10-14T15:40:26.310534Z",
     "shell.execute_reply.started": "2021-10-14T15:40:26.281155Z"
    }
   },
   "outputs": [
    {
     "data": {
      "text/html": [
       "<div>\n",
       "<style scoped>\n",
       "    .dataframe tbody tr th:only-of-type {\n",
       "        vertical-align: middle;\n",
       "    }\n",
       "\n",
       "    .dataframe tbody tr th {\n",
       "        vertical-align: top;\n",
       "    }\n",
       "\n",
       "    .dataframe thead th {\n",
       "        text-align: right;\n",
       "    }\n",
       "</style>\n",
       "<table border=\"1\" class=\"dataframe\">\n",
       "  <thead>\n",
       "    <tr style=\"text-align: right;\">\n",
       "      <th></th>\n",
       "      <th>Poster_Link</th>\n",
       "      <th>Series_Title</th>\n",
       "      <th>Released_Year</th>\n",
       "      <th>Certificate</th>\n",
       "      <th>Runtime</th>\n",
       "      <th>Genre</th>\n",
       "      <th>IMDB_Rating</th>\n",
       "      <th>Overview</th>\n",
       "      <th>Meta_score</th>\n",
       "      <th>Director</th>\n",
       "      <th>Star1</th>\n",
       "      <th>Star2</th>\n",
       "      <th>Star3</th>\n",
       "      <th>Star4</th>\n",
       "      <th>No_of_Votes</th>\n",
       "      <th>Gross</th>\n",
       "    </tr>\n",
       "  </thead>\n",
       "  <tbody>\n",
       "    <tr>\n",
       "      <th>995</th>\n",
       "      <td>https://m.media-amazon.com/images/M/MV5BNGEwMT...</td>\n",
       "      <td>Breakfast at Tiffany's</td>\n",
       "      <td>1961</td>\n",
       "      <td>A</td>\n",
       "      <td>115 min</td>\n",
       "      <td>Comedy, Drama, Romance</td>\n",
       "      <td>7.6</td>\n",
       "      <td>A young New York socialite becomes interested ...</td>\n",
       "      <td>76.0</td>\n",
       "      <td>Blake Edwards</td>\n",
       "      <td>Audrey Hepburn</td>\n",
       "      <td>George Peppard</td>\n",
       "      <td>Patricia Neal</td>\n",
       "      <td>Buddy Ebsen</td>\n",
       "      <td>166544</td>\n",
       "      <td>NaN</td>\n",
       "    </tr>\n",
       "    <tr>\n",
       "      <th>996</th>\n",
       "      <td>https://m.media-amazon.com/images/M/MV5BODk3Yj...</td>\n",
       "      <td>Giant</td>\n",
       "      <td>1956</td>\n",
       "      <td>G</td>\n",
       "      <td>201 min</td>\n",
       "      <td>Drama, Western</td>\n",
       "      <td>7.6</td>\n",
       "      <td>Sprawling epic covering the life of a Texas ca...</td>\n",
       "      <td>84.0</td>\n",
       "      <td>George Stevens</td>\n",
       "      <td>Elizabeth Taylor</td>\n",
       "      <td>Rock Hudson</td>\n",
       "      <td>James Dean</td>\n",
       "      <td>Carroll Baker</td>\n",
       "      <td>34075</td>\n",
       "      <td>NaN</td>\n",
       "    </tr>\n",
       "    <tr>\n",
       "      <th>997</th>\n",
       "      <td>https://m.media-amazon.com/images/M/MV5BM2U3Yz...</td>\n",
       "      <td>From Here to Eternity</td>\n",
       "      <td>1953</td>\n",
       "      <td>Passed</td>\n",
       "      <td>118 min</td>\n",
       "      <td>Drama, Romance, War</td>\n",
       "      <td>7.6</td>\n",
       "      <td>In Hawaii in 1941, a private is cruelly punish...</td>\n",
       "      <td>85.0</td>\n",
       "      <td>Fred Zinnemann</td>\n",
       "      <td>Burt Lancaster</td>\n",
       "      <td>Montgomery Clift</td>\n",
       "      <td>Deborah Kerr</td>\n",
       "      <td>Donna Reed</td>\n",
       "      <td>43374</td>\n",
       "      <td>30,500,000</td>\n",
       "    </tr>\n",
       "    <tr>\n",
       "      <th>998</th>\n",
       "      <td>https://m.media-amazon.com/images/M/MV5BZTBmMj...</td>\n",
       "      <td>Lifeboat</td>\n",
       "      <td>1944</td>\n",
       "      <td>NaN</td>\n",
       "      <td>97 min</td>\n",
       "      <td>Drama, War</td>\n",
       "      <td>7.6</td>\n",
       "      <td>Several survivors of a torpedoed merchant ship...</td>\n",
       "      <td>78.0</td>\n",
       "      <td>Alfred Hitchcock</td>\n",
       "      <td>Tallulah Bankhead</td>\n",
       "      <td>John Hodiak</td>\n",
       "      <td>Walter Slezak</td>\n",
       "      <td>William Bendix</td>\n",
       "      <td>26471</td>\n",
       "      <td>NaN</td>\n",
       "    </tr>\n",
       "    <tr>\n",
       "      <th>999</th>\n",
       "      <td>https://m.media-amazon.com/images/M/MV5BMTY5OD...</td>\n",
       "      <td>The 39 Steps</td>\n",
       "      <td>1935</td>\n",
       "      <td>NaN</td>\n",
       "      <td>86 min</td>\n",
       "      <td>Crime, Mystery, Thriller</td>\n",
       "      <td>7.6</td>\n",
       "      <td>A man in London tries to help a counter-espion...</td>\n",
       "      <td>93.0</td>\n",
       "      <td>Alfred Hitchcock</td>\n",
       "      <td>Robert Donat</td>\n",
       "      <td>Madeleine Carroll</td>\n",
       "      <td>Lucie Mannheim</td>\n",
       "      <td>Godfrey Tearle</td>\n",
       "      <td>51853</td>\n",
       "      <td>NaN</td>\n",
       "    </tr>\n",
       "  </tbody>\n",
       "</table>\n",
       "</div>"
      ],
      "text/plain": [
       "                                           Poster_Link  \\\n",
       "995  https://m.media-amazon.com/images/M/MV5BNGEwMT...   \n",
       "996  https://m.media-amazon.com/images/M/MV5BODk3Yj...   \n",
       "997  https://m.media-amazon.com/images/M/MV5BM2U3Yz...   \n",
       "998  https://m.media-amazon.com/images/M/MV5BZTBmMj...   \n",
       "999  https://m.media-amazon.com/images/M/MV5BMTY5OD...   \n",
       "\n",
       "               Series_Title Released_Year Certificate  Runtime  \\\n",
       "995  Breakfast at Tiffany's          1961           A  115 min   \n",
       "996                   Giant          1956           G  201 min   \n",
       "997   From Here to Eternity          1953      Passed  118 min   \n",
       "998                Lifeboat          1944         NaN   97 min   \n",
       "999            The 39 Steps          1935         NaN   86 min   \n",
       "\n",
       "                        Genre  IMDB_Rating  \\\n",
       "995    Comedy, Drama, Romance          7.6   \n",
       "996            Drama, Western          7.6   \n",
       "997       Drama, Romance, War          7.6   \n",
       "998                Drama, War          7.6   \n",
       "999  Crime, Mystery, Thriller          7.6   \n",
       "\n",
       "                                              Overview  Meta_score  \\\n",
       "995  A young New York socialite becomes interested ...        76.0   \n",
       "996  Sprawling epic covering the life of a Texas ca...        84.0   \n",
       "997  In Hawaii in 1941, a private is cruelly punish...        85.0   \n",
       "998  Several survivors of a torpedoed merchant ship...        78.0   \n",
       "999  A man in London tries to help a counter-espion...        93.0   \n",
       "\n",
       "             Director              Star1              Star2           Star3  \\\n",
       "995     Blake Edwards     Audrey Hepburn     George Peppard   Patricia Neal   \n",
       "996    George Stevens   Elizabeth Taylor        Rock Hudson      James Dean   \n",
       "997    Fred Zinnemann     Burt Lancaster   Montgomery Clift    Deborah Kerr   \n",
       "998  Alfred Hitchcock  Tallulah Bankhead        John Hodiak   Walter Slezak   \n",
       "999  Alfred Hitchcock       Robert Donat  Madeleine Carroll  Lucie Mannheim   \n",
       "\n",
       "              Star4  No_of_Votes       Gross  \n",
       "995     Buddy Ebsen       166544         NaN  \n",
       "996   Carroll Baker        34075         NaN  \n",
       "997      Donna Reed        43374  30,500,000  \n",
       "998  William Bendix        26471         NaN  \n",
       "999  Godfrey Tearle        51853         NaN  "
      ]
     },
     "execution_count": 3,
     "metadata": {},
     "output_type": "execute_result"
    }
   ],
   "source": [
    "df.tail()"
   ]
  },
  {
   "cell_type": "code",
   "execution_count": 4,
   "metadata": {
    "execution": {
     "iopub.execute_input": "2021-10-14T15:40:26.315451Z",
     "iopub.status.busy": "2021-10-14T15:40:26.315179Z",
     "iopub.status.idle": "2021-10-14T15:40:26.333896Z",
     "shell.execute_reply": "2021-10-14T15:40:26.332725Z",
     "shell.execute_reply.started": "2021-10-14T15:40:26.315423Z"
    }
   },
   "outputs": [
    {
     "name": "stdout",
     "output_type": "stream",
     "text": [
      "<class 'pandas.core.frame.DataFrame'>\n",
      "RangeIndex: 1000 entries, 0 to 999\n",
      "Data columns (total 16 columns):\n",
      " #   Column         Non-Null Count  Dtype  \n",
      "---  ------         --------------  -----  \n",
      " 0   Poster_Link    1000 non-null   object \n",
      " 1   Series_Title   1000 non-null   object \n",
      " 2   Released_Year  1000 non-null   object \n",
      " 3   Certificate    899 non-null    object \n",
      " 4   Runtime        1000 non-null   object \n",
      " 5   Genre          1000 non-null   object \n",
      " 6   IMDB_Rating    1000 non-null   float64\n",
      " 7   Overview       1000 non-null   object \n",
      " 8   Meta_score     843 non-null    float64\n",
      " 9   Director       1000 non-null   object \n",
      " 10  Star1          1000 non-null   object \n",
      " 11  Star2          1000 non-null   object \n",
      " 12  Star3          1000 non-null   object \n",
      " 13  Star4          1000 non-null   object \n",
      " 14  No_of_Votes    1000 non-null   int64  \n",
      " 15  Gross          831 non-null    object \n",
      "dtypes: float64(2), int64(1), object(13)\n",
      "memory usage: 125.1+ KB\n"
     ]
    }
   ],
   "source": [
    "df.info()"
   ]
  },
  {
   "cell_type": "markdown",
   "metadata": {},
   "source": [
    "there's 3 numeric columns by now, gross should be numeric so i'm going to conver it . Runtime is numeric as well and will be converted as well.\n",
    "All in all there's 5 numeric values"
   ]
  },
  {
   "cell_type": "code",
   "execution_count": 5,
   "metadata": {
    "execution": {
     "iopub.execute_input": "2021-10-14T15:40:26.335904Z",
     "iopub.status.busy": "2021-10-14T15:40:26.335563Z",
     "iopub.status.idle": "2021-10-14T15:40:26.347861Z",
     "shell.execute_reply": "2021-10-14T15:40:26.346815Z",
     "shell.execute_reply.started": "2021-10-14T15:40:26.335861Z"
    }
   },
   "outputs": [],
   "source": [
    "df['Gross'] = df['Gross'].str.replace(',', '').astype('float')\n",
    "df['Runtime'] = df['Runtime'].apply(lambda text: text.split()[0]).astype('int')"
   ]
  },
  {
   "cell_type": "code",
   "execution_count": 6,
   "metadata": {
    "execution": {
     "iopub.execute_input": "2021-10-14T15:40:26.349566Z",
     "iopub.status.busy": "2021-10-14T15:40:26.349052Z",
     "iopub.status.idle": "2021-10-14T15:40:26.362900Z",
     "shell.execute_reply": "2021-10-14T15:40:26.361273Z",
     "shell.execute_reply.started": "2021-10-14T15:40:26.349523Z"
    }
   },
   "outputs": [
    {
     "data": {
      "text/plain": [
       "Poster_Link        0\n",
       "Series_Title       0\n",
       "Released_Year      0\n",
       "Certificate      101\n",
       "Runtime            0\n",
       "Genre              0\n",
       "IMDB_Rating        0\n",
       "Overview           0\n",
       "Meta_score       157\n",
       "Director           0\n",
       "Star1              0\n",
       "Star2              0\n",
       "Star3              0\n",
       "Star4              0\n",
       "No_of_Votes        0\n",
       "Gross            169\n",
       "dtype: int64"
      ]
     },
     "execution_count": 6,
     "metadata": {},
     "output_type": "execute_result"
    }
   ],
   "source": [
    "df.isnull().sum()"
   ]
  },
  {
   "cell_type": "markdown",
   "metadata": {},
   "source": [
    "There's null values in columns:\n",
    "\n",
    "* Certificate - replace null value with Unknown string\n",
    "* Meta_score - replace null values with mean\n",
    "* Gross - as with meta_score"
   ]
  },
  {
   "cell_type": "code",
   "execution_count": 7,
   "metadata": {
    "execution": {
     "iopub.execute_input": "2021-10-14T15:40:26.365323Z",
     "iopub.status.busy": "2021-10-14T15:40:26.364817Z",
     "iopub.status.idle": "2021-10-14T15:40:26.376551Z",
     "shell.execute_reply": "2021-10-14T15:40:26.375164Z",
     "shell.execute_reply.started": "2021-10-14T15:40:26.365282Z"
    }
   },
   "outputs": [],
   "source": [
    "df['Certificate'] = df['Certificate'].replace(np.nan, 'Unknown')\n",
    "df['Meta_score'] = df['Meta_score'].replace(np.nan, np.mean(df['Meta_score']))\n",
    "df['Gross'] = df['Gross'].replace(np.nan, np.mean(df['Gross']))"
   ]
  },
  {
   "cell_type": "code",
   "execution_count": 8,
   "metadata": {
    "execution": {
     "iopub.execute_input": "2021-10-14T15:40:26.378482Z",
     "iopub.status.busy": "2021-10-14T15:40:26.378162Z",
     "iopub.status.idle": "2021-10-14T15:40:26.393610Z",
     "shell.execute_reply": "2021-10-14T15:40:26.392453Z",
     "shell.execute_reply.started": "2021-10-14T15:40:26.378442Z"
    }
   },
   "outputs": [
    {
     "data": {
      "text/plain": [
       "Poster_Link      0\n",
       "Series_Title     0\n",
       "Released_Year    0\n",
       "Certificate      0\n",
       "Runtime          0\n",
       "Genre            0\n",
       "IMDB_Rating      0\n",
       "Overview         0\n",
       "Meta_score       0\n",
       "Director         0\n",
       "Star1            0\n",
       "Star2            0\n",
       "Star3            0\n",
       "Star4            0\n",
       "No_of_Votes      0\n",
       "Gross            0\n",
       "dtype: int64"
      ]
     },
     "execution_count": 8,
     "metadata": {},
     "output_type": "execute_result"
    }
   ],
   "source": [
    "df.isnull().sum()"
   ]
  },
  {
   "cell_type": "markdown",
   "metadata": {},
   "source": [
    "## 2. Data visualizations"
   ]
  },
  {
   "cell_type": "markdown",
   "metadata": {
    "execution": {
     "iopub.execute_input": "2021-10-14T08:31:43.170342Z",
     "iopub.status.busy": "2021-10-14T08:31:43.169524Z",
     "iopub.status.idle": "2021-10-14T08:31:43.199754Z",
     "shell.execute_reply": "2021-10-14T08:31:43.199126Z",
     "shell.execute_reply.started": "2021-10-14T08:31:43.170291Z"
    }
   },
   "source": [
    "* Movies count and year of the release"
   ]
  },
  {
   "cell_type": "code",
   "execution_count": 9,
   "metadata": {
    "execution": {
     "iopub.execute_input": "2021-10-14T15:40:26.395258Z",
     "iopub.status.busy": "2021-10-14T15:40:26.395007Z",
     "iopub.status.idle": "2021-10-14T15:40:26.487644Z",
     "shell.execute_reply": "2021-10-14T15:40:26.486734Z",
     "shell.execute_reply.started": "2021-10-14T15:40:26.395230Z"
    }
   },
   "outputs": [
    {
     "data": {
      "application/vnd.plotly.v1+json": {
       "config": {
        "plotlyServerURL": "https://plot.ly"
       },
       "data": [
        {
         "alignmentgroup": "True",
         "bingroup": "x",
         "hovertemplate": "Released_Year=%{x}<br>count=%{y}<extra></extra>",
         "legendgroup": "",
         "marker": {
          "color": "gold",
          "pattern": {
           "shape": ""
          }
         },
         "name": "",
         "offsetgroup": "",
         "orientation": "v",
         "showlegend": false,
         "type": "histogram",
         "x": [
          "1920",
          "1921",
          "1922",
          "1924",
          "1925",
          "1925",
          "1926",
          "1927",
          "1927",
          "1928",
          "1928",
          "1930",
          "1931",
          "1931",
          "1931",
          "1932",
          "1932",
          "1933",
          "1933",
          "1933",
          "1934",
          "1934",
          "1935",
          "1935",
          "1935",
          "1936",
          "1937",
          "1938",
          "1938",
          "1938",
          "1939",
          "1939",
          "1939",
          "1939",
          "1939",
          "1940",
          "1940",
          "1940",
          "1940",
          "1940",
          "1940",
          "1940",
          "1941",
          "1941",
          "1942",
          "1942",
          "1942",
          "1943",
          "1944",
          "1944",
          "1944",
          "1944",
          "1945",
          "1945",
          "1946",
          "1946",
          "1946",
          "1946",
          "1946",
          "1947",
          "1947",
          "1948",
          "1948",
          "1948",
          "1948",
          "1948",
          "1948",
          "1949",
          "1949",
          "1949",
          "1950",
          "1950",
          "1950",
          "1950",
          "1950",
          "1951",
          "1951",
          "1951",
          "1951",
          "1951",
          "1952",
          "1952",
          "1952",
          "1952",
          "1953",
          "1953",
          "1953",
          "1953",
          "1953",
          "1954",
          "1954",
          "1954",
          "1954",
          "1954",
          "1954",
          "1955",
          "1955",
          "1955",
          "1955",
          "1955",
          "1955",
          "1956",
          "1956",
          "1956",
          "1956",
          "1956",
          "1957",
          "1957",
          "1957",
          "1957",
          "1957",
          "1957",
          "1957",
          "1957",
          "1957",
          "1958",
          "1958",
          "1958",
          "1958",
          "1959",
          "1959",
          "1959",
          "1959",
          "1959",
          "1959",
          "1959",
          "1960",
          "1960",
          "1960",
          "1960",
          "1960",
          "1960",
          "1960",
          "1960",
          "1960",
          "1960",
          "1960",
          "1961",
          "1961",
          "1961",
          "1961",
          "1961",
          "1962",
          "1962",
          "1962",
          "1962",
          "1962",
          "1962",
          "1962",
          "1962",
          "1962",
          "1962",
          "1962",
          "1962",
          "1962",
          "1963",
          "1963",
          "1963",
          "1963",
          "1963",
          "1964",
          "1964",
          "1964",
          "1964",
          "1964",
          "1964",
          "1964",
          "1965",
          "1965",
          "1965",
          "1965",
          "1966",
          "1966",
          "1966",
          "1966",
          "1966",
          "1966",
          "1966",
          "1967",
          "1967",
          "1967",
          "1967",
          "1967",
          "1967",
          "1967",
          "1967",
          "1967",
          "1967",
          "1968",
          "1968",
          "1968",
          "1968",
          "1968",
          "1968",
          "1968",
          "1968",
          "1969",
          "1969",
          "1969",
          "1970",
          "1970",
          "1970",
          "1971",
          "1971",
          "1971",
          "1971",
          "1971",
          "1971",
          "1971",
          "1971",
          "1971",
          "1972",
          "1972",
          "1972",
          "1972",
          "1972",
          "1972",
          "1972",
          "1972",
          "1973",
          "1973",
          "1973",
          "1973",
          "1973",
          "1973",
          "1973",
          "1973",
          "1973",
          "1973",
          "1973",
          "1973",
          "1974",
          "1974",
          "1974",
          "1974",
          "1974",
          "1974",
          "1975",
          "1975",
          "1975",
          "1975",
          "1975",
          "1975",
          "1975",
          "1975",
          "1975",
          "1976",
          "1976",
          "1976",
          "1976",
          "1976",
          "1976",
          "1976",
          "1977",
          "1977",
          "1977",
          "1978",
          "1978",
          "1978",
          "1978",
          "1978",
          "1978",
          "1978",
          "1979",
          "1979",
          "1979",
          "1979",
          "1979",
          "1979",
          "1979",
          "1979",
          "1979",
          "1979",
          "1979",
          "1979",
          "1980",
          "1980",
          "1980",
          "1980",
          "1980",
          "1980",
          "1980",
          "1980",
          "1981",
          "1981",
          "1981",
          "1981",
          "1982",
          "1982",
          "1982",
          "1982",
          "1982",
          "1982",
          "1982",
          "1982",
          "1982",
          "1982",
          "1982",
          "1983",
          "1983",
          "1983",
          "1983",
          "1983",
          "1984",
          "1984",
          "1984",
          "1984",
          "1984",
          "1984",
          "1984",
          "1984",
          "1984",
          "1985",
          "1985",
          "1985",
          "1985",
          "1985",
          "1985",
          "1985",
          "1985",
          "1985",
          "1986",
          "1986",
          "1986",
          "1986",
          "1986",
          "1986",
          "1986",
          "1986",
          "1986",
          "1987",
          "1987",
          "1987",
          "1987",
          "1987",
          "1987",
          "1987",
          "1987",
          "1987",
          "1987",
          "1987",
          "1987",
          "1988",
          "1988",
          "1988",
          "1988",
          "1988",
          "1988",
          "1988",
          "1988",
          "1988",
          "1988",
          "1988",
          "1989",
          "1989",
          "1989",
          "1989",
          "1989",
          "1989",
          "1989",
          "1989",
          "1989",
          "1989",
          "1989",
          "1990",
          "1990",
          "1990",
          "1990",
          "1990",
          "1990",
          "1990",
          "1990",
          "1991",
          "1991",
          "1991",
          "1991",
          "1991",
          "1991",
          "1991",
          "1991",
          "1991",
          "1991",
          "1991",
          "1991",
          "1992",
          "1992",
          "1992",
          "1992",
          "1992",
          "1992",
          "1992",
          "1992",
          "1992",
          "1992",
          "1992",
          "1992",
          "1993",
          "1993",
          "1993",
          "1993",
          "1993",
          "1993",
          "1993",
          "1993",
          "1993",
          "1993",
          "1993",
          "1993",
          "1993",
          "1993",
          "1993",
          "1993",
          "1993",
          "1993",
          "1993",
          "1993",
          "1993",
          "1993",
          "1993",
          "1994",
          "1994",
          "1994",
          "1994",
          "1994",
          "1994",
          "1994",
          "1994",
          "1994",
          "1994",
          "1994",
          "1994",
          "1994",
          "1995",
          "1995",
          "1995",
          "1995",
          "1995",
          "1995",
          "1995",
          "1995",
          "1995",
          "1995",
          "1995",
          "1995",
          "1995",
          "1995",
          "1995",
          "1995",
          "1995",
          "1995",
          "1995",
          "1996",
          "1996",
          "1996",
          "1996",
          "1996",
          "1996",
          "1996",
          "1996",
          "1996",
          "1996",
          "1997",
          "1997",
          "1997",
          "1997",
          "1997",
          "1997",
          "1997",
          "1997",
          "1997",
          "1997",
          "1997",
          "1997",
          "1997",
          "1997",
          "1997",
          "1997",
          "1997",
          "1997",
          "1997",
          "1998",
          "1998",
          "1998",
          "1998",
          "1998",
          "1998",
          "1998",
          "1998",
          "1998",
          "1998",
          "1998",
          "1998",
          "1998",
          "1998",
          "1998",
          "1998",
          "1998",
          "1999",
          "1999",
          "1999",
          "1999",
          "1999",
          "1999",
          "1999",
          "1999",
          "1999",
          "1999",
          "1999",
          "1999",
          "1999",
          "1999",
          "1999",
          "1999",
          "1999",
          "2000",
          "2000",
          "2000",
          "2000",
          "2000",
          "2000",
          "2000",
          "2000",
          "2000",
          "2000",
          "2000",
          "2000",
          "2000",
          "2000",
          "2000",
          "2000",
          "2000",
          "2000",
          "2000",
          "2001",
          "2001",
          "2001",
          "2001",
          "2001",
          "2001",
          "2001",
          "2001",
          "2001",
          "2001",
          "2001",
          "2001",
          "2001",
          "2001",
          "2001",
          "2001",
          "2001",
          "2001",
          "2001",
          "2001",
          "2001",
          "2001",
          "2001",
          "2001",
          "2001",
          "2001",
          "2001",
          "2002",
          "2002",
          "2002",
          "2002",
          "2002",
          "2002",
          "2002",
          "2002",
          "2002",
          "2002",
          "2002",
          "2002",
          "2002",
          "2002",
          "2002",
          "2002",
          "2002",
          "2002",
          "2002",
          "2003",
          "2003",
          "2003",
          "2003",
          "2003",
          "2003",
          "2003",
          "2003",
          "2003",
          "2003",
          "2003",
          "2003",
          "2003",
          "2003",
          "2003",
          "2003",
          "2003",
          "2003",
          "2003",
          "2003",
          "2003",
          "2003",
          "2004",
          "2004",
          "2004",
          "2004",
          "2004",
          "2004",
          "2004",
          "2004",
          "2004",
          "2004",
          "2004",
          "2004",
          "2004",
          "2004",
          "2004",
          "2004",
          "2004",
          "2004",
          "2004",
          "2004",
          "2004",
          "2004",
          "2004",
          "2004",
          "2004",
          "2004",
          "2004",
          "2004",
          "2004",
          "2004",
          "2004",
          "2005",
          "2005",
          "2005",
          "2005",
          "2005",
          "2005",
          "2005",
          "2005",
          "2005",
          "2005",
          "2005",
          "2005",
          "2005",
          "2005",
          "2005",
          "2005",
          "2005",
          "2006",
          "2006",
          "2006",
          "2006",
          "2006",
          "2006",
          "2006",
          "2006",
          "2006",
          "2006",
          "2006",
          "2006",
          "2006",
          "2006",
          "2006",
          "2006",
          "2006",
          "2006",
          "2006",
          "2006",
          "2006",
          "2006",
          "2006",
          "2006",
          "2006",
          "2006",
          "2007",
          "2007",
          "2007",
          "2007",
          "2007",
          "2007",
          "2007",
          "2007",
          "2007",
          "2007",
          "2007",
          "2007",
          "2007",
          "2007",
          "2007",
          "2007",
          "2007",
          "2007",
          "2007",
          "2007",
          "2007",
          "2007",
          "2007",
          "2007",
          "2007",
          "2007",
          "2008",
          "2008",
          "2008",
          "2008",
          "2008",
          "2008",
          "2008",
          "2008",
          "2008",
          "2008",
          "2008",
          "2008",
          "2008",
          "2008",
          "2008",
          "2008",
          "2008",
          "2008",
          "2008",
          "2008",
          "2008",
          "2009",
          "2009",
          "2009",
          "2009",
          "2009",
          "2009",
          "2009",
          "2009",
          "2009",
          "2009",
          "2009",
          "2009",
          "2009",
          "2009",
          "2009",
          "2009",
          "2009",
          "2009",
          "2009",
          "2009",
          "2009",
          "2009",
          "2009",
          "2009",
          "2009",
          "2009",
          "2009",
          "2009",
          "2009",
          "2010",
          "2010",
          "2010",
          "2010",
          "2010",
          "2010",
          "2010",
          "2010",
          "2010",
          "2010",
          "2010",
          "2010",
          "2010",
          "2010",
          "2010",
          "2010",
          "2010",
          "2010",
          "2010",
          "2010",
          "2010",
          "2010",
          "2010",
          "2011",
          "2011",
          "2011",
          "2011",
          "2011",
          "2011",
          "2011",
          "2011",
          "2011",
          "2011",
          "2011",
          "2011",
          "2011",
          "2011",
          "2011",
          "2011",
          "2011",
          "2011",
          "2012",
          "2012",
          "2012",
          "2012",
          "2012",
          "2012",
          "2012",
          "2012",
          "2012",
          "2012",
          "2012",
          "2012",
          "2012",
          "2012",
          "2012",
          "2012",
          "2012",
          "2012",
          "2012",
          "2012",
          "2012",
          "2012",
          "2012",
          "2012",
          "2013",
          "2013",
          "2013",
          "2013",
          "2013",
          "2013",
          "2013",
          "2013",
          "2013",
          "2013",
          "2013",
          "2013",
          "2013",
          "2013",
          "2013",
          "2013",
          "2013",
          "2013",
          "2013",
          "2013",
          "2013",
          "2013",
          "2013",
          "2013",
          "2013",
          "2013",
          "2013",
          "2013",
          "2014",
          "2014",
          "2014",
          "2014",
          "2014",
          "2014",
          "2014",
          "2014",
          "2014",
          "2014",
          "2014",
          "2014",
          "2014",
          "2014",
          "2014",
          "2014",
          "2014",
          "2014",
          "2014",
          "2014",
          "2014",
          "2014",
          "2014",
          "2014",
          "2014",
          "2014",
          "2014",
          "2014",
          "2014",
          "2014",
          "2014",
          "2014",
          "2015",
          "2015",
          "2015",
          "2015",
          "2015",
          "2015",
          "2015",
          "2015",
          "2015",
          "2015",
          "2015",
          "2015",
          "2015",
          "2015",
          "2015",
          "2015",
          "2015",
          "2015",
          "2015",
          "2015",
          "2015",
          "2015",
          "2015",
          "2015",
          "2015",
          "2016",
          "2016",
          "2016",
          "2016",
          "2016",
          "2016",
          "2016",
          "2016",
          "2016",
          "2016",
          "2016",
          "2016",
          "2016",
          "2016",
          "2016",
          "2016",
          "2016",
          "2016",
          "2016",
          "2016",
          "2016",
          "2016",
          "2016",
          "2016",
          "2016",
          "2016",
          "2016",
          "2016",
          "2017",
          "2017",
          "2017",
          "2017",
          "2017",
          "2017",
          "2017",
          "2017",
          "2017",
          "2017",
          "2017",
          "2017",
          "2017",
          "2017",
          "2017",
          "2017",
          "2017",
          "2017",
          "2017",
          "2017",
          "2017",
          "2017",
          "2018",
          "2018",
          "2018",
          "2018",
          "2018",
          "2018",
          "2018",
          "2018",
          "2018",
          "2018",
          "2018",
          "2018",
          "2018",
          "2018",
          "2018",
          "2018",
          "2018",
          "2018",
          "2018",
          "2019",
          "2019",
          "2019",
          "2019",
          "2019",
          "2019",
          "2019",
          "2019",
          "2019",
          "2019",
          "2019",
          "2019",
          "2019",
          "2019",
          "2019",
          "2019",
          "2019",
          "2019",
          "2019",
          "2019",
          "2019",
          "2019",
          "2019",
          "2020",
          "2020",
          "2020",
          "2020",
          "2020",
          "2020",
          "PG"
         ],
         "xaxis": "x",
         "yaxis": "y"
        }
       ],
       "layout": {
        "barmode": "relative",
        "font": {
         "color": "white",
         "family": "Lato",
         "size": 18
        },
        "legend": {
         "tracegroupgap": 0
        },
        "margin": {
         "t": 60
        },
        "paper_bgcolor": "black",
        "plot_bgcolor": "black",
        "template": {
         "data": {
          "bar": [
           {
            "error_x": {
             "color": "#2a3f5f"
            },
            "error_y": {
             "color": "#2a3f5f"
            },
            "marker": {
             "line": {
              "color": "#E5ECF6",
              "width": 0.5
             },
             "pattern": {
              "fillmode": "overlay",
              "size": 10,
              "solidity": 0.2
             }
            },
            "type": "bar"
           }
          ],
          "barpolar": [
           {
            "marker": {
             "line": {
              "color": "#E5ECF6",
              "width": 0.5
             },
             "pattern": {
              "fillmode": "overlay",
              "size": 10,
              "solidity": 0.2
             }
            },
            "type": "barpolar"
           }
          ],
          "carpet": [
           {
            "aaxis": {
             "endlinecolor": "#2a3f5f",
             "gridcolor": "white",
             "linecolor": "white",
             "minorgridcolor": "white",
             "startlinecolor": "#2a3f5f"
            },
            "baxis": {
             "endlinecolor": "#2a3f5f",
             "gridcolor": "white",
             "linecolor": "white",
             "minorgridcolor": "white",
             "startlinecolor": "#2a3f5f"
            },
            "type": "carpet"
           }
          ],
          "choropleth": [
           {
            "colorbar": {
             "outlinewidth": 0,
             "ticks": ""
            },
            "type": "choropleth"
           }
          ],
          "contour": [
           {
            "colorbar": {
             "outlinewidth": 0,
             "ticks": ""
            },
            "colorscale": [
             [
              0,
              "#0d0887"
             ],
             [
              0.1111111111111111,
              "#46039f"
             ],
             [
              0.2222222222222222,
              "#7201a8"
             ],
             [
              0.3333333333333333,
              "#9c179e"
             ],
             [
              0.4444444444444444,
              "#bd3786"
             ],
             [
              0.5555555555555556,
              "#d8576b"
             ],
             [
              0.6666666666666666,
              "#ed7953"
             ],
             [
              0.7777777777777778,
              "#fb9f3a"
             ],
             [
              0.8888888888888888,
              "#fdca26"
             ],
             [
              1,
              "#f0f921"
             ]
            ],
            "type": "contour"
           }
          ],
          "contourcarpet": [
           {
            "colorbar": {
             "outlinewidth": 0,
             "ticks": ""
            },
            "type": "contourcarpet"
           }
          ],
          "heatmap": [
           {
            "colorbar": {
             "outlinewidth": 0,
             "ticks": ""
            },
            "colorscale": [
             [
              0,
              "#0d0887"
             ],
             [
              0.1111111111111111,
              "#46039f"
             ],
             [
              0.2222222222222222,
              "#7201a8"
             ],
             [
              0.3333333333333333,
              "#9c179e"
             ],
             [
              0.4444444444444444,
              "#bd3786"
             ],
             [
              0.5555555555555556,
              "#d8576b"
             ],
             [
              0.6666666666666666,
              "#ed7953"
             ],
             [
              0.7777777777777778,
              "#fb9f3a"
             ],
             [
              0.8888888888888888,
              "#fdca26"
             ],
             [
              1,
              "#f0f921"
             ]
            ],
            "type": "heatmap"
           }
          ],
          "heatmapgl": [
           {
            "colorbar": {
             "outlinewidth": 0,
             "ticks": ""
            },
            "colorscale": [
             [
              0,
              "#0d0887"
             ],
             [
              0.1111111111111111,
              "#46039f"
             ],
             [
              0.2222222222222222,
              "#7201a8"
             ],
             [
              0.3333333333333333,
              "#9c179e"
             ],
             [
              0.4444444444444444,
              "#bd3786"
             ],
             [
              0.5555555555555556,
              "#d8576b"
             ],
             [
              0.6666666666666666,
              "#ed7953"
             ],
             [
              0.7777777777777778,
              "#fb9f3a"
             ],
             [
              0.8888888888888888,
              "#fdca26"
             ],
             [
              1,
              "#f0f921"
             ]
            ],
            "type": "heatmapgl"
           }
          ],
          "histogram": [
           {
            "marker": {
             "pattern": {
              "fillmode": "overlay",
              "size": 10,
              "solidity": 0.2
             }
            },
            "type": "histogram"
           }
          ],
          "histogram2d": [
           {
            "colorbar": {
             "outlinewidth": 0,
             "ticks": ""
            },
            "colorscale": [
             [
              0,
              "#0d0887"
             ],
             [
              0.1111111111111111,
              "#46039f"
             ],
             [
              0.2222222222222222,
              "#7201a8"
             ],
             [
              0.3333333333333333,
              "#9c179e"
             ],
             [
              0.4444444444444444,
              "#bd3786"
             ],
             [
              0.5555555555555556,
              "#d8576b"
             ],
             [
              0.6666666666666666,
              "#ed7953"
             ],
             [
              0.7777777777777778,
              "#fb9f3a"
             ],
             [
              0.8888888888888888,
              "#fdca26"
             ],
             [
              1,
              "#f0f921"
             ]
            ],
            "type": "histogram2d"
           }
          ],
          "histogram2dcontour": [
           {
            "colorbar": {
             "outlinewidth": 0,
             "ticks": ""
            },
            "colorscale": [
             [
              0,
              "#0d0887"
             ],
             [
              0.1111111111111111,
              "#46039f"
             ],
             [
              0.2222222222222222,
              "#7201a8"
             ],
             [
              0.3333333333333333,
              "#9c179e"
             ],
             [
              0.4444444444444444,
              "#bd3786"
             ],
             [
              0.5555555555555556,
              "#d8576b"
             ],
             [
              0.6666666666666666,
              "#ed7953"
             ],
             [
              0.7777777777777778,
              "#fb9f3a"
             ],
             [
              0.8888888888888888,
              "#fdca26"
             ],
             [
              1,
              "#f0f921"
             ]
            ],
            "type": "histogram2dcontour"
           }
          ],
          "mesh3d": [
           {
            "colorbar": {
             "outlinewidth": 0,
             "ticks": ""
            },
            "type": "mesh3d"
           }
          ],
          "parcoords": [
           {
            "line": {
             "colorbar": {
              "outlinewidth": 0,
              "ticks": ""
             }
            },
            "type": "parcoords"
           }
          ],
          "pie": [
           {
            "automargin": true,
            "type": "pie"
           }
          ],
          "scatter": [
           {
            "marker": {
             "colorbar": {
              "outlinewidth": 0,
              "ticks": ""
             }
            },
            "type": "scatter"
           }
          ],
          "scatter3d": [
           {
            "line": {
             "colorbar": {
              "outlinewidth": 0,
              "ticks": ""
             }
            },
            "marker": {
             "colorbar": {
              "outlinewidth": 0,
              "ticks": ""
             }
            },
            "type": "scatter3d"
           }
          ],
          "scattercarpet": [
           {
            "marker": {
             "colorbar": {
              "outlinewidth": 0,
              "ticks": ""
             }
            },
            "type": "scattercarpet"
           }
          ],
          "scattergeo": [
           {
            "marker": {
             "colorbar": {
              "outlinewidth": 0,
              "ticks": ""
             }
            },
            "type": "scattergeo"
           }
          ],
          "scattergl": [
           {
            "marker": {
             "colorbar": {
              "outlinewidth": 0,
              "ticks": ""
             }
            },
            "type": "scattergl"
           }
          ],
          "scattermapbox": [
           {
            "marker": {
             "colorbar": {
              "outlinewidth": 0,
              "ticks": ""
             }
            },
            "type": "scattermapbox"
           }
          ],
          "scatterpolar": [
           {
            "marker": {
             "colorbar": {
              "outlinewidth": 0,
              "ticks": ""
             }
            },
            "type": "scatterpolar"
           }
          ],
          "scatterpolargl": [
           {
            "marker": {
             "colorbar": {
              "outlinewidth": 0,
              "ticks": ""
             }
            },
            "type": "scatterpolargl"
           }
          ],
          "scatterternary": [
           {
            "marker": {
             "colorbar": {
              "outlinewidth": 0,
              "ticks": ""
             }
            },
            "type": "scatterternary"
           }
          ],
          "surface": [
           {
            "colorbar": {
             "outlinewidth": 0,
             "ticks": ""
            },
            "colorscale": [
             [
              0,
              "#0d0887"
             ],
             [
              0.1111111111111111,
              "#46039f"
             ],
             [
              0.2222222222222222,
              "#7201a8"
             ],
             [
              0.3333333333333333,
              "#9c179e"
             ],
             [
              0.4444444444444444,
              "#bd3786"
             ],
             [
              0.5555555555555556,
              "#d8576b"
             ],
             [
              0.6666666666666666,
              "#ed7953"
             ],
             [
              0.7777777777777778,
              "#fb9f3a"
             ],
             [
              0.8888888888888888,
              "#fdca26"
             ],
             [
              1,
              "#f0f921"
             ]
            ],
            "type": "surface"
           }
          ],
          "table": [
           {
            "cells": {
             "fill": {
              "color": "#EBF0F8"
             },
             "line": {
              "color": "white"
             }
            },
            "header": {
             "fill": {
              "color": "#C8D4E3"
             },
             "line": {
              "color": "white"
             }
            },
            "type": "table"
           }
          ]
         },
         "layout": {
          "annotationdefaults": {
           "arrowcolor": "#2a3f5f",
           "arrowhead": 0,
           "arrowwidth": 1
          },
          "autotypenumbers": "strict",
          "coloraxis": {
           "colorbar": {
            "outlinewidth": 0,
            "ticks": ""
           }
          },
          "colorscale": {
           "diverging": [
            [
             0,
             "#8e0152"
            ],
            [
             0.1,
             "#c51b7d"
            ],
            [
             0.2,
             "#de77ae"
            ],
            [
             0.3,
             "#f1b6da"
            ],
            [
             0.4,
             "#fde0ef"
            ],
            [
             0.5,
             "#f7f7f7"
            ],
            [
             0.6,
             "#e6f5d0"
            ],
            [
             0.7,
             "#b8e186"
            ],
            [
             0.8,
             "#7fbc41"
            ],
            [
             0.9,
             "#4d9221"
            ],
            [
             1,
             "#276419"
            ]
           ],
           "sequential": [
            [
             0,
             "#0d0887"
            ],
            [
             0.1111111111111111,
             "#46039f"
            ],
            [
             0.2222222222222222,
             "#7201a8"
            ],
            [
             0.3333333333333333,
             "#9c179e"
            ],
            [
             0.4444444444444444,
             "#bd3786"
            ],
            [
             0.5555555555555556,
             "#d8576b"
            ],
            [
             0.6666666666666666,
             "#ed7953"
            ],
            [
             0.7777777777777778,
             "#fb9f3a"
            ],
            [
             0.8888888888888888,
             "#fdca26"
            ],
            [
             1,
             "#f0f921"
            ]
           ],
           "sequentialminus": [
            [
             0,
             "#0d0887"
            ],
            [
             0.1111111111111111,
             "#46039f"
            ],
            [
             0.2222222222222222,
             "#7201a8"
            ],
            [
             0.3333333333333333,
             "#9c179e"
            ],
            [
             0.4444444444444444,
             "#bd3786"
            ],
            [
             0.5555555555555556,
             "#d8576b"
            ],
            [
             0.6666666666666666,
             "#ed7953"
            ],
            [
             0.7777777777777778,
             "#fb9f3a"
            ],
            [
             0.8888888888888888,
             "#fdca26"
            ],
            [
             1,
             "#f0f921"
            ]
           ]
          },
          "colorway": [
           "#636efa",
           "#EF553B",
           "#00cc96",
           "#ab63fa",
           "#FFA15A",
           "#19d3f3",
           "#FF6692",
           "#B6E880",
           "#FF97FF",
           "#FECB52"
          ],
          "font": {
           "color": "#2a3f5f"
          },
          "geo": {
           "bgcolor": "white",
           "lakecolor": "white",
           "landcolor": "#E5ECF6",
           "showlakes": true,
           "showland": true,
           "subunitcolor": "white"
          },
          "hoverlabel": {
           "align": "left"
          },
          "hovermode": "closest",
          "mapbox": {
           "style": "light"
          },
          "paper_bgcolor": "white",
          "plot_bgcolor": "#E5ECF6",
          "polar": {
           "angularaxis": {
            "gridcolor": "white",
            "linecolor": "white",
            "ticks": ""
           },
           "bgcolor": "#E5ECF6",
           "radialaxis": {
            "gridcolor": "white",
            "linecolor": "white",
            "ticks": ""
           }
          },
          "scene": {
           "xaxis": {
            "backgroundcolor": "#E5ECF6",
            "gridcolor": "white",
            "gridwidth": 2,
            "linecolor": "white",
            "showbackground": true,
            "ticks": "",
            "zerolinecolor": "white"
           },
           "yaxis": {
            "backgroundcolor": "#E5ECF6",
            "gridcolor": "white",
            "gridwidth": 2,
            "linecolor": "white",
            "showbackground": true,
            "ticks": "",
            "zerolinecolor": "white"
           },
           "zaxis": {
            "backgroundcolor": "#E5ECF6",
            "gridcolor": "white",
            "gridwidth": 2,
            "linecolor": "white",
            "showbackground": true,
            "ticks": "",
            "zerolinecolor": "white"
           }
          },
          "shapedefaults": {
           "line": {
            "color": "#2a3f5f"
           }
          },
          "ternary": {
           "aaxis": {
            "gridcolor": "white",
            "linecolor": "white",
            "ticks": ""
           },
           "baxis": {
            "gridcolor": "white",
            "linecolor": "white",
            "ticks": ""
           },
           "bgcolor": "#E5ECF6",
           "caxis": {
            "gridcolor": "white",
            "linecolor": "white",
            "ticks": ""
           }
          },
          "title": {
           "x": 0.05
          },
          "xaxis": {
           "automargin": true,
           "gridcolor": "white",
           "linecolor": "white",
           "ticks": "",
           "title": {
            "standoff": 15
           },
           "zerolinecolor": "white",
           "zerolinewidth": 2
          },
          "yaxis": {
           "automargin": true,
           "gridcolor": "white",
           "linecolor": "white",
           "ticks": "",
           "title": {
            "standoff": 15
           },
           "zerolinecolor": "white",
           "zerolinewidth": 2
          }
         }
        },
        "title": {
         "font": {
          "size": 30
         },
         "text": "<b>Distributions of IMBD movies from<b> 1920 - now",
         "x": 0.5
        },
        "xaxis": {
         "anchor": "y",
         "domain": [
          0,
          1
         ],
         "showgrid": false,
         "title": {
          "text": "Year of release"
         }
        },
        "yaxis": {
         "anchor": "x",
         "domain": [
          0,
          1
         ],
         "showgrid": false,
         "title": {
          "text": "count"
         }
        }
       }
      },
      "text/html": [
       "<div>                            <div id=\"1fa48137-f8ee-483f-b5bc-2d928f2e2f8f\" class=\"plotly-graph-div\" style=\"height:525px; width:100%;\"></div>            <script type=\"text/javascript\">                require([\"plotly\"], function(Plotly) {                    window.PLOTLYENV=window.PLOTLYENV || {};                                    if (document.getElementById(\"1fa48137-f8ee-483f-b5bc-2d928f2e2f8f\")) {                    Plotly.newPlot(                        \"1fa48137-f8ee-483f-b5bc-2d928f2e2f8f\",                        [{\"alignmentgroup\":\"True\",\"bingroup\":\"x\",\"hovertemplate\":\"Released_Year=%{x}<br>count=%{y}<extra></extra>\",\"legendgroup\":\"\",\"marker\":{\"color\":\"gold\",\"pattern\":{\"shape\":\"\"}},\"name\":\"\",\"offsetgroup\":\"\",\"orientation\":\"v\",\"showlegend\":false,\"x\":[\"1920\",\"1921\",\"1922\",\"1924\",\"1925\",\"1925\",\"1926\",\"1927\",\"1927\",\"1928\",\"1928\",\"1930\",\"1931\",\"1931\",\"1931\",\"1932\",\"1932\",\"1933\",\"1933\",\"1933\",\"1934\",\"1934\",\"1935\",\"1935\",\"1935\",\"1936\",\"1937\",\"1938\",\"1938\",\"1938\",\"1939\",\"1939\",\"1939\",\"1939\",\"1939\",\"1940\",\"1940\",\"1940\",\"1940\",\"1940\",\"1940\",\"1940\",\"1941\",\"1941\",\"1942\",\"1942\",\"1942\",\"1943\",\"1944\",\"1944\",\"1944\",\"1944\",\"1945\",\"1945\",\"1946\",\"1946\",\"1946\",\"1946\",\"1946\",\"1947\",\"1947\",\"1948\",\"1948\",\"1948\",\"1948\",\"1948\",\"1948\",\"1949\",\"1949\",\"1949\",\"1950\",\"1950\",\"1950\",\"1950\",\"1950\",\"1951\",\"1951\",\"1951\",\"1951\",\"1951\",\"1952\",\"1952\",\"1952\",\"1952\",\"1953\",\"1953\",\"1953\",\"1953\",\"1953\",\"1954\",\"1954\",\"1954\",\"1954\",\"1954\",\"1954\",\"1955\",\"1955\",\"1955\",\"1955\",\"1955\",\"1955\",\"1956\",\"1956\",\"1956\",\"1956\",\"1956\",\"1957\",\"1957\",\"1957\",\"1957\",\"1957\",\"1957\",\"1957\",\"1957\",\"1957\",\"1958\",\"1958\",\"1958\",\"1958\",\"1959\",\"1959\",\"1959\",\"1959\",\"1959\",\"1959\",\"1959\",\"1960\",\"1960\",\"1960\",\"1960\",\"1960\",\"1960\",\"1960\",\"1960\",\"1960\",\"1960\",\"1960\",\"1961\",\"1961\",\"1961\",\"1961\",\"1961\",\"1962\",\"1962\",\"1962\",\"1962\",\"1962\",\"1962\",\"1962\",\"1962\",\"1962\",\"1962\",\"1962\",\"1962\",\"1962\",\"1963\",\"1963\",\"1963\",\"1963\",\"1963\",\"1964\",\"1964\",\"1964\",\"1964\",\"1964\",\"1964\",\"1964\",\"1965\",\"1965\",\"1965\",\"1965\",\"1966\",\"1966\",\"1966\",\"1966\",\"1966\",\"1966\",\"1966\",\"1967\",\"1967\",\"1967\",\"1967\",\"1967\",\"1967\",\"1967\",\"1967\",\"1967\",\"1967\",\"1968\",\"1968\",\"1968\",\"1968\",\"1968\",\"1968\",\"1968\",\"1968\",\"1969\",\"1969\",\"1969\",\"1970\",\"1970\",\"1970\",\"1971\",\"1971\",\"1971\",\"1971\",\"1971\",\"1971\",\"1971\",\"1971\",\"1971\",\"1972\",\"1972\",\"1972\",\"1972\",\"1972\",\"1972\",\"1972\",\"1972\",\"1973\",\"1973\",\"1973\",\"1973\",\"1973\",\"1973\",\"1973\",\"1973\",\"1973\",\"1973\",\"1973\",\"1973\",\"1974\",\"1974\",\"1974\",\"1974\",\"1974\",\"1974\",\"1975\",\"1975\",\"1975\",\"1975\",\"1975\",\"1975\",\"1975\",\"1975\",\"1975\",\"1976\",\"1976\",\"1976\",\"1976\",\"1976\",\"1976\",\"1976\",\"1977\",\"1977\",\"1977\",\"1978\",\"1978\",\"1978\",\"1978\",\"1978\",\"1978\",\"1978\",\"1979\",\"1979\",\"1979\",\"1979\",\"1979\",\"1979\",\"1979\",\"1979\",\"1979\",\"1979\",\"1979\",\"1979\",\"1980\",\"1980\",\"1980\",\"1980\",\"1980\",\"1980\",\"1980\",\"1980\",\"1981\",\"1981\",\"1981\",\"1981\",\"1982\",\"1982\",\"1982\",\"1982\",\"1982\",\"1982\",\"1982\",\"1982\",\"1982\",\"1982\",\"1982\",\"1983\",\"1983\",\"1983\",\"1983\",\"1983\",\"1984\",\"1984\",\"1984\",\"1984\",\"1984\",\"1984\",\"1984\",\"1984\",\"1984\",\"1985\",\"1985\",\"1985\",\"1985\",\"1985\",\"1985\",\"1985\",\"1985\",\"1985\",\"1986\",\"1986\",\"1986\",\"1986\",\"1986\",\"1986\",\"1986\",\"1986\",\"1986\",\"1987\",\"1987\",\"1987\",\"1987\",\"1987\",\"1987\",\"1987\",\"1987\",\"1987\",\"1987\",\"1987\",\"1987\",\"1988\",\"1988\",\"1988\",\"1988\",\"1988\",\"1988\",\"1988\",\"1988\",\"1988\",\"1988\",\"1988\",\"1989\",\"1989\",\"1989\",\"1989\",\"1989\",\"1989\",\"1989\",\"1989\",\"1989\",\"1989\",\"1989\",\"1990\",\"1990\",\"1990\",\"1990\",\"1990\",\"1990\",\"1990\",\"1990\",\"1991\",\"1991\",\"1991\",\"1991\",\"1991\",\"1991\",\"1991\",\"1991\",\"1991\",\"1991\",\"1991\",\"1991\",\"1992\",\"1992\",\"1992\",\"1992\",\"1992\",\"1992\",\"1992\",\"1992\",\"1992\",\"1992\",\"1992\",\"1992\",\"1993\",\"1993\",\"1993\",\"1993\",\"1993\",\"1993\",\"1993\",\"1993\",\"1993\",\"1993\",\"1993\",\"1993\",\"1993\",\"1993\",\"1993\",\"1993\",\"1993\",\"1993\",\"1993\",\"1993\",\"1993\",\"1993\",\"1993\",\"1994\",\"1994\",\"1994\",\"1994\",\"1994\",\"1994\",\"1994\",\"1994\",\"1994\",\"1994\",\"1994\",\"1994\",\"1994\",\"1995\",\"1995\",\"1995\",\"1995\",\"1995\",\"1995\",\"1995\",\"1995\",\"1995\",\"1995\",\"1995\",\"1995\",\"1995\",\"1995\",\"1995\",\"1995\",\"1995\",\"1995\",\"1995\",\"1996\",\"1996\",\"1996\",\"1996\",\"1996\",\"1996\",\"1996\",\"1996\",\"1996\",\"1996\",\"1997\",\"1997\",\"1997\",\"1997\",\"1997\",\"1997\",\"1997\",\"1997\",\"1997\",\"1997\",\"1997\",\"1997\",\"1997\",\"1997\",\"1997\",\"1997\",\"1997\",\"1997\",\"1997\",\"1998\",\"1998\",\"1998\",\"1998\",\"1998\",\"1998\",\"1998\",\"1998\",\"1998\",\"1998\",\"1998\",\"1998\",\"1998\",\"1998\",\"1998\",\"1998\",\"1998\",\"1999\",\"1999\",\"1999\",\"1999\",\"1999\",\"1999\",\"1999\",\"1999\",\"1999\",\"1999\",\"1999\",\"1999\",\"1999\",\"1999\",\"1999\",\"1999\",\"1999\",\"2000\",\"2000\",\"2000\",\"2000\",\"2000\",\"2000\",\"2000\",\"2000\",\"2000\",\"2000\",\"2000\",\"2000\",\"2000\",\"2000\",\"2000\",\"2000\",\"2000\",\"2000\",\"2000\",\"2001\",\"2001\",\"2001\",\"2001\",\"2001\",\"2001\",\"2001\",\"2001\",\"2001\",\"2001\",\"2001\",\"2001\",\"2001\",\"2001\",\"2001\",\"2001\",\"2001\",\"2001\",\"2001\",\"2001\",\"2001\",\"2001\",\"2001\",\"2001\",\"2001\",\"2001\",\"2001\",\"2002\",\"2002\",\"2002\",\"2002\",\"2002\",\"2002\",\"2002\",\"2002\",\"2002\",\"2002\",\"2002\",\"2002\",\"2002\",\"2002\",\"2002\",\"2002\",\"2002\",\"2002\",\"2002\",\"2003\",\"2003\",\"2003\",\"2003\",\"2003\",\"2003\",\"2003\",\"2003\",\"2003\",\"2003\",\"2003\",\"2003\",\"2003\",\"2003\",\"2003\",\"2003\",\"2003\",\"2003\",\"2003\",\"2003\",\"2003\",\"2003\",\"2004\",\"2004\",\"2004\",\"2004\",\"2004\",\"2004\",\"2004\",\"2004\",\"2004\",\"2004\",\"2004\",\"2004\",\"2004\",\"2004\",\"2004\",\"2004\",\"2004\",\"2004\",\"2004\",\"2004\",\"2004\",\"2004\",\"2004\",\"2004\",\"2004\",\"2004\",\"2004\",\"2004\",\"2004\",\"2004\",\"2004\",\"2005\",\"2005\",\"2005\",\"2005\",\"2005\",\"2005\",\"2005\",\"2005\",\"2005\",\"2005\",\"2005\",\"2005\",\"2005\",\"2005\",\"2005\",\"2005\",\"2005\",\"2006\",\"2006\",\"2006\",\"2006\",\"2006\",\"2006\",\"2006\",\"2006\",\"2006\",\"2006\",\"2006\",\"2006\",\"2006\",\"2006\",\"2006\",\"2006\",\"2006\",\"2006\",\"2006\",\"2006\",\"2006\",\"2006\",\"2006\",\"2006\",\"2006\",\"2006\",\"2007\",\"2007\",\"2007\",\"2007\",\"2007\",\"2007\",\"2007\",\"2007\",\"2007\",\"2007\",\"2007\",\"2007\",\"2007\",\"2007\",\"2007\",\"2007\",\"2007\",\"2007\",\"2007\",\"2007\",\"2007\",\"2007\",\"2007\",\"2007\",\"2007\",\"2007\",\"2008\",\"2008\",\"2008\",\"2008\",\"2008\",\"2008\",\"2008\",\"2008\",\"2008\",\"2008\",\"2008\",\"2008\",\"2008\",\"2008\",\"2008\",\"2008\",\"2008\",\"2008\",\"2008\",\"2008\",\"2008\",\"2009\",\"2009\",\"2009\",\"2009\",\"2009\",\"2009\",\"2009\",\"2009\",\"2009\",\"2009\",\"2009\",\"2009\",\"2009\",\"2009\",\"2009\",\"2009\",\"2009\",\"2009\",\"2009\",\"2009\",\"2009\",\"2009\",\"2009\",\"2009\",\"2009\",\"2009\",\"2009\",\"2009\",\"2009\",\"2010\",\"2010\",\"2010\",\"2010\",\"2010\",\"2010\",\"2010\",\"2010\",\"2010\",\"2010\",\"2010\",\"2010\",\"2010\",\"2010\",\"2010\",\"2010\",\"2010\",\"2010\",\"2010\",\"2010\",\"2010\",\"2010\",\"2010\",\"2011\",\"2011\",\"2011\",\"2011\",\"2011\",\"2011\",\"2011\",\"2011\",\"2011\",\"2011\",\"2011\",\"2011\",\"2011\",\"2011\",\"2011\",\"2011\",\"2011\",\"2011\",\"2012\",\"2012\",\"2012\",\"2012\",\"2012\",\"2012\",\"2012\",\"2012\",\"2012\",\"2012\",\"2012\",\"2012\",\"2012\",\"2012\",\"2012\",\"2012\",\"2012\",\"2012\",\"2012\",\"2012\",\"2012\",\"2012\",\"2012\",\"2012\",\"2013\",\"2013\",\"2013\",\"2013\",\"2013\",\"2013\",\"2013\",\"2013\",\"2013\",\"2013\",\"2013\",\"2013\",\"2013\",\"2013\",\"2013\",\"2013\",\"2013\",\"2013\",\"2013\",\"2013\",\"2013\",\"2013\",\"2013\",\"2013\",\"2013\",\"2013\",\"2013\",\"2013\",\"2014\",\"2014\",\"2014\",\"2014\",\"2014\",\"2014\",\"2014\",\"2014\",\"2014\",\"2014\",\"2014\",\"2014\",\"2014\",\"2014\",\"2014\",\"2014\",\"2014\",\"2014\",\"2014\",\"2014\",\"2014\",\"2014\",\"2014\",\"2014\",\"2014\",\"2014\",\"2014\",\"2014\",\"2014\",\"2014\",\"2014\",\"2014\",\"2015\",\"2015\",\"2015\",\"2015\",\"2015\",\"2015\",\"2015\",\"2015\",\"2015\",\"2015\",\"2015\",\"2015\",\"2015\",\"2015\",\"2015\",\"2015\",\"2015\",\"2015\",\"2015\",\"2015\",\"2015\",\"2015\",\"2015\",\"2015\",\"2015\",\"2016\",\"2016\",\"2016\",\"2016\",\"2016\",\"2016\",\"2016\",\"2016\",\"2016\",\"2016\",\"2016\",\"2016\",\"2016\",\"2016\",\"2016\",\"2016\",\"2016\",\"2016\",\"2016\",\"2016\",\"2016\",\"2016\",\"2016\",\"2016\",\"2016\",\"2016\",\"2016\",\"2016\",\"2017\",\"2017\",\"2017\",\"2017\",\"2017\",\"2017\",\"2017\",\"2017\",\"2017\",\"2017\",\"2017\",\"2017\",\"2017\",\"2017\",\"2017\",\"2017\",\"2017\",\"2017\",\"2017\",\"2017\",\"2017\",\"2017\",\"2018\",\"2018\",\"2018\",\"2018\",\"2018\",\"2018\",\"2018\",\"2018\",\"2018\",\"2018\",\"2018\",\"2018\",\"2018\",\"2018\",\"2018\",\"2018\",\"2018\",\"2018\",\"2018\",\"2019\",\"2019\",\"2019\",\"2019\",\"2019\",\"2019\",\"2019\",\"2019\",\"2019\",\"2019\",\"2019\",\"2019\",\"2019\",\"2019\",\"2019\",\"2019\",\"2019\",\"2019\",\"2019\",\"2019\",\"2019\",\"2019\",\"2019\",\"2020\",\"2020\",\"2020\",\"2020\",\"2020\",\"2020\",\"PG\"],\"xaxis\":\"x\",\"yaxis\":\"y\",\"type\":\"histogram\"}],                        {\"template\":{\"data\":{\"bar\":[{\"error_x\":{\"color\":\"#2a3f5f\"},\"error_y\":{\"color\":\"#2a3f5f\"},\"marker\":{\"line\":{\"color\":\"#E5ECF6\",\"width\":0.5},\"pattern\":{\"fillmode\":\"overlay\",\"size\":10,\"solidity\":0.2}},\"type\":\"bar\"}],\"barpolar\":[{\"marker\":{\"line\":{\"color\":\"#E5ECF6\",\"width\":0.5},\"pattern\":{\"fillmode\":\"overlay\",\"size\":10,\"solidity\":0.2}},\"type\":\"barpolar\"}],\"carpet\":[{\"aaxis\":{\"endlinecolor\":\"#2a3f5f\",\"gridcolor\":\"white\",\"linecolor\":\"white\",\"minorgridcolor\":\"white\",\"startlinecolor\":\"#2a3f5f\"},\"baxis\":{\"endlinecolor\":\"#2a3f5f\",\"gridcolor\":\"white\",\"linecolor\":\"white\",\"minorgridcolor\":\"white\",\"startlinecolor\":\"#2a3f5f\"},\"type\":\"carpet\"}],\"choropleth\":[{\"colorbar\":{\"outlinewidth\":0,\"ticks\":\"\"},\"type\":\"choropleth\"}],\"contour\":[{\"colorbar\":{\"outlinewidth\":0,\"ticks\":\"\"},\"colorscale\":[[0.0,\"#0d0887\"],[0.1111111111111111,\"#46039f\"],[0.2222222222222222,\"#7201a8\"],[0.3333333333333333,\"#9c179e\"],[0.4444444444444444,\"#bd3786\"],[0.5555555555555556,\"#d8576b\"],[0.6666666666666666,\"#ed7953\"],[0.7777777777777778,\"#fb9f3a\"],[0.8888888888888888,\"#fdca26\"],[1.0,\"#f0f921\"]],\"type\":\"contour\"}],\"contourcarpet\":[{\"colorbar\":{\"outlinewidth\":0,\"ticks\":\"\"},\"type\":\"contourcarpet\"}],\"heatmap\":[{\"colorbar\":{\"outlinewidth\":0,\"ticks\":\"\"},\"colorscale\":[[0.0,\"#0d0887\"],[0.1111111111111111,\"#46039f\"],[0.2222222222222222,\"#7201a8\"],[0.3333333333333333,\"#9c179e\"],[0.4444444444444444,\"#bd3786\"],[0.5555555555555556,\"#d8576b\"],[0.6666666666666666,\"#ed7953\"],[0.7777777777777778,\"#fb9f3a\"],[0.8888888888888888,\"#fdca26\"],[1.0,\"#f0f921\"]],\"type\":\"heatmap\"}],\"heatmapgl\":[{\"colorbar\":{\"outlinewidth\":0,\"ticks\":\"\"},\"colorscale\":[[0.0,\"#0d0887\"],[0.1111111111111111,\"#46039f\"],[0.2222222222222222,\"#7201a8\"],[0.3333333333333333,\"#9c179e\"],[0.4444444444444444,\"#bd3786\"],[0.5555555555555556,\"#d8576b\"],[0.6666666666666666,\"#ed7953\"],[0.7777777777777778,\"#fb9f3a\"],[0.8888888888888888,\"#fdca26\"],[1.0,\"#f0f921\"]],\"type\":\"heatmapgl\"}],\"histogram\":[{\"marker\":{\"pattern\":{\"fillmode\":\"overlay\",\"size\":10,\"solidity\":0.2}},\"type\":\"histogram\"}],\"histogram2d\":[{\"colorbar\":{\"outlinewidth\":0,\"ticks\":\"\"},\"colorscale\":[[0.0,\"#0d0887\"],[0.1111111111111111,\"#46039f\"],[0.2222222222222222,\"#7201a8\"],[0.3333333333333333,\"#9c179e\"],[0.4444444444444444,\"#bd3786\"],[0.5555555555555556,\"#d8576b\"],[0.6666666666666666,\"#ed7953\"],[0.7777777777777778,\"#fb9f3a\"],[0.8888888888888888,\"#fdca26\"],[1.0,\"#f0f921\"]],\"type\":\"histogram2d\"}],\"histogram2dcontour\":[{\"colorbar\":{\"outlinewidth\":0,\"ticks\":\"\"},\"colorscale\":[[0.0,\"#0d0887\"],[0.1111111111111111,\"#46039f\"],[0.2222222222222222,\"#7201a8\"],[0.3333333333333333,\"#9c179e\"],[0.4444444444444444,\"#bd3786\"],[0.5555555555555556,\"#d8576b\"],[0.6666666666666666,\"#ed7953\"],[0.7777777777777778,\"#fb9f3a\"],[0.8888888888888888,\"#fdca26\"],[1.0,\"#f0f921\"]],\"type\":\"histogram2dcontour\"}],\"mesh3d\":[{\"colorbar\":{\"outlinewidth\":0,\"ticks\":\"\"},\"type\":\"mesh3d\"}],\"parcoords\":[{\"line\":{\"colorbar\":{\"outlinewidth\":0,\"ticks\":\"\"}},\"type\":\"parcoords\"}],\"pie\":[{\"automargin\":true,\"type\":\"pie\"}],\"scatter\":[{\"marker\":{\"colorbar\":{\"outlinewidth\":0,\"ticks\":\"\"}},\"type\":\"scatter\"}],\"scatter3d\":[{\"line\":{\"colorbar\":{\"outlinewidth\":0,\"ticks\":\"\"}},\"marker\":{\"colorbar\":{\"outlinewidth\":0,\"ticks\":\"\"}},\"type\":\"scatter3d\"}],\"scattercarpet\":[{\"marker\":{\"colorbar\":{\"outlinewidth\":0,\"ticks\":\"\"}},\"type\":\"scattercarpet\"}],\"scattergeo\":[{\"marker\":{\"colorbar\":{\"outlinewidth\":0,\"ticks\":\"\"}},\"type\":\"scattergeo\"}],\"scattergl\":[{\"marker\":{\"colorbar\":{\"outlinewidth\":0,\"ticks\":\"\"}},\"type\":\"scattergl\"}],\"scattermapbox\":[{\"marker\":{\"colorbar\":{\"outlinewidth\":0,\"ticks\":\"\"}},\"type\":\"scattermapbox\"}],\"scatterpolar\":[{\"marker\":{\"colorbar\":{\"outlinewidth\":0,\"ticks\":\"\"}},\"type\":\"scatterpolar\"}],\"scatterpolargl\":[{\"marker\":{\"colorbar\":{\"outlinewidth\":0,\"ticks\":\"\"}},\"type\":\"scatterpolargl\"}],\"scatterternary\":[{\"marker\":{\"colorbar\":{\"outlinewidth\":0,\"ticks\":\"\"}},\"type\":\"scatterternary\"}],\"surface\":[{\"colorbar\":{\"outlinewidth\":0,\"ticks\":\"\"},\"colorscale\":[[0.0,\"#0d0887\"],[0.1111111111111111,\"#46039f\"],[0.2222222222222222,\"#7201a8\"],[0.3333333333333333,\"#9c179e\"],[0.4444444444444444,\"#bd3786\"],[0.5555555555555556,\"#d8576b\"],[0.6666666666666666,\"#ed7953\"],[0.7777777777777778,\"#fb9f3a\"],[0.8888888888888888,\"#fdca26\"],[1.0,\"#f0f921\"]],\"type\":\"surface\"}],\"table\":[{\"cells\":{\"fill\":{\"color\":\"#EBF0F8\"},\"line\":{\"color\":\"white\"}},\"header\":{\"fill\":{\"color\":\"#C8D4E3\"},\"line\":{\"color\":\"white\"}},\"type\":\"table\"}]},\"layout\":{\"annotationdefaults\":{\"arrowcolor\":\"#2a3f5f\",\"arrowhead\":0,\"arrowwidth\":1},\"autotypenumbers\":\"strict\",\"coloraxis\":{\"colorbar\":{\"outlinewidth\":0,\"ticks\":\"\"}},\"colorscale\":{\"diverging\":[[0,\"#8e0152\"],[0.1,\"#c51b7d\"],[0.2,\"#de77ae\"],[0.3,\"#f1b6da\"],[0.4,\"#fde0ef\"],[0.5,\"#f7f7f7\"],[0.6,\"#e6f5d0\"],[0.7,\"#b8e186\"],[0.8,\"#7fbc41\"],[0.9,\"#4d9221\"],[1,\"#276419\"]],\"sequential\":[[0.0,\"#0d0887\"],[0.1111111111111111,\"#46039f\"],[0.2222222222222222,\"#7201a8\"],[0.3333333333333333,\"#9c179e\"],[0.4444444444444444,\"#bd3786\"],[0.5555555555555556,\"#d8576b\"],[0.6666666666666666,\"#ed7953\"],[0.7777777777777778,\"#fb9f3a\"],[0.8888888888888888,\"#fdca26\"],[1.0,\"#f0f921\"]],\"sequentialminus\":[[0.0,\"#0d0887\"],[0.1111111111111111,\"#46039f\"],[0.2222222222222222,\"#7201a8\"],[0.3333333333333333,\"#9c179e\"],[0.4444444444444444,\"#bd3786\"],[0.5555555555555556,\"#d8576b\"],[0.6666666666666666,\"#ed7953\"],[0.7777777777777778,\"#fb9f3a\"],[0.8888888888888888,\"#fdca26\"],[1.0,\"#f0f921\"]]},\"colorway\":[\"#636efa\",\"#EF553B\",\"#00cc96\",\"#ab63fa\",\"#FFA15A\",\"#19d3f3\",\"#FF6692\",\"#B6E880\",\"#FF97FF\",\"#FECB52\"],\"font\":{\"color\":\"#2a3f5f\"},\"geo\":{\"bgcolor\":\"white\",\"lakecolor\":\"white\",\"landcolor\":\"#E5ECF6\",\"showlakes\":true,\"showland\":true,\"subunitcolor\":\"white\"},\"hoverlabel\":{\"align\":\"left\"},\"hovermode\":\"closest\",\"mapbox\":{\"style\":\"light\"},\"paper_bgcolor\":\"white\",\"plot_bgcolor\":\"#E5ECF6\",\"polar\":{\"angularaxis\":{\"gridcolor\":\"white\",\"linecolor\":\"white\",\"ticks\":\"\"},\"bgcolor\":\"#E5ECF6\",\"radialaxis\":{\"gridcolor\":\"white\",\"linecolor\":\"white\",\"ticks\":\"\"}},\"scene\":{\"xaxis\":{\"backgroundcolor\":\"#E5ECF6\",\"gridcolor\":\"white\",\"gridwidth\":2,\"linecolor\":\"white\",\"showbackground\":true,\"ticks\":\"\",\"zerolinecolor\":\"white\"},\"yaxis\":{\"backgroundcolor\":\"#E5ECF6\",\"gridcolor\":\"white\",\"gridwidth\":2,\"linecolor\":\"white\",\"showbackground\":true,\"ticks\":\"\",\"zerolinecolor\":\"white\"},\"zaxis\":{\"backgroundcolor\":\"#E5ECF6\",\"gridcolor\":\"white\",\"gridwidth\":2,\"linecolor\":\"white\",\"showbackground\":true,\"ticks\":\"\",\"zerolinecolor\":\"white\"}},\"shapedefaults\":{\"line\":{\"color\":\"#2a3f5f\"}},\"ternary\":{\"aaxis\":{\"gridcolor\":\"white\",\"linecolor\":\"white\",\"ticks\":\"\"},\"baxis\":{\"gridcolor\":\"white\",\"linecolor\":\"white\",\"ticks\":\"\"},\"bgcolor\":\"#E5ECF6\",\"caxis\":{\"gridcolor\":\"white\",\"linecolor\":\"white\",\"ticks\":\"\"}},\"title\":{\"x\":0.05},\"xaxis\":{\"automargin\":true,\"gridcolor\":\"white\",\"linecolor\":\"white\",\"ticks\":\"\",\"title\":{\"standoff\":15},\"zerolinecolor\":\"white\",\"zerolinewidth\":2},\"yaxis\":{\"automargin\":true,\"gridcolor\":\"white\",\"linecolor\":\"white\",\"ticks\":\"\",\"title\":{\"standoff\":15},\"zerolinecolor\":\"white\",\"zerolinewidth\":2}}},\"xaxis\":{\"anchor\":\"y\",\"domain\":[0.0,1.0],\"title\":{\"text\":\"Year of release\"},\"showgrid\":false},\"yaxis\":{\"anchor\":\"x\",\"domain\":[0.0,1.0],\"title\":{\"text\":\"count\"},\"showgrid\":false},\"legend\":{\"tracegroupgap\":0},\"margin\":{\"t\":60},\"barmode\":\"relative\",\"font\":{\"family\":\"Lato\",\"size\":18,\"color\":\"white\"},\"title\":{\"font\":{\"size\":30},\"text\":\"<b>Distributions of IMBD movies from<b> 1920 - now\",\"x\":0.5},\"paper_bgcolor\":\"black\",\"plot_bgcolor\":\"black\"},                        {\"responsive\": true}                    ).then(function(){\n",
       "                            \n",
       "var gd = document.getElementById('1fa48137-f8ee-483f-b5bc-2d928f2e2f8f');\n",
       "var x = new MutationObserver(function (mutations, observer) {{\n",
       "        var display = window.getComputedStyle(gd).display;\n",
       "        if (!display || display === 'none') {{\n",
       "            console.log([gd, 'removed!']);\n",
       "            Plotly.purge(gd);\n",
       "            observer.disconnect();\n",
       "        }}\n",
       "}});\n",
       "\n",
       "// Listen for the removal of the full notebook cells\n",
       "var notebookContainer = gd.closest('#notebook-container');\n",
       "if (notebookContainer) {{\n",
       "    x.observe(notebookContainer, {childList: true});\n",
       "}}\n",
       "\n",
       "// Listen for the clearing of the current output cell\n",
       "var outputEl = gd.closest('.output');\n",
       "if (outputEl) {{\n",
       "    x.observe(outputEl, {childList: true});\n",
       "}}\n",
       "\n",
       "                        })                };                });            </script>        </div>"
      ]
     },
     "metadata": {},
     "output_type": "display_data"
    }
   ],
   "source": [
    "fig = px.histogram(data_frame=df.sort_values(by='Released_Year'), x='Released_Year', \n",
    "                   color_discrete_sequence=['gold'])\n",
    "\n",
    "fig.update_layout(font=dict(family='Lato', size=18, color='white'), \n",
    "                  title=dict(text='<b>Distributions of IMBD movies from<b> 1920 - now',\n",
    "                           font=dict(size=30), x=.5), \n",
    "                  paper_bgcolor= 'black', plot_bgcolor='black',\n",
    "                 xaxis = dict(title='Year of release', showgrid=False),\n",
    "                 yaxis=dict(showgrid=False))"
   ]
  },
  {
   "cell_type": "markdown",
   "metadata": {},
   "source": [
    "* Distribution is **left skewed**\n",
    "* there's some peaks in 1962, in 1993 and in 2004\n",
    "* the bigest amount of the movies is in 2014 - 32\n",
    "* 2020 is a bad year - no surprise because Covid-19 made movies was hard to record and distribute"
   ]
  },
  {
   "cell_type": "markdown",
   "metadata": {},
   "source": [
    "### Genres"
   ]
  },
  {
   "cell_type": "markdown",
   "metadata": {},
   "source": [
    "I'm going to left only the first category from the left side, for instance:\n",
    "when there's 'Crime, Drama' only leave Crime as main genre of the movie"
   ]
  },
  {
   "cell_type": "code",
   "execution_count": 11,
   "metadata": {
    "execution": {
     "iopub.execute_input": "2021-10-14T15:40:26.501292Z",
     "iopub.status.busy": "2021-10-14T15:40:26.501019Z",
     "iopub.status.idle": "2021-10-14T15:40:26.520607Z",
     "shell.execute_reply": "2021-10-14T15:40:26.519270Z",
     "shell.execute_reply.started": "2021-10-14T15:40:26.501261Z"
    }
   },
   "outputs": [
    {
     "data": {
      "text/plain": [
       "Drama        289\n",
       "Action       172\n",
       "Comedy       155\n",
       "Crime        107\n",
       "Biography     88\n",
       "Animation     82\n",
       "Adventure     72\n",
       "Mystery       12\n",
       "Horror        11\n",
       "Western        4\n",
       "Film-Noir      3\n",
       "Fantasy        2\n",
       "Family         2\n",
       "Thriller       1\n",
       "Name: genre, dtype: int64"
      ]
     },
     "execution_count": 11,
     "metadata": {},
     "output_type": "execute_result"
    }
   ],
   "source": [
    "df['genre'] = df['Genre'].apply(lambda text: text.split(',')[0])\n",
    "df.drop(columns='Genre', inplace=True)\n",
    "df['genre'].value_counts()"
   ]
  },
  {
   "cell_type": "code",
   "execution_count": 69,
   "metadata": {},
   "outputs": [],
   "source": [
    "movies_year = df.groupby('Released_Year')['Certificate'].count()"
   ]
  },
  {
   "cell_type": "code",
   "execution_count": 70,
   "metadata": {},
   "outputs": [
    {
     "data": {
      "text/plain": [
       "Text(0, 0.5, 'Movies Count')"
      ]
     },
     "execution_count": 70,
     "metadata": {},
     "output_type": "execute_result"
    },
    {
     "data": {
      "image/png": "[encoded data removed]",
      "text/plain": [
       "<Figure size 432x288 with 1 Axes>"
      ]
     },
     "metadata": {},
     "output_type": "display_data"
    }
   ],
   "source": [
    "ax = movies_year.plot.line();\n",
    "ax.set_title('Movies count per Year', y=1.04)\n",
    "ax.set_ylabel('Movies Count')"
   ]
  },
  {
   "cell_type": "code",
   "execution_count": 44,
   "metadata": {},
   "outputs": [],
   "source": [
    "movies_revenue = df.groupby('Released_Year')['Gross'].sum()"
   ]
  },
  {
   "cell_type": "code",
   "execution_count": 45,
   "metadata": {},
   "outputs": [
    {
     "data": {
      "text/plain": [
       "Released_Year\n",
       "1920    6.803475e+07\n",
       "1921    5.450000e+06\n",
       "1922    6.803475e+07\n",
       "1924    9.773750e+05\n",
       "1925    5.500970e+06\n",
       "Name: Gross, dtype: float64"
      ]
     },
     "execution_count": 45,
     "metadata": {},
     "output_type": "execute_result"
    }
   ],
   "source": [
    "movies_revenue.head()"
   ]
  },
  {
   "cell_type": "code",
   "execution_count": 59,
   "metadata": {},
   "outputs": [
    {
     "data": {
      "image/png": "[encoded data removed]",
      "text/plain": [
       "<Figure size 432x288 with 1 Axes>"
      ]
     },
     "metadata": {},
     "output_type": "display_data"
    }
   ],
   "source": [
    "ax = movies_revenue.plot.line();\n",
    "ax.set_title('Movie Gross per Year', y=1.04)\n",
    "ax.set_ylabel('Gross (in Millions)');"
   ]
  },
  {
   "cell_type": "code",
   "execution_count": 60,
   "metadata": {},
   "outputs": [
    {
     "data": {
      "image/png": "[encoded data removed]",
      "text/plain": [
       "<Figure size 432x288 with 1 Axes>"
      ]
     },
     "metadata": {},
     "output_type": "display_data"
    }
   ],
   "source": [
    "movies_avg_revenue = df.groupby('Released_Year')['Gross'].mean()\n",
    "ax = movies_avg_revenue.plot.line();\n",
    "ax.set_title('Average Movie Gross per Year', y=1.04)\n",
    "ax.set_ylabel('Gross (in Millions)');"
   ]
  },
  {
   "cell_type": "code",
   "execution_count": 61,
   "metadata": {
    "scrolled": true
   },
   "outputs": [
    {
     "data": {
      "text/plain": [
       "Alfred Hitchcock        14\n",
       "Steven Spielberg        13\n",
       "Hayao Miyazaki          11\n",
       "Martin Scorsese         10\n",
       "Akira Kurosawa          10\n",
       "Stanley Kubrick          9\n",
       "Billy Wilder             9\n",
       "Woody Allen              9\n",
       "Christopher Nolan        8\n",
       "Quentin Tarantino        8\n",
       "David Fincher            8\n",
       "Clint Eastwood           8\n",
       "Rob Reiner               7\n",
       "Howard Hawks             7\n",
       "Ingmar Bergman           7\n",
       "Ridley Scott             6\n",
       "Alfonso Cuarón           6\n",
       "Charles Chaplin          6\n",
       "Richard Linklater        6\n",
       "Sergio Leone             6\n",
       "Joel Coen                6\n",
       "Wes Anderson             6\n",
       "David Lynch              5\n",
       "Sidney Lumet             5\n",
       "Denis Villeneuve         5\n",
       "Peter Jackson            5\n",
       "Robert Zemeckis          5\n",
       "James Cameron            5\n",
       "Francis Ford Coppola     5\n",
       "Roman Polanski           5\n",
       "Ron Howard               5\n",
       "John Ford                5\n",
       "Andrei Tarkovsky         5\n",
       "John Huston              5\n",
       "Federico Fellini         5\n",
       "Name: Director, dtype: int64"
      ]
     },
     "execution_count": 61,
     "metadata": {},
     "output_type": "execute_result"
    }
   ],
   "source": [
    "most_active_directors = df['Director'].value_counts()[df['Director'].value_counts() >= 5]\n",
    "most_active_directors"
   ]
  },
  {
   "cell_type": "code",
   "execution_count": 62,
   "metadata": {},
   "outputs": [],
   "source": [
    "active_director_movies = df[df.Director.isin(most_active_directors.index.tolist())]\n"
   ]
  },
  {
   "cell_type": "code",
   "execution_count": 63,
   "metadata": {},
   "outputs": [
    {
     "data": {
      "text/html": [
       "<div>\n",
       "<style scoped>\n",
       "    .dataframe tbody tr th:only-of-type {\n",
       "        vertical-align: middle;\n",
       "    }\n",
       "\n",
       "    .dataframe tbody tr th {\n",
       "        vertical-align: top;\n",
       "    }\n",
       "\n",
       "    .dataframe thead th {\n",
       "        text-align: right;\n",
       "    }\n",
       "</style>\n",
       "<table border=\"1\" class=\"dataframe\">\n",
       "  <thead>\n",
       "    <tr style=\"text-align: right;\">\n",
       "      <th></th>\n",
       "      <th>Gross</th>\n",
       "      <th>IMDB_Rating</th>\n",
       "      <th>Meta_score</th>\n",
       "    </tr>\n",
       "    <tr>\n",
       "      <th>Director</th>\n",
       "      <th></th>\n",
       "      <th></th>\n",
       "      <th></th>\n",
       "    </tr>\n",
       "  </thead>\n",
       "  <tbody>\n",
       "    <tr>\n",
       "      <th>Akira Kurosawa</th>\n",
       "      <td>4.127651e+07</td>\n",
       "      <td>8.220000</td>\n",
       "      <td>84.382918</td>\n",
       "    </tr>\n",
       "    <tr>\n",
       "      <th>Alfonso Cuarón</th>\n",
       "      <td>1.084467e+08</td>\n",
       "      <td>7.750000</td>\n",
       "      <td>88.166667</td>\n",
       "    </tr>\n",
       "    <tr>\n",
       "      <th>Alfred Hitchcock</th>\n",
       "      <td>3.280594e+07</td>\n",
       "      <td>8.007143</td>\n",
       "      <td>90.714286</td>\n",
       "    </tr>\n",
       "    <tr>\n",
       "      <th>Andrei Tarkovsky</th>\n",
       "      <td>2.731672e+07</td>\n",
       "      <td>8.120000</td>\n",
       "      <td>80.377224</td>\n",
       "    </tr>\n",
       "    <tr>\n",
       "      <th>Billy Wilder</th>\n",
       "      <td>3.055879e+07</td>\n",
       "      <td>8.144444</td>\n",
       "      <td>83.212732</td>\n",
       "    </tr>\n",
       "    <tr>\n",
       "      <th>Charles Chaplin</th>\n",
       "      <td>1.323428e+07</td>\n",
       "      <td>8.333333</td>\n",
       "      <td>86.485765</td>\n",
       "    </tr>\n",
       "    <tr>\n",
       "      <th>Christopher Nolan</th>\n",
       "      <td>2.421818e+08</td>\n",
       "      <td>8.462500</td>\n",
       "      <td>77.500000</td>\n",
       "    </tr>\n",
       "    <tr>\n",
       "      <th>Clint Eastwood</th>\n",
       "      <td>7.408658e+07</td>\n",
       "      <td>7.912500</td>\n",
       "      <td>77.125000</td>\n",
       "    </tr>\n",
       "    <tr>\n",
       "      <th>David Fincher</th>\n",
       "      <td>8.916431e+07</td>\n",
       "      <td>8.037500</td>\n",
       "      <td>73.125000</td>\n",
       "    </tr>\n",
       "    <tr>\n",
       "      <th>David Lynch</th>\n",
       "      <td>1.876119e+07</td>\n",
       "      <td>7.860000</td>\n",
       "      <td>75.400000</td>\n",
       "    </tr>\n",
       "    <tr>\n",
       "      <th>Denis Villeneuve</th>\n",
       "      <td>6.146980e+07</td>\n",
       "      <td>7.980000</td>\n",
       "      <td>78.800000</td>\n",
       "    </tr>\n",
       "    <tr>\n",
       "      <th>Federico Fellini</th>\n",
       "      <td>3.127765e+07</td>\n",
       "      <td>8.000000</td>\n",
       "      <td>83.982918</td>\n",
       "    </tr>\n",
       "    <tr>\n",
       "      <th>Francis Ford Coppola</th>\n",
       "      <td>6.936480e+07</td>\n",
       "      <td>8.400000</td>\n",
       "      <td>85.800000</td>\n",
       "    </tr>\n",
       "    <tr>\n",
       "      <th>Hayao Miyazaki</th>\n",
       "      <td>2.828933e+07</td>\n",
       "      <td>8.018182</td>\n",
       "      <td>82.545455</td>\n",
       "    </tr>\n",
       "    <tr>\n",
       "      <th>Howard Hawks</th>\n",
       "      <td>4.164429e+07</td>\n",
       "      <td>7.857143</td>\n",
       "      <td>83.269446</td>\n",
       "    </tr>\n",
       "    <tr>\n",
       "      <th>Ingmar Bergman</th>\n",
       "      <td>4.005410e+07</td>\n",
       "      <td>8.142857</td>\n",
       "      <td>85.130656</td>\n",
       "    </tr>\n",
       "    <tr>\n",
       "      <th>James Cameron</th>\n",
       "      <td>3.496473e+08</td>\n",
       "      <td>8.080000</td>\n",
       "      <td>80.200000</td>\n",
       "    </tr>\n",
       "    <tr>\n",
       "      <th>Joel Coen</th>\n",
       "      <td>1.683462e+07</td>\n",
       "      <td>7.816667</td>\n",
       "      <td>73.666667</td>\n",
       "    </tr>\n",
       "    <tr>\n",
       "      <th>John Ford</th>\n",
       "      <td>4.294185e+07</td>\n",
       "      <td>7.900000</td>\n",
       "      <td>90.994306</td>\n",
       "    </tr>\n",
       "    <tr>\n",
       "      <th>John Huston</th>\n",
       "      <td>2.874554e+07</td>\n",
       "      <td>7.900000</td>\n",
       "      <td>90.794306</td>\n",
       "    </tr>\n",
       "    <tr>\n",
       "      <th>Martin Scorsese</th>\n",
       "      <td>5.383192e+07</td>\n",
       "      <td>8.170000</td>\n",
       "      <td>82.600000</td>\n",
       "    </tr>\n",
       "    <tr>\n",
       "      <th>Peter Jackson</th>\n",
       "      <td>3.194625e+08</td>\n",
       "      <td>8.400000</td>\n",
       "      <td>79.400000</td>\n",
       "    </tr>\n",
       "    <tr>\n",
       "      <th>Quentin Tarantino</th>\n",
       "      <td>9.087929e+07</td>\n",
       "      <td>8.175000</td>\n",
       "      <td>78.250000</td>\n",
       "    </tr>\n",
       "    <tr>\n",
       "      <th>Richard Linklater</th>\n",
       "      <td>9.289284e+06</td>\n",
       "      <td>7.900000</td>\n",
       "      <td>87.000000</td>\n",
       "    </tr>\n",
       "    <tr>\n",
       "      <th>Ridley Scott</th>\n",
       "      <td>1.277852e+08</td>\n",
       "      <td>8.083333</td>\n",
       "      <td>78.333333</td>\n",
       "    </tr>\n",
       "    <tr>\n",
       "      <th>Rob Reiner</th>\n",
       "      <td>5.436098e+07</td>\n",
       "      <td>7.828571</td>\n",
       "      <td>71.714286</td>\n",
       "    </tr>\n",
       "    <tr>\n",
       "      <th>Robert Zemeckis</th>\n",
       "      <td>2.098893e+08</td>\n",
       "      <td>8.120000</td>\n",
       "      <td>76.400000</td>\n",
       "    </tr>\n",
       "    <tr>\n",
       "      <th>Roman Polanski</th>\n",
       "      <td>3.991336e+07</td>\n",
       "      <td>8.000000</td>\n",
       "      <td>87.000000</td>\n",
       "    </tr>\n",
       "    <tr>\n",
       "      <th>Ron Howard</th>\n",
       "      <td>9.035419e+07</td>\n",
       "      <td>7.920000</td>\n",
       "      <td>74.400000</td>\n",
       "    </tr>\n",
       "    <tr>\n",
       "      <th>Sergio Leone</th>\n",
       "      <td>7.823284e+06</td>\n",
       "      <td>8.266667</td>\n",
       "      <td>77.328588</td>\n",
       "    </tr>\n",
       "    <tr>\n",
       "      <th>Sidney Lumet</th>\n",
       "      <td>4.123895e+07</td>\n",
       "      <td>8.100000</td>\n",
       "      <td>85.800000</td>\n",
       "    </tr>\n",
       "    <tr>\n",
       "      <th>Stanley Kubrick</th>\n",
       "      <td>4.310199e+07</td>\n",
       "      <td>8.233333</td>\n",
       "      <td>84.111111</td>\n",
       "    </tr>\n",
       "    <tr>\n",
       "      <th>Steven Spielberg</th>\n",
       "      <td>1.906256e+08</td>\n",
       "      <td>8.030769</td>\n",
       "      <td>80.538462</td>\n",
       "    </tr>\n",
       "    <tr>\n",
       "      <th>Wes Anderson</th>\n",
       "      <td>3.785003e+07</td>\n",
       "      <td>7.833333</td>\n",
       "      <td>83.166667</td>\n",
       "    </tr>\n",
       "    <tr>\n",
       "      <th>Woody Allen</th>\n",
       "      <td>3.484556e+07</td>\n",
       "      <td>7.788889</td>\n",
       "      <td>81.885726</td>\n",
       "    </tr>\n",
       "  </tbody>\n",
       "</table>\n",
       "</div>"
      ],
      "text/plain": [
       "                             Gross  IMDB_Rating  Meta_score\n",
       "Director                                                   \n",
       "Akira Kurosawa        4.127651e+07     8.220000   84.382918\n",
       "Alfonso Cuarón        1.084467e+08     7.750000   88.166667\n",
       "Alfred Hitchcock      3.280594e+07     8.007143   90.714286\n",
       "Andrei Tarkovsky      2.731672e+07     8.120000   80.377224\n",
       "Billy Wilder          3.055879e+07     8.144444   83.212732\n",
       "Charles Chaplin       1.323428e+07     8.333333   86.485765\n",
       "Christopher Nolan     2.421818e+08     8.462500   77.500000\n",
       "Clint Eastwood        7.408658e+07     7.912500   77.125000\n",
       "David Fincher         8.916431e+07     8.037500   73.125000\n",
       "David Lynch           1.876119e+07     7.860000   75.400000\n",
       "Denis Villeneuve      6.146980e+07     7.980000   78.800000\n",
       "Federico Fellini      3.127765e+07     8.000000   83.982918\n",
       "Francis Ford Coppola  6.936480e+07     8.400000   85.800000\n",
       "Hayao Miyazaki        2.828933e+07     8.018182   82.545455\n",
       "Howard Hawks          4.164429e+07     7.857143   83.269446\n",
       "Ingmar Bergman        4.005410e+07     8.142857   85.130656\n",
       "James Cameron         3.496473e+08     8.080000   80.200000\n",
       "Joel Coen             1.683462e+07     7.816667   73.666667\n",
       "John Ford             4.294185e+07     7.900000   90.994306\n",
       "John Huston           2.874554e+07     7.900000   90.794306\n",
       "Martin Scorsese       5.383192e+07     8.170000   82.600000\n",
       "Peter Jackson         3.194625e+08     8.400000   79.400000\n",
       "Quentin Tarantino     9.087929e+07     8.175000   78.250000\n",
       "Richard Linklater     9.289284e+06     7.900000   87.000000\n",
       "Ridley Scott          1.277852e+08     8.083333   78.333333\n",
       "Rob Reiner            5.436098e+07     7.828571   71.714286\n",
       "Robert Zemeckis       2.098893e+08     8.120000   76.400000\n",
       "Roman Polanski        3.991336e+07     8.000000   87.000000\n",
       "Ron Howard            9.035419e+07     7.920000   74.400000\n",
       "Sergio Leone          7.823284e+06     8.266667   77.328588\n",
       "Sidney Lumet          4.123895e+07     8.100000   85.800000\n",
       "Stanley Kubrick       4.310199e+07     8.233333   84.111111\n",
       "Steven Spielberg      1.906256e+08     8.030769   80.538462\n",
       "Wes Anderson          3.785003e+07     7.833333   83.166667\n",
       "Woody Allen           3.484556e+07     7.788889   81.885726"
      ]
     },
     "execution_count": 63,
     "metadata": {},
     "output_type": "execute_result"
    }
   ],
   "source": [
    "active_director_stats = active_director_movies.groupby('Director')['Gross', 'IMDB_Rating', 'Meta_score'].mean()\n",
    "active_director_stats"
   ]
  },
  {
   "cell_type": "code",
   "execution_count": 64,
   "metadata": {},
   "outputs": [
    {
     "data": {
      "text/html": [
       "<div>\n",
       "<style scoped>\n",
       "    .dataframe tbody tr th:only-of-type {\n",
       "        vertical-align: middle;\n",
       "    }\n",
       "\n",
       "    .dataframe tbody tr th {\n",
       "        vertical-align: top;\n",
       "    }\n",
       "\n",
       "    .dataframe thead th {\n",
       "        text-align: right;\n",
       "    }\n",
       "</style>\n",
       "<table border=\"1\" class=\"dataframe\">\n",
       "  <thead>\n",
       "    <tr style=\"text-align: right;\">\n",
       "      <th></th>\n",
       "      <th>Gross</th>\n",
       "      <th>IMDB_Rating</th>\n",
       "      <th>Meta_score</th>\n",
       "    </tr>\n",
       "    <tr>\n",
       "      <th>Director</th>\n",
       "      <th></th>\n",
       "      <th></th>\n",
       "      <th></th>\n",
       "    </tr>\n",
       "  </thead>\n",
       "  <tbody>\n",
       "    <tr>\n",
       "      <th>James Cameron</th>\n",
       "      <td>3.496473e+08</td>\n",
       "      <td>8.080000</td>\n",
       "      <td>80.200000</td>\n",
       "    </tr>\n",
       "    <tr>\n",
       "      <th>Peter Jackson</th>\n",
       "      <td>3.194625e+08</td>\n",
       "      <td>8.400000</td>\n",
       "      <td>79.400000</td>\n",
       "    </tr>\n",
       "    <tr>\n",
       "      <th>Christopher Nolan</th>\n",
       "      <td>2.421818e+08</td>\n",
       "      <td>8.462500</td>\n",
       "      <td>77.500000</td>\n",
       "    </tr>\n",
       "    <tr>\n",
       "      <th>Robert Zemeckis</th>\n",
       "      <td>2.098893e+08</td>\n",
       "      <td>8.120000</td>\n",
       "      <td>76.400000</td>\n",
       "    </tr>\n",
       "    <tr>\n",
       "      <th>Steven Spielberg</th>\n",
       "      <td>1.906256e+08</td>\n",
       "      <td>8.030769</td>\n",
       "      <td>80.538462</td>\n",
       "    </tr>\n",
       "  </tbody>\n",
       "</table>\n",
       "</div>"
      ],
      "text/plain": [
       "                          Gross  IMDB_Rating  Meta_score\n",
       "Director                                                \n",
       "James Cameron      3.496473e+08     8.080000   80.200000\n",
       "Peter Jackson      3.194625e+08     8.400000   79.400000\n",
       "Christopher Nolan  2.421818e+08     8.462500   77.500000\n",
       "Robert Zemeckis    2.098893e+08     8.120000   76.400000\n",
       "Steven Spielberg   1.906256e+08     8.030769   80.538462"
      ]
     },
     "execution_count": 64,
     "metadata": {},
     "output_type": "execute_result"
    }
   ],
   "source": [
    "top_5_active_directors_by_revenue = active_director_stats.sort_values('Gross', ascending=False)\n",
    "top_5_active_directors_by_revenue[:5]"
   ]
  },
  {
   "cell_type": "code",
   "execution_count": 65,
   "metadata": {},
   "outputs": [
    {
     "data": {
      "image/png": "[encoded data removed]",
      "text/plain": [
       "<Figure size 432x288 with 1 Axes>"
      ]
     },
     "metadata": {},
     "output_type": "display_data"
    }
   ],
   "source": [
    "ax = top_5_active_directors_by_revenue[:5].Gross.plot.barh();\n",
    "ax.set_title(\"Top 5 active directors by Average Gross\")\n",
    "ax.set_xlabel('Average Gross');"
   ]
  },
  {
   "cell_type": "code",
   "execution_count": 66,
   "metadata": {},
   "outputs": [
    {
     "data": {
      "text/html": [
       "<div>\n",
       "<style scoped>\n",
       "    .dataframe tbody tr th:only-of-type {\n",
       "        vertical-align: middle;\n",
       "    }\n",
       "\n",
       "    .dataframe tbody tr th {\n",
       "        vertical-align: top;\n",
       "    }\n",
       "\n",
       "    .dataframe thead th {\n",
       "        text-align: right;\n",
       "    }\n",
       "</style>\n",
       "<table border=\"1\" class=\"dataframe\">\n",
       "  <thead>\n",
       "    <tr style=\"text-align: right;\">\n",
       "      <th></th>\n",
       "      <th>Gross</th>\n",
       "      <th>IMDB_Rating</th>\n",
       "      <th>Meta_score</th>\n",
       "    </tr>\n",
       "    <tr>\n",
       "      <th>Director</th>\n",
       "      <th></th>\n",
       "      <th></th>\n",
       "      <th></th>\n",
       "    </tr>\n",
       "  </thead>\n",
       "  <tbody>\n",
       "    <tr>\n",
       "      <th>Christopher Nolan</th>\n",
       "      <td>2.421818e+08</td>\n",
       "      <td>8.462500</td>\n",
       "      <td>77.500000</td>\n",
       "    </tr>\n",
       "    <tr>\n",
       "      <th>Peter Jackson</th>\n",
       "      <td>3.194625e+08</td>\n",
       "      <td>8.400000</td>\n",
       "      <td>79.400000</td>\n",
       "    </tr>\n",
       "    <tr>\n",
       "      <th>Francis Ford Coppola</th>\n",
       "      <td>6.936480e+07</td>\n",
       "      <td>8.400000</td>\n",
       "      <td>85.800000</td>\n",
       "    </tr>\n",
       "    <tr>\n",
       "      <th>Charles Chaplin</th>\n",
       "      <td>1.323428e+07</td>\n",
       "      <td>8.333333</td>\n",
       "      <td>86.485765</td>\n",
       "    </tr>\n",
       "    <tr>\n",
       "      <th>Sergio Leone</th>\n",
       "      <td>7.823284e+06</td>\n",
       "      <td>8.266667</td>\n",
       "      <td>77.328588</td>\n",
       "    </tr>\n",
       "  </tbody>\n",
       "</table>\n",
       "</div>"
      ],
      "text/plain": [
       "                             Gross  IMDB_Rating  Meta_score\n",
       "Director                                                   \n",
       "Christopher Nolan     2.421818e+08     8.462500   77.500000\n",
       "Peter Jackson         3.194625e+08     8.400000   79.400000\n",
       "Francis Ford Coppola  6.936480e+07     8.400000   85.800000\n",
       "Charles Chaplin       1.323428e+07     8.333333   86.485765\n",
       "Sergio Leone          7.823284e+06     8.266667   77.328588"
      ]
     },
     "execution_count": 66,
     "metadata": {},
     "output_type": "execute_result"
    }
   ],
   "source": [
    "top_5_active_directors_by_rating = active_director_stats.sort_values('IMDB_Rating', ascending=False)\n",
    "top_5_active_directors_by_rating[:5]"
   ]
  },
  {
   "cell_type": "code",
   "execution_count": 67,
   "metadata": {},
   "outputs": [
    {
     "data": {
      "image/png": "[encoded data removed]",
      "text/plain": [
       "<Figure size 432x288 with 1 Axes>"
      ]
     },
     "metadata": {},
     "output_type": "display_data"
    }
   ],
   "source": [
    "ax = top_5_active_directors_by_rating[:5].IMDB_Rating.plot.barh();\n",
    "ax.set_title(\"Top 5 active directors by Average Rating\")\n",
    "ax.set_xlabel('Average Rating');"
   ]
  },
  {
   "cell_type": "code",
   "execution_count": 73,
   "metadata": {},
   "outputs": [
    {
     "data": {
      "text/html": [
       "<div>\n",
       "<style scoped>\n",
       "    .dataframe tbody tr th:only-of-type {\n",
       "        vertical-align: middle;\n",
       "    }\n",
       "\n",
       "    .dataframe tbody tr th {\n",
       "        vertical-align: top;\n",
       "    }\n",
       "\n",
       "    .dataframe thead th {\n",
       "        text-align: right;\n",
       "    }\n",
       "</style>\n",
       "<table border=\"1\" class=\"dataframe\">\n",
       "  <thead>\n",
       "    <tr style=\"text-align: right;\">\n",
       "      <th></th>\n",
       "      <th>Gross</th>\n",
       "      <th>IMDB_Rating</th>\n",
       "      <th>Meta_score</th>\n",
       "    </tr>\n",
       "    <tr>\n",
       "      <th>Director</th>\n",
       "      <th></th>\n",
       "      <th></th>\n",
       "      <th></th>\n",
       "    </tr>\n",
       "  </thead>\n",
       "  <tbody>\n",
       "    <tr>\n",
       "      <th>John Ford</th>\n",
       "      <td>4.294185e+07</td>\n",
       "      <td>7.900000</td>\n",
       "      <td>90.994306</td>\n",
       "    </tr>\n",
       "    <tr>\n",
       "      <th>John Huston</th>\n",
       "      <td>2.874554e+07</td>\n",
       "      <td>7.900000</td>\n",
       "      <td>90.794306</td>\n",
       "    </tr>\n",
       "    <tr>\n",
       "      <th>Alfred Hitchcock</th>\n",
       "      <td>3.280594e+07</td>\n",
       "      <td>8.007143</td>\n",
       "      <td>90.714286</td>\n",
       "    </tr>\n",
       "    <tr>\n",
       "      <th>Alfonso Cuarón</th>\n",
       "      <td>1.084467e+08</td>\n",
       "      <td>7.750000</td>\n",
       "      <td>88.166667</td>\n",
       "    </tr>\n",
       "    <tr>\n",
       "      <th>Roman Polanski</th>\n",
       "      <td>3.991336e+07</td>\n",
       "      <td>8.000000</td>\n",
       "      <td>87.000000</td>\n",
       "    </tr>\n",
       "  </tbody>\n",
       "</table>\n",
       "</div>"
      ],
      "text/plain": [
       "                         Gross  IMDB_Rating  Meta_score\n",
       "Director                                               \n",
       "John Ford         4.294185e+07     7.900000   90.994306\n",
       "John Huston       2.874554e+07     7.900000   90.794306\n",
       "Alfred Hitchcock  3.280594e+07     8.007143   90.714286\n",
       "Alfonso Cuarón    1.084467e+08     7.750000   88.166667\n",
       "Roman Polanski    3.991336e+07     8.000000   87.000000"
      ]
     },
     "execution_count": 73,
     "metadata": {},
     "output_type": "execute_result"
    }
   ],
   "source": [
    "top_5_active_directors_by_metascore = active_director_stats.sort_values('Meta_score', ascending=False)\n",
    "top_5_active_directors_by_metascore[:5]"
   ]
  },
  {
   "cell_type": "code",
   "execution_count": 75,
   "metadata": {},
   "outputs": [
    {
     "data": {
      "image/png": "[encoded data removed]",
      "text/plain": [
       "<Figure size 432x288 with 1 Axes>"
      ]
     },
     "metadata": {},
     "output_type": "display_data"
    }
   ],
   "source": [
    "ax = top_5_active_directors_by_metascore[:5].Meta_score.plot.barh();\n",
    "ax.set_title(\"Top 5 active directors by Average Metascore\")\n",
    "ax.set_xlabel('Average Metascore');"
   ]
  },
  {
   "cell_type": "code",
   "execution_count": 86,
   "metadata": {},
   "outputs": [
    {
     "data": {
      "text/html": [
       "<div>\n",
       "<style scoped>\n",
       "    .dataframe tbody tr th:only-of-type {\n",
       "        vertical-align: middle;\n",
       "    }\n",
       "\n",
       "    .dataframe tbody tr th {\n",
       "        vertical-align: top;\n",
       "    }\n",
       "\n",
       "    .dataframe thead th {\n",
       "        text-align: right;\n",
       "    }\n",
       "</style>\n",
       "<table border=\"1\" class=\"dataframe\">\n",
       "  <thead>\n",
       "    <tr style=\"text-align: right;\">\n",
       "      <th></th>\n",
       "      <th>Gross</th>\n",
       "      <th>IMDB_Rating</th>\n",
       "      <th>Meta_score</th>\n",
       "      <th>Runtime</th>\n",
       "    </tr>\n",
       "    <tr>\n",
       "      <th>Director</th>\n",
       "      <th></th>\n",
       "      <th></th>\n",
       "      <th></th>\n",
       "      <th></th>\n",
       "    </tr>\n",
       "  </thead>\n",
       "  <tbody>\n",
       "    <tr>\n",
       "      <th>Aamir Khan</th>\n",
       "      <td>1.223869e+06</td>\n",
       "      <td>8.40</td>\n",
       "      <td>77.971530</td>\n",
       "      <td>165.0</td>\n",
       "    </tr>\n",
       "    <tr>\n",
       "      <th>Aaron Sorkin</th>\n",
       "      <td>6.803475e+07</td>\n",
       "      <td>7.80</td>\n",
       "      <td>77.000000</td>\n",
       "      <td>129.0</td>\n",
       "    </tr>\n",
       "    <tr>\n",
       "      <th>Abdellatif Kechiche</th>\n",
       "      <td>2.199675e+06</td>\n",
       "      <td>7.70</td>\n",
       "      <td>89.000000</td>\n",
       "      <td>180.0</td>\n",
       "    </tr>\n",
       "    <tr>\n",
       "      <th>Abhishek Chaubey</th>\n",
       "      <td>6.803475e+07</td>\n",
       "      <td>7.80</td>\n",
       "      <td>77.971530</td>\n",
       "      <td>148.0</td>\n",
       "    </tr>\n",
       "    <tr>\n",
       "      <th>Abhishek Kapoor</th>\n",
       "      <td>1.122527e+06</td>\n",
       "      <td>7.70</td>\n",
       "      <td>40.000000</td>\n",
       "      <td>130.0</td>\n",
       "    </tr>\n",
       "    <tr>\n",
       "      <th>...</th>\n",
       "      <td>...</td>\n",
       "      <td>...</td>\n",
       "      <td>...</td>\n",
       "      <td>...</td>\n",
       "    </tr>\n",
       "    <tr>\n",
       "      <th>Zack Snyder</th>\n",
       "      <td>1.590624e+08</td>\n",
       "      <td>7.60</td>\n",
       "      <td>54.000000</td>\n",
       "      <td>139.5</td>\n",
       "    </tr>\n",
       "    <tr>\n",
       "      <th>Zaza Urushadze</th>\n",
       "      <td>1.445010e+05</td>\n",
       "      <td>8.20</td>\n",
       "      <td>73.000000</td>\n",
       "      <td>87.0</td>\n",
       "    </tr>\n",
       "    <tr>\n",
       "      <th>Zoya Akhtar</th>\n",
       "      <td>4.337510e+06</td>\n",
       "      <td>8.05</td>\n",
       "      <td>71.485765</td>\n",
       "      <td>154.5</td>\n",
       "    </tr>\n",
       "    <tr>\n",
       "      <th>Çagan Irmak</th>\n",
       "      <td>6.803475e+07</td>\n",
       "      <td>8.30</td>\n",
       "      <td>77.971530</td>\n",
       "      <td>112.0</td>\n",
       "    </tr>\n",
       "    <tr>\n",
       "      <th>Ömer Faruk Sorak</th>\n",
       "      <td>6.803475e+07</td>\n",
       "      <td>8.00</td>\n",
       "      <td>77.971530</td>\n",
       "      <td>127.0</td>\n",
       "    </tr>\n",
       "  </tbody>\n",
       "</table>\n",
       "<p>548 rows × 4 columns</p>\n",
       "</div>"
      ],
      "text/plain": [
       "                            Gross  IMDB_Rating  Meta_score  Runtime\n",
       "Director                                                           \n",
       "Aamir Khan           1.223869e+06         8.40   77.971530    165.0\n",
       "Aaron Sorkin         6.803475e+07         7.80   77.000000    129.0\n",
       "Abdellatif Kechiche  2.199675e+06         7.70   89.000000    180.0\n",
       "Abhishek Chaubey     6.803475e+07         7.80   77.971530    148.0\n",
       "Abhishek Kapoor      1.122527e+06         7.70   40.000000    130.0\n",
       "...                           ...          ...         ...      ...\n",
       "Zack Snyder          1.590624e+08         7.60   54.000000    139.5\n",
       "Zaza Urushadze       1.445010e+05         8.20   73.000000     87.0\n",
       "Zoya Akhtar          4.337510e+06         8.05   71.485765    154.5\n",
       "Çagan Irmak          6.803475e+07         8.30   77.971530    112.0\n",
       "Ömer Faruk Sorak     6.803475e+07         8.00   77.971530    127.0\n",
       "\n",
       "[548 rows x 4 columns]"
      ]
     },
     "execution_count": 86,
     "metadata": {},
     "output_type": "execute_result"
    }
   ],
   "source": [
    "Runtimes= df.groupby('Director')['Gross', 'IMDB_Rating', 'Meta_score','Runtime'].mean()\n",
    "Runtimes\n"
   ]
  },
  {
   "cell_type": "code",
   "execution_count": 89,
   "metadata": {},
   "outputs": [
    {
     "ename": "AttributeError",
     "evalue": "'DataFrame' object has no attribute 'Runtimes'",
     "output_type": "error",
     "traceback": [
      "\u001b[1;31m---------------------------------------------------------------------------\u001b[0m",
      "\u001b[1;31mAttributeError\u001b[0m                            Traceback (most recent call last)",
      "Input \u001b[1;32mIn [89]\u001b[0m, in \u001b[0;36m<module>\u001b[1;34m\u001b[0m\n\u001b[1;32m----> 1\u001b[0m ax \u001b[38;5;241m=\u001b[39m \u001b[43mRuntimes\u001b[49m\u001b[43m[\u001b[49m\u001b[43m:\u001b[49m\u001b[38;5;241;43m5\u001b[39;49m\u001b[43m]\u001b[49m\u001b[38;5;241;43m.\u001b[39;49m\u001b[43mRuntimes\u001b[49m\u001b[38;5;241m.\u001b[39mplot\u001b[38;5;241m.\u001b[39mbarh();\n\u001b[0;32m      2\u001b[0m ax\u001b[38;5;241m.\u001b[39mset_title(\u001b[38;5;124m\"\u001b[39m\u001b[38;5;124mTop 5 active directors by Average Runtime\u001b[39m\u001b[38;5;124m\"\u001b[39m)\n\u001b[0;32m      3\u001b[0m ax\u001b[38;5;241m.\u001b[39mset_xlabel(\u001b[38;5;124m'\u001b[39m\u001b[38;5;124mAverage Runtime\u001b[39m\u001b[38;5;124m'\u001b[39m)\n",
      "File \u001b[1;32m~\\anaconda3\\lib\\site-packages\\pandas\\core\\generic.py:5487\u001b[0m, in \u001b[0;36mNDFrame.__getattr__\u001b[1;34m(self, name)\u001b[0m\n\u001b[0;32m   5480\u001b[0m \u001b[38;5;28;01mif\u001b[39;00m (\n\u001b[0;32m   5481\u001b[0m     name \u001b[38;5;129;01mnot\u001b[39;00m \u001b[38;5;129;01min\u001b[39;00m \u001b[38;5;28mself\u001b[39m\u001b[38;5;241m.\u001b[39m_internal_names_set\n\u001b[0;32m   5482\u001b[0m     \u001b[38;5;129;01mand\u001b[39;00m name \u001b[38;5;129;01mnot\u001b[39;00m \u001b[38;5;129;01min\u001b[39;00m \u001b[38;5;28mself\u001b[39m\u001b[38;5;241m.\u001b[39m_metadata\n\u001b[0;32m   5483\u001b[0m     \u001b[38;5;129;01mand\u001b[39;00m name \u001b[38;5;129;01mnot\u001b[39;00m \u001b[38;5;129;01min\u001b[39;00m \u001b[38;5;28mself\u001b[39m\u001b[38;5;241m.\u001b[39m_accessors\n\u001b[0;32m   5484\u001b[0m     \u001b[38;5;129;01mand\u001b[39;00m \u001b[38;5;28mself\u001b[39m\u001b[38;5;241m.\u001b[39m_info_axis\u001b[38;5;241m.\u001b[39m_can_hold_identifiers_and_holds_name(name)\n\u001b[0;32m   5485\u001b[0m ):\n\u001b[0;32m   5486\u001b[0m     \u001b[38;5;28;01mreturn\u001b[39;00m \u001b[38;5;28mself\u001b[39m[name]\n\u001b[1;32m-> 5487\u001b[0m \u001b[38;5;28;01mreturn\u001b[39;00m \u001b[38;5;28;43mobject\u001b[39;49m\u001b[38;5;241;43m.\u001b[39;49m\u001b[38;5;21;43m__getattribute__\u001b[39;49m\u001b[43m(\u001b[49m\u001b[38;5;28;43mself\u001b[39;49m\u001b[43m,\u001b[49m\u001b[43m \u001b[49m\u001b[43mname\u001b[49m\u001b[43m)\u001b[49m\n",
      "\u001b[1;31mAttributeError\u001b[0m: 'DataFrame' object has no attribute 'Runtimes'"
     ]
    }
   ],
   "source": [
    "ax = Runtimes[:5].Runtimes.plot.barh();\n",
    "ax.set_title(\"Top 5 active directors by Average Runtime\")\n",
    "ax.set_xlabel('Average Runtime');"
   ]
  },
  {
   "cell_type": "code",
   "execution_count": null,
   "metadata": {},
   "outputs": [],
   "source": []
  },
  {
   "cell_type": "code",
   "execution_count": null,
   "metadata": {},
   "outputs": [],
   "source": []
  },
  {
   "cell_type": "code",
   "execution_count": null,
   "metadata": {},
   "outputs": [],
   "source": []
  },
  {
   "cell_type": "code",
   "execution_count": null,
   "metadata": {},
   "outputs": [],
   "source": []
  },
  {
   "cell_type": "code",
   "execution_count": 77,
   "metadata": {},
   "outputs": [
    {
     "data": {
      "text/plain": [
       "<AxesSubplot:>"
      ]
     },
     "execution_count": 77,
     "metadata": {},
     "output_type": "execute_result"
    },
    {
     "data": {
      "image/png": "[encoded data removed]",
      "text/plain": [
       "<Figure size 720x432 with 2 Axes>"
      ]
     },
     "metadata": {},
     "output_type": "display_data"
    }
   ],
   "source": [
    "plt.figure(figsize=(10,6))\n",
    "correlation = df.corr()\n",
    "sns.heatmap(correlation)"
   ]
  },
  {
   "cell_type": "code",
   "execution_count": 79,
   "metadata": {},
   "outputs": [
    {
     "data": {
      "text/plain": [
       "IMDB_Rating    1.000000\n",
       "No_of_Votes    0.494979\n",
       "Meta_score     0.253903\n",
       "Runtime        0.243096\n",
       "Gross          0.089881\n",
       "Name: IMDB_Rating, dtype: float64"
      ]
     },
     "execution_count": 79,
     "metadata": {},
     "output_type": "execute_result"
    }
   ],
   "source": [
    "correlation_matrix = df.corr()\n",
    "correlation_matrix['IMDB_Rating'].sort_values(ascending=False)"
   ]
  },
  {
   "cell_type": "code",
   "execution_count": null,
   "metadata": {},
   "outputs": [],
   "source": []
  },
  {
   "cell_type": "code",
   "execution_count": null,
   "metadata": {},
   "outputs": [],
   "source": []
  },
  {
   "cell_type": "code",
   "execution_count": 15,
   "metadata": {
    "execution": {
     "iopub.execute_input": "2021-10-14T15:40:26.639743Z",
     "iopub.status.busy": "2021-10-14T15:40:26.639093Z",
     "iopub.status.idle": "2021-10-14T15:40:28.518606Z",
     "shell.execute_reply": "2021-10-14T15:40:28.517754Z",
     "shell.execute_reply.started": "2021-10-14T15:40:26.639689Z"
    }
   },
   "outputs": [
    {
     "data": {
      "image/png": "[encoded data removed]",
      "text/plain": [
       "<Figure size 1440x288 with 5 Axes>"
      ]
     },
     "metadata": {},
     "output_type": "display_data"
    }
   ],
   "source": [
    "g = sns.FacetGrid(df[df['genre'].isin(['Drama', 'Crime', 'Action', 'Comedy', 'Biography'])], col='genre', height=4,\n",
    "                 sharex=False, sharey=False, xlim=(0,200), ylim=(0,.025))\n",
    "g.map(sns.kdeplot, 'Runtime', shade=True, color='black', bw=.5)\n",
    "g.map_dataframe(add_mean_line)\n",
    "g.set_titles(col_template='Genre: {col_name}');"
   ]
  },
  {
   "cell_type": "markdown",
   "metadata": {},
   "source": [
    "Conclusions: \n",
    "* Drama seems to be the most popular genre\n",
    "* There's no big difference in mean runtime over genres"
   ]
  },
  {
   "cell_type": "markdown",
   "metadata": {},
   "source": [
    "### Gross"
   ]
  },
  {
   "cell_type": "markdown",
   "metadata": {},
   "source": [
    "### SCATTER PLOT"
   ]
  },
  {
   "cell_type": "code",
   "execution_count": 16,
   "metadata": {
    "execution": {
     "iopub.execute_input": "2021-10-14T15:40:28.520198Z",
     "iopub.status.busy": "2021-10-14T15:40:28.519920Z",
     "iopub.status.idle": "2021-10-14T15:40:28.695840Z",
     "shell.execute_reply": "2021-10-14T15:40:28.695058Z",
     "shell.execute_reply.started": "2021-10-14T15:40:28.520166Z"
    }
   },
   "outputs": [
    {
     "data": {
      "application/vnd.plotly.v1+json": {
       "config": {
        "plotlyServerURL": "https://plot.ly"
       },
       "data": [
        {
         "customdata": [
          [
           "The Shawshank Redemption"
          ],
          [
           "Fight Club"
          ],
          [
           "Forrest Gump"
          ],
          [
           "One Flew Over the Cuckoo's Nest"
          ],
          [
           "Soorarai Pottru"
          ],
          [
           "Saving Private Ryan"
          ],
          [
           "It's a Wonderful Life"
          ],
          [
           "Whiplash"
          ],
          [
           "The Prestige"
          ],
          [
           "American History X"
          ],
          [
           "Nuovo Cinema Paradiso"
          ],
          [
           "Casablanca"
          ],
          [
           "Capharnaüm"
          ],
          [
           "Django Unchained"
          ],
          [
           "Taare Zameen Par"
          ],
          [
           "The Lives of Others"
          ],
          [
           "The Shining"
          ],
          [
           "Apocalypse Now"
          ],
          [
           "Anand"
          ],
          [
           "Paths of Glory"
          ],
          [
           "Sunset Blvd."
          ],
          [
           "1917"
          ],
          [
           "Tumbbad"
          ],
          [
           "Jagten"
          ],
          [
           "Jodaeiye Nader az Simin"
          ],
          [
           "Incendies"
          ],
          [
           "Miracle in cell NO.7"
          ],
          [
           "Babam ve Oglum"
          ],
          [
           "Eternal Sunshine of the Spotless Mind"
          ],
          [
           "Requiem for a Dream"
          ],
          [
           "American Beauty"
          ],
          [
           "Good Will Hunting"
          ],
          [
           "Bacheha-Ye aseman"
          ],
          [
           "Full Metal Jacket"
          ],
          [
           "Idi i smotri"
          ],
          [
           "Ikiru"
          ],
          [
           "Ladri di biciclette"
          ],
          [
           "Citizen Kane"
          ],
          [
           "Metropolis"
          ],
          [
           "Mandariinid"
          ],
          [
           "Udaan"
          ],
          [
           "El secreto de sus ojos"
          ],
          [
           "Chak De! India"
          ],
          [
           "There Will Be Blood"
          ],
          [
           "Pan's Labyrinth"
          ],
          [
           "Black"
          ],
          [
           "Swades: We, the People"
          ],
          [
           "Unforgiven"
          ],
          [
           "Stalker"
          ],
          [
           "Höstsonaten"
          ],
          [
           "Judgment at Nuremberg"
          ],
          [
           "Smultronstället"
          ],
          [
           "Det sjunde inseglet"
          ],
          [
           "Tôkyô monogatari"
          ],
          [
           "All About Eve"
          ],
          [
           "Portrait de la jeune fille en feu"
          ],
          [
           "Pink"
          ],
          [
           "Ah-ga-ssi"
          ],
          [
           "Mommy"
          ],
          [
           "Room"
          ],
          [
           "Kis Uykusu"
          ],
          [
           "Gone Girl"
          ],
          [
           "Gran Torino"
          ],
          [
           "Okuribito"
          ],
          [
           "Million Dollar Baby"
          ],
          [
           "Before Sunset"
          ],
          [
           "Amores perros"
          ],
          [
           "The Sixth Sense"
          ],
          [
           "La leggenda del pianista sull'oceano"
          ],
          [
           "Fa yeung nin wah"
          ],
          [
           "Trainspotting"
          ],
          [
           "Dilwale Dulhania Le Jayenge"
          ],
          [
           "Before Sunrise"
          ],
          [
           "Trois couleurs: Rouge"
          ],
          [
           "Ba wang bie ji"
          ],
          [
           "Dà hóng denglong gaogao guà"
          ],
          [
           "Platoon"
          ],
          [
           "Paris, Texas"
          ],
          [
           "Pink Floyd: The Wall"
          ],
          [
           "Fanny och Alexander"
          ],
          [
           "The Deer Hunter"
          ],
          [
           "Rocky"
          ],
          [
           "Network"
          ],
          [
           "Chinatown"
          ],
          [
           "Viskningar och rop"
          ],
          [
           "Solaris"
          ],
          [
           "Persona"
          ],
          [
           "La battaglia di Algeri"
          ],
          [
           "El ángel exterminador"
          ],
          [
           "What Ever Happened to Baby Jane?"
          ],
          [
           "The Man Who Shot Liberty Valance"
          ],
          [
           "Ivanovo detstvo"
          ],
          [
           "Jungfrukällan"
          ],
          [
           "Le notti di Cabiria"
          ],
          [
           "Kumonosu-jô"
          ],
          [
           "Ace in the Hole"
          ],
          [
           "The Red Shoes"
          ],
          [
           "Rebecca"
          ],
          [
           "Gone with the Wind"
          ],
          [
           "La Grande Illusion"
          ],
          [
           "Sunrise: A Song of Two Humans"
          ],
          [
           "Airlift"
          ],
          [
           "Wonder"
          ],
          [
           "Gully Boy"
          ],
          [
           "Short Term 12"
          ],
          [
           "Her"
          ],
          [
           "The Perks of Being a Wallflower"
          ],
          [
           "The Help"
          ],
          [
           "Darbareye Elly"
          ],
          [
           "Dev.D"
          ],
          [
           "My Name Is Khan"
          ],
          [
           "Slumdog Millionaire"
          ],
          [
           "Black Swan"
          ],
          [
           "Vozvrashchenie"
          ],
          [
           "Bom Yeoareum Gaeul Gyeoul Geurigo Bom"
          ],
          [
           "Donnie Darko"
          ],
          [
           "Magnolia"
          ],
          [
           "Festen"
          ],
          [
           "Central do Brasil"
          ],
          [
           "Sling Blade"
          ],
          [
           "Scent of a Woman"
          ],
          [
           "JFK"
          ],
          [
           "Rain Man"
          ],
          [
           "Der Himmel über Berlin"
          ],
          [
           "Au revoir les enfants"
          ],
          [
           "Kagemusha"
          ],
          [
           "The Last Picture Show"
          ],
          [
           "Fiddler on the Roof"
          ],
          [
           "Il conformista"
          ],
          [
           "Rosemary's Baby"
          ],
          [
           "Who's Afraid of Virginia Woolf?"
          ],
          [
           "Doctor Zhivago"
          ],
          [
           "8½"
          ],
          [
           "Vivre sa vie: Film en douze tableaux"
          ],
          [
           "The Hustler"
          ],
          [
           "Cat on a Hot Tin Roof"
          ],
          [
           "Sweet Smell of Success"
          ],
          [
           "La Strada"
          ],
          [
           "A Streetcar Named Desire"
          ],
          [
           "In a Lonely Place"
          ],
          [
           "Brief Encounter"
          ],
          [
           "Laura"
          ],
          [
           "The Best Years of Our Lives"
          ],
          [
           "The Grapes of Wrath"
          ],
          [
           "All Quiet on the Western Front"
          ],
          [
           "Bronenosets Potemkin"
          ],
          [
           "Call Me by Your Name"
          ],
          [
           "I, Daniel Blake"
          ],
          [
           "Arrival"
          ],
          [
           "Before Midnight"
          ],
          [
           "Amour"
          ],
          [
           "Moon"
          ],
          [
           "The Wrestler"
          ],
          [
           "Boyhood"
          ],
          [
           "4 luni, 3 saptamâni si 2 zile"
          ],
          [
           "The Man from Earth"
          ],
          [
           "Les choristes"
          ],
          [
           "Gegen die Wand"
          ],
          [
           "Hable con ella"
          ],
          [
           "Mulholland Dr."
          ],
          [
           "Boogie Nights"
          ],
          [
           "Trois couleurs: Bleu"
          ],
          [
           "Edward Scissorhands"
          ],
          [
           "Brazil"
          ],
          [
           "All That Jazz"
          ],
          [
           "The Manchurian Candidate"
          ],
          [
           "L'avventura"
          ],
          [
           "Hiroshima mon amour"
          ],
          [
           "East of Eden"
          ],
          [
           "High Noon"
          ],
          [
           "Notorious"
          ],
          [
           "The Lost Weekend"
          ],
          [
           "Freaks"
          ],
          [
           "Sound of Metal"
          ],
          [
           "Forushande"
          ],
          [
           "Manchester by the Sea"
          ],
          [
           "Under sandet"
          ],
          [
           "Little Women"
          ],
          [
           "Le passé"
          ],
          [
           "La grande bellezza"
          ],
          [
           "The Lunchbox"
          ],
          [
           "Kokuhaku"
          ],
          [
           "Das weiße Band - Eine deutsche Kindergeschichte"
          ],
          [
           "The Trial of the Chicago 7"
          ],
          [
           "The Boy in the Striped Pyjamas"
          ],
          [
           "Once"
          ],
          [
           "Auf der anderen Seite"
          ],
          [
           "Atonement"
          ],
          [
           "Mr. Nobody"
          ],
          [
           "The Curious Case of Benjamin Button"
          ],
          [
           "Veer-Zaara"
          ],
          [
           "Pride & Prejudice"
          ],
          [
           "Ondskan"
          ],
          [
           "The Notebook"
          ],
          [
           "Todo sobre mi madre"
          ],
          [
           "Titanic"
          ],
          [
           "Gattaca"
          ],
          [
           "Breaking the Waves"
          ],
          [
           "What's Eating Gilbert Grape"
          ],
          [
           "The Remains of the Day"
          ],
          [
           "La double vie de Véronique"
          ],
          [
           "Misery"
          ],
          [
           "The Color Purple"
          ],
          [
           "Kramer vs. Kramer"
          ],
          [
           "Days of Heaven"
          ],
          [
           "The Conversation"
          ],
          [
           "Cabaret"
          ],
          [
           "Midnight Cowboy"
          ],
          [
           "My Fair Lady"
          ],
          [
           "Jules et Jim"
          ],
          [
           "Bride of Frankenstein"
          ],
          [
           "Frankenstein"
          ],
          [
           "Roma"
          ],
          [
           "God's Own Country"
          ],
          [
           "The Fault in Our Stars"
          ],
          [
           "La vie d'Adèle"
          ],
          [
           "Kai po che!"
          ],
          [
           "The Broken Circle Breakdown"
          ],
          [
           "Rockstar"
          ],
          [
           "Detachment"
          ],
          [
           "Gravity"
          ],
          [
           "Beasts of No Nation"
          ],
          [
           "Ex Machina"
          ],
          [
           "Efter brylluppet"
          ],
          [
           "Joyeux Noël"
          ],
          [
           "Zwartboek"
          ],
          [
           "Brokeback Mountain"
          ],
          [
           "The Machinist"
          ],
          [
           "The Magdalene Sisters"
          ],
          [
           "In America"
          ],
          [
           "I Am Sam"
          ],
          [
           "Black Hawk Down"
          ],
          [
           "Das Experiment"
          ],
          [
           "Billy Elliot"
          ],
          [
           "Abre los ojos"
          ],
          [
           "Hamlet"
          ],
          [
           "A Little Princess"
          ],
          [
           "Philadelphia"
          ],
          [
           "A Few Good Men"
          ],
          [
           "Fried Green Tomatoes"
          ],
          [
           "Blue Velvet"
          ],
          [
           "The Verdict"
          ],
          [
           "Ordinary People"
          ],
          [
           "Le locataire"
          ],
          [
           "Belle de jour"
          ],
          [
           "Repulsion"
          ],
          [
           "Zulu"
          ],
          [
           "The Birds"
          ],
          [
           "Cape Fear"
          ],
          [
           "Peeping Tom"
          ],
          [
           "Les yeux sans visage"
          ],
          [
           "Invasion of the Body Snatchers"
          ],
          [
           "Rebel Without a Cause"
          ],
          [
           "The Day the Earth Stood Still"
          ],
          [
           "Gilda"
          ],
          [
           "Searching"
          ],
          [
           "Nelyubov"
          ],
          [
           "The Florida Project"
          ],
          [
           "Gifted"
          ],
          [
           "Mustang"
          ],
          [
           "Bridge of Spies"
          ],
          [
           "Creed"
          ],
          [
           "A Star Is Born"
          ],
          [
           "True Grit"
          ],
          [
           "Hævnen"
          ],
          [
           "La piel que habito"
          ],
          [
           "Die Welle"
          ],
          [
           "The Visitor"
          ],
          [
           "Seven Pounds"
          ],
          [
           "The Illusionist"
          ],
          [
           "Match Point"
          ],
          [
           "Synecdoche, New York"
          ],
          [
           "Mysterious Skin"
          ],
          [
           "Un long dimanche de fiançailles"
          ],
          [
           "25th Hour"
          ],
          [
           "The Butterfly Effect"
          ],
          [
           "28 Days Later..."
          ],
          [
           "Y tu mamá también"
          ],
          [
           "Enemy at the Gates"
          ],
          [
           "The Thin Red Line"
          ],
          [
           "Sense and Sensibility"
          ],
          [
           "The Bridges of Madison County"
          ],
          [
           "On Golden Pond"
          ],
          [
           "Close Encounters of the Third Kind"
          ],
          [
           "Giù la testa"
          ],
          [
           "Blowup"
          ],
          [
           "Giant"
          ],
          [
           "From Here to Eternity"
          ],
          [
           "Lifeboat"
          ]
         ],
         "hovertemplate": "genre=Drama<br>Gross=%{x}<br>No_of_Votes=%{y}<br>Series_Title=%{customdata[0]}<extra></extra>",
         "legendgroup": "Drama",
         "marker": {
          "color": "#636efa",
          "symbol": "circle"
         },
         "mode": "markers",
         "name": "Drama",
         "orientation": "v",
         "showlegend": true,
         "type": "scatter",
         "x": [
          28341469,
          37030102,
          330252182,
          112000000,
          68034750.87364621,
          216540909,
          68034750.87364621,
          13092000,
          53089891,
          6719864,
          11990401,
          1024560,
          1661096,
          162805434,
          1223869,
          11286112,
          44017374,
          83471511,
          68034750.87364621,
          68034750.87364621,
          68034750.87364621,
          159227644,
          68034750.87364621,
          687185,
          7098492,
          6857096,
          68034750.87364621,
          68034750.87364621,
          34400301,
          3635482,
          130096601,
          138433435,
          933933,
          46357676,
          68034750.87364621,
          55240,
          332930,
          1585634,
          1236166,
          144501,
          7461,
          6391436,
          1113541,
          40222514,
          37634615,
          733094,
          1223240,
          101157447,
          234723,
          68034750.87364621,
          68034750.87364621,
          68034750.87364621,
          68034750.87364621,
          68034750.87364621,
          10177,
          3759854,
          1241223,
          2006788,
          3492754,
          14677674,
          165520,
          167767189,
          148095302,
          1498210,
          100492203,
          5820649,
          5383834,
          293506292,
          259127,
          2734044,
          16501785,
          68034750.87364621,
          5535405,
          4043686,
          5216888,
          2603061,
          138530565,
          2181987,
          22244207,
          4971340,
          48979328,
          117235247,
          68034750.87364621,
          29000000,
          1742348,
          68034750.87364621,
          68034750.87364621,
          55908,
          68034750.87364621,
          4050000,
          68034750.87364621,
          68034750.87364621,
          1526000,
          752045,
          68034750.87364621,
          3969893,
          10900000,
          4360000,
          198676459,
          172885,
          539540,
          68034750.87364621,
          132422809,
          5566534,
          1010414,
          25568251,
          17738570,
          169708112,
          106662,
          10950,
          4018695,
          141319928,
          106954678,
          502028,
          2380788,
          1480006,
          22455976,
          1647780,
          5595428,
          24475416,
          63895607,
          70405498,
          178800000,
          3333969,
          4542825,
          68034750.87364621,
          29133000,
          80500000,
          541940,
          68034750.87364621,
          68034750.87364621,
          111722000,
          50690,
          68034750.87364621,
          8284000,
          17570324,
          68034750.87364621,
          68034750.87364621,
          8000000,
          68034750.87364621,
          68034750.87364621,
          4360000,
          23650000,
          55000,
          3270000,
          50970,
          18095701,
          258168,
          100546139,
          8114627,
          6739492,
          5009677,
          26236603,
          25379975,
          1185783,
          68034750.87364621,
          3635164,
          68034750.87364621,
          9284265,
          7220243,
          26400640,
          1324974,
          56362352,
          9929135,
          37823676,
          68034750.87364621,
          68034750.87364621,
          88300,
          68034750.87364621,
          9450000,
          10464000,
          9460000,
          68034750.87364621,
          68034750.87364621,
          2402067,
          47695120,
          435266,
          108101214,
          1330596,
          2852400,
          4231500,
          68034750.87364621,
          2222647,
          68034750.87364621,
          9030581,
          9439923,
          741283,
          50927067,
          3600,
          127509326,
          2921738,
          38405088,
          15280,
          81001787,
          8264530,
          659325379,
          12339633,
          4040691,
          9170214,
          22954968,
          1999955,
          61276872,
          98467863,
          106260000,
          68034750.87364621,
          4420000,
          42765000,
          44785053,
          72000000,
          68034750.87364621,
          4360000,
          68034750.87364621,
          68034750.87364621,
          335609,
          124872350,
          2199675,
          1122527,
          175058,
          985912,
          71177,
          274092705,
          83861,
          25442958,
          412544,
          1054361,
          4398392,
          83043761,
          1082715,
          4890878,
          15539266,
          40311852,
          108638745,
          141072,
          21995263,
          368234,
          4414535,
          10019307,
          77324422,
          141340178,
          82418501,
          8551228,
          54000000,
          54800000,
          1924733,
          26331,
          68034750.87364621,
          68034750.87364621,
          11403529,
          68034750.87364621,
          83957,
          52709,
          68034750.87364621,
          68034750.87364621,
          68034750.87364621,
          68034750.87364621,
          26020957,
          566356,
          5904366,
          24801212,
          845464,
          72313754,
          109767581,
          215288866,
          171243005,
          1008098,
          3185812,
          68034750.87364621,
          9422422,
          69951824,
          39868642,
          23089926,
          3081925,
          697181,
          6167817,
          13060843,
          57938693,
          45064915,
          13622333,
          51401758,
          36400491,
          43182776,
          71516617,
          119285432,
          132088635,
          696690,
          68034750.87364621,
          68034750.87364621,
          30500000,
          68034750.87364621
         ],
         "xaxis": "x",
         "y": [
          2343110,
          1854740,
          1809221,
          918088,
          54995,
          1235804,
          405801,
          717585,
          1190259,
          1034705,
          230763,
          522093,
          62635,
          1357682,
          168895,
          358685,
          898237,
          606398,
          30273,
          178092,
          201632,
          425844,
          27793,
          281623,
          220002,
          150023,
          33935,
          78925,
          911664,
          766870,
          1069738,
          861606,
          65341,
          675146,
          59056,
          68463,
          146427,
          403351,
          159992,
          40382,
          42341,
          193217,
          74129,
          517359,
          618623,
          33354,
          83005,
          375935,
          116945,
          26875,
          69458,
          96381,
          164939,
          53153,
          120539,
          63134,
          39216,
          113649,
          50700,
          371538,
          46547,
          859695,
          720450,
          48582,
          635975,
          236311,
          223741,
          911573,
          59020,
          124383,
          634716,
          63516,
          272291,
          90729,
          25088,
          29662,
          381222,
          91188,
          76081,
          57784,
          311361,
          518546,
          144911,
          294230,
          30206,
          81021,
          103191,
          53089,
          29682,
          50058,
          68827,
          31728,
          26697,
          42940,
          46678,
          31568,
          30935,
          123942,
          290074,
          33829,
          46865,
          52897,
          141923,
          31886,
          81770,
          540772,
          462252,
          428521,
          45803,
          28749,
          98575,
          798882,
          699673,
          42399,
          77520,
          740086,
          289742,
          78341,
          36419,
          86838,
          263918,
          142110,
          473064,
          64722,
          31163,
          32195,
          42456,
          39491,
          27067,
          193674,
          68926,
          69903,
          108844,
          28057,
          75067,
          45062,
          28137,
          58314,
          99182,
          26784,
          35601,
          42725,
          57259,
          85559,
          57318,
          53054,
          212651,
          53818,
          594181,
          141457,
          93090,
          335152,
          289415,
          335533,
          56625,
          174125,
          57430,
          51325,
          104691,
          322031,
          239473,
          89836,
          447368,
          187567,
          28223,
          71122,
          26542,
          28421,
          40313,
          97222,
          92306,
          33549,
          42117,
          27187,
          51240,
          246963,
          35539,
          143250,
          45002,
          81125,
          50523,
          35713,
          68715,
          89896,
          190748,
          110656,
          30827,
          251370,
          216421,
          589160,
          49050,
          258924,
          35682,
          520284,
          89058,
          1046089,
          280845,
          62428,
          215034,
          66065,
          42376,
          184740,
          78321,
          133351,
          52852,
          98611,
          48334,
          101124,
          86525,
          37605,
          43542,
          65341,
          140375,
          25198,
          344312,
          138741,
          32628,
          39379,
          39501,
          77071,
          769145,
          73964,
          474141,
          32001,
          28003,
          72643,
          323103,
          358432,
          25938,
          40403,
          142863,
          364254,
          90842,
          126770,
          64082,
          35991,
          32236,
          224169,
          235388,
          66941,
          181285,
          36096,
          47099,
          39889,
          40274,
          48883,
          35999,
          171739,
          26457,
          31354,
          27620,
          44839,
          83363,
          76315,
          27991,
          140840,
          29765,
          95181,
          99643,
          35785,
          287659,
          247666,
          334312,
          311822,
          38491,
          138959,
          102742,
          41544,
          286770,
          354728,
          206294,
          83158,
          65939,
          70925,
          169708,
          451479,
          376853,
          115827,
          243729,
          172710,
          102598,
          73172,
          27650,
          184966,
          30144,
          56513,
          34075,
          43374,
          26471
         ],
         "yaxis": "y"
        },
        {
         "customdata": [
          [
           "The Godfather"
          ],
          [
           "The Godfather: Part II"
          ],
          [
           "12 Angry Men"
          ],
          [
           "Pulp Fiction"
          ],
          [
           "Cidade de Deus"
          ],
          [
           "The Green Mile"
          ],
          [
           "Se7en"
          ],
          [
           "The Silence of the Lambs"
          ],
          [
           "Joker"
          ],
          [
           "The Departed"
          ],
          [
           "The Usual Suspects"
          ],
          [
           "Once Upon a Time in America"
          ],
          [
           "Tengoku to jigoku"
          ],
          [
           "Witness for the Prosecution"
          ],
          [
           "Andhadhun"
          ],
          [
           "Drishyam"
          ],
          [
           "Reservoir Dogs"
          ],
          [
           "Scarface"
          ],
          [
           "Taxi Driver"
          ],
          [
           "A Clockwork Orange"
          ],
          [
           "Double Indemnity"
          ],
          [
           "M - Eine Stadt sucht einen Mörder"
          ],
          [
           "Talvar"
          ],
          [
           "Drishyam"
          ],
          [
           "L.A. Confidential"
          ],
          [
           "Eskiya"
          ],
          [
           "Heat"
          ],
          [
           "Casino"
          ],
          [
           "To Kill a Mockingbird"
          ],
          [
           "Du rififi chez les hommes"
          ],
          [
           "Dial M for Murder"
          ],
          [
           "Rashômon"
          ],
          [
           "Contratiempo"
          ],
          [
           "Prisoners"
          ],
          [
           "No Country for Old Men"
          ],
          [
           "Salinui chueok"
          ],
          [
           "Fargo"
          ],
          [
           "La haine"
          ],
          [
           "Le samouraï"
          ],
          [
           "Cool Hand Luke"
          ],
          [
           "Les quatre cents coups"
          ],
          [
           "On the Waterfront"
          ],
          [
           "Special Chabbis"
          ],
          [
           "Bin-jip"
          ],
          [
           "Sin City"
          ],
          [
           "Dogville"
          ],
          [
           "Dancer in the Dark"
          ],
          [
           "Bound by Honor"
          ],
          [
           "Anatomy of a Murder"
          ],
          [
           "Touch of Evil"
          ],
          [
           "The Killing"
          ],
          [
           "The Night of the Hunter"
          ],
          [
           "Les diaboliques"
          ],
          [
           "Rope"
          ],
          [
           "Out of the Past"
          ],
          [
           "Manbiki kazoku"
          ],
          [
           "Nightcrawler"
          ],
          [
           "Bir Zamanlar Anadolu'da"
          ],
          [
           "Un prophète"
          ],
          [
           "Låt den rätte komma in"
          ],
          [
           "Mystic River"
          ],
          [
           "Nueve reinas"
          ],
          [
           "Once Were Warriors"
          ],
          [
           "True Romance"
          ],
          [
           "Carlito's Way"
          ],
          [
           "The Untouchables"
          ],
          [
           "In the Heat of the Night"
          ],
          [
           "Strangers on a Train"
          ],
          [
           "The Big Sleep"
          ],
          [
           "The Hateful Eight"
          ],
          [
           "La migliore offerta"
          ],
          [
           "The Girl with the Dragon Tattoo"
          ],
          [
           "Madeo"
          ],
          [
           "Män som hatar kvinnor"
          ],
          [
           "Drive"
          ],
          [
           "Lilja 4-ever"
          ],
          [
           "Hana-bi"
          ],
          [
           "A Bronx Tale"
          ],
          [
           "Boyz n the Hood"
          ],
          [
           "Mississippi Burning"
          ],
          [
           "The Day of the Jackal"
          ],
          [
           "À bout de souffle"
          ],
          [
           "Wind River"
          ],
          [
           "Death Note: Desu nôto"
          ],
          [
           "This Is England"
          ],
          [
           "Zodiac"
          ],
          [
           "Crash"
          ],
          [
           "Road to Perdition"
          ],
          [
           "Ocean's Eleven"
          ],
          [
           "Training Day"
          ],
          [
           "Primal Fear"
          ],
          [
           "Glengarry Glen Ross"
          ],
          [
           "Miller's Crossing"
          ],
          [
           "Der Name der Rose"
          ],
          [
           "Victoria"
          ],
          [
           "Leviafan"
          ],
          [
           "Inside Man"
          ],
          [
           "Gone Baby Gone"
          ],
          [
           "Dead Man's Shoes"
          ],
          [
           "21 Grams"
          ],
          [
           "Boksuneun naui geot"
          ],
          [
           "Lola rennt"
          ],
          [
           "Funny Games"
          ],
          [
           "Sleepers"
          ],
          [
           "The Godfather: Part III"
          ],
          [
           "Blood Simple"
          ],
          [
           "The 39 Steps"
          ]
         ],
         "hovertemplate": "genre=Crime<br>Gross=%{x}<br>No_of_Votes=%{y}<br>Series_Title=%{customdata[0]}<extra></extra>",
         "legendgroup": "Crime",
         "marker": {
          "color": "#EF553B",
          "symbol": "circle"
         },
         "mode": "markers",
         "name": "Crime",
         "orientation": "v",
         "showlegend": true,
         "type": "scatter",
         "x": [
          134966411,
          57300000,
          4360000,
          107928762,
          7563397,
          136801374,
          100125643,
          130742922,
          335451311,
          132384315,
          23341568,
          5321508,
          68034750.87364621,
          8175000,
          1373943,
          68034750.87364621,
          2832029,
          45598982,
          28262574,
          6207725,
          5720000,
          28877,
          342370,
          739478,
          64616940,
          68034750.87364621,
          67436818,
          42438300,
          68034750.87364621,
          57226,
          12562,
          96568,
          68034750.87364621,
          61002302,
          74283625,
          14131,
          24611975,
          309811,
          39481,
          16217773,
          68034750.87364621,
          9600000,
          1079369,
          238507,
          74103820,
          1530386,
          4184036,
          4496583,
          11900000,
          2237659,
          68034750.87364621,
          654000,
          68034750.87364621,
          68034750.87364621,
          68034750.87364621,
          3313513,
          32381218,
          138730,
          2084637,
          2122065,
          90135191,
          1221261,
          2201126,
          12281500,
          36948322,
          76270454,
          24379978,
          7630000,
          6540000,
          54117416,
          85433,
          102515793,
          547292,
          10095170,
          35061555,
          181655,
          233986,
          17266971,
          57504069,
          34603943,
          16056255,
          336705,
          33800859,
          68034750.87364621,
          327919,
          33080084,
          54580300,
          104454762,
          183417150,
          76631907,
          56116183,
          10725228,
          5080409,
          7153487,
          68034750.87364621,
          1092800,
          88513495,
          20300218,
          6013,
          16290476,
          45289,
          7267585,
          68034750.87364621,
          49100000,
          66666062,
          2150000,
          68034750.87364621
         ],
         "xaxis": "x",
         "y": [
          1620367,
          1129952,
          689845,
          1826188,
          699256,
          1147794,
          1445096,
          1270197,
          939252,
          1189773,
          991208,
          311365,
          34357,
          108862,
          71875,
          30722,
          918562,
          740911,
          724636,
          757904,
          143525,
          143434,
          31142,
          70367,
          531967,
          64118,
          577113,
          466276,
          293811,
          28810,
          158335,
          152572,
          141516,
          601149,
          856916,
          139558,
          617444,
          150345,
          45434,
          161984,
          105291,
          142107,
          51069,
          50610,
          738512,
          137963,
          102285,
          28825,
          59847,
          98431,
          81702,
          81980,
          61503,
          129783,
          32784,
          62754,
          466134,
          41995,
          93560,
          205609,
          419420,
          49721,
          31590,
          206918,
          201000,
          281842,
          67804,
          123341,
          78796,
          517059,
          108399,
          423010,
          52758,
          208994,
          571571,
          42673,
          27712,
          128171,
          126082,
          88214,
          37445,
          73251,
          205444,
          28630,
          115576,
          466080,
          419483,
          246840,
          516372,
          390247,
          189716,
          95826,
          125822,
          102031,
          52903,
          49397,
          339757,
          250590,
          49728,
          224545,
          62659,
          188317,
          65058,
          186734,
          359809,
          87745,
          51853
         ],
         "yaxis": "y"
        },
        {
         "customdata": [
          [
           "The Dark Knight"
          ],
          [
           "The Lord of the Rings: The Return of the King"
          ],
          [
           "Inception"
          ],
          [
           "The Lord of the Rings: The Fellowship of the Ring"
          ],
          [
           "The Lord of the Rings: The Two Towers"
          ],
          [
           "The Matrix"
          ],
          [
           "Star Wars: Episode V - The Empire Strikes Back"
          ],
          [
           "Star Wars"
          ],
          [
           "Seppuku"
          ],
          [
           "Shichinin no samurai"
          ],
          [
           "Gladiator"
          ],
          [
           "Léon"
          ],
          [
           "Terminator 2: Judgment Day"
          ],
          [
           "Vikram Vedha"
          ],
          [
           "Dangal"
          ],
          [
           "Avengers: Endgame"
          ],
          [
           "Avengers: Infinity War"
          ],
          [
           "The Dark Knight Rises"
          ],
          [
           "Oldeuboi"
          ],
          [
           "Raiders of the Lost Ark"
          ],
          [
           "Aliens"
          ],
          [
           "Star Wars: Episode VI - Return of the Jedi"
          ],
          [
           "Uri: The Surgical Strike"
          ],
          [
           "K.G.F: Chapter 1"
          ],
          [
           "Baahubali 2: The Conclusion"
          ],
          [
           "Gangs of Wasseypur"
          ],
          [
           "Paan Singh Tomar"
          ],
          [
           "Warrior"
          ],
          [
           "V for Vendetta"
          ],
          [
           "Batman Begins"
          ],
          [
           "Hera Pheri"
          ],
          [
           "Lock, Stock and Two Smoking Barrels"
          ],
          [
           "Andaz Apna Apna"
          ],
          [
           "Indiana Jones and the Last Crusade"
          ],
          [
           "Die Hard"
          ],
          [
           "Ran"
          ],
          [
           "Sholay"
          ],
          [
           "Yôjinbô"
          ],
          [
           "Sherlock Jr."
          ],
          [
           "Haider"
          ],
          [
           "Logan"
          ],
          [
           "Rush"
          ],
          [
           "Ford v Ferrari"
          ],
          [
           "Mad Max: Fury Road"
          ],
          [
           "A Wednesday"
          ],
          [
           "Taegukgi hwinalrimyeo"
          ],
          [
           "Kill Bill: Vol. 1"
          ],
          [
           "Jurassic Park"
          ],
          [
           "Blade Runner"
          ],
          [
           "Sanjuro"
          ],
          [
           "White Heat"
          ],
          [
           "The General"
          ],
          [
           "Bajrangi Bhaijaan"
          ],
          [
           "Baby"
          ],
          [
           "Bãhubali: The Beginning"
          ],
          [
           "Serbuan maut 2: Berandal"
          ],
          [
           "Guardians of the Galaxy"
          ],
          [
           "Blade Runner 2049"
          ],
          [
           "The Revenant"
          ],
          [
           "Tropa de Elite 2: O Inimigo Agora é Outro"
          ],
          [
           "Deadpool"
          ],
          [
           "Yip Man"
          ],
          [
           "Nefes: Vatan Sagolsun"
          ],
          [
           "Tropa de Elite"
          ],
          [
           "The Avengers"
          ],
          [
           "The Bourne Ultimatum"
          ],
          [
           "Casino Royale"
          ],
          [
           "Kill Bill: Vol. 2"
          ],
          [
           "Mou gaan dou"
          ],
          [
           "Pirates of the Caribbean: The Curse of the Black Pearl"
          ],
          [
           "Knockin' on Heaven's Door"
          ],
          [
           "The Terminator"
          ],
          [
           "Per un pugno di dollari"
          ],
          [
           "Rio Bravo"
          ],
          [
           "Thor: Ragnarok"
          ],
          [
           "Star Wars: Episode VII - The Force Awakens"
          ],
          [
           "X-Men: Days of Future Past"
          ],
          [
           "Edge of Tomorrow"
          ],
          [
           "District 9"
          ],
          [
           "Star Trek"
          ],
          [
           "Letters from Iwo Jima"
          ],
          [
           "Iron Man"
          ],
          [
           "Ying xiong"
          ],
          [
           "The Bourne Identity"
          ],
          [
           "The Blues Brothers"
          ],
          [
           "Dawn of the Dead"
          ],
          [
           "Aguirre, der Zorn Gottes"
          ],
          [
           "The Wild Bunch"
          ],
          [
           "The Adventures of Robin Hood"
          ],
          [
           "The Gentlemen"
          ],
          [
           "Raazi"
          ],
          [
           "Dunkirk"
          ],
          [
           "Udta Punjab"
          ],
          [
           "Rogue One"
          ],
          [
           "Captain America: Civil War"
          ],
          [
           "Ang-ma-reul bo-at-da"
          ],
          [
           "Ajeossi"
          ],
          [
           "Chugyeokja"
          ],
          [
           "Taken"
          ],
          [
           "Avatar"
          ],
          [
           "Apocalypto"
          ],
          [
           "Hot Fuzz"
          ],
          [
           "Serenity"
          ],
          [
           "Gongdong gyeongbi guyeok JSA"
          ],
          [
           "The Count of Monte Cristo"
          ],
          [
           "Wo hu cang long"
          ],
          [
           "The Boondock Saints"
          ],
          [
           "The Game"
          ],
          [
           "Tombstone"
          ],
          [
           "The Fugitive"
          ],
          [
           "Lat sau san taam"
          ],
          [
           "Dip huet seung hung"
          ],
          [
           "Predator"
          ],
          [
           "Evil Dead II"
          ],
          [
           "Ghostbusters"
          ],
          [
           "Badlands"
          ],
          [
           "Bonnie and Clyde"
          ],
          [
           "The Longest Day"
          ],
          [
           "Red River"
          ],
          [
           "Key Largo"
          ],
          [
           "Scarface: The Shame of the Nation"
          ],
          [
           "Deadpool 2"
          ],
          [
           "Mission: Impossible - Fallout"
          ],
          [
           "Kingsman: The Secret Service"
          ],
          [
           "Captain America: The Winter Soldier"
          ],
          [
           "Star Trek Into Darkness"
          ],
          [
           "X: First Class"
          ],
          [
           "Skyfall"
          ],
          [
           "Lucky Number Slevin"
          ],
          [
           "3:10 to Yuma"
          ],
          [
           "Kung fu"
          ],
          [
           "The Bourne Supremacy"
          ],
          [
           "Man on Fire"
          ],
          [
           "The Last Samurai"
          ],
          [
           "The Fifth Element"
          ],
          [
           "The Last of the Mohicans"
          ],
          [
           "Empire of the Sun"
          ],
          [
           "Star Trek II: The Wrath of Khan"
          ],
          [
           "First Blood"
          ],
          [
           "The Taking of Pelham One Two Three"
          ],
          [
           "Enter the Dragon"
          ],
          [
           "The French Connection"
          ],
          [
           "Dirty Harry"
          ],
          [
           "Where Eagles Dare"
          ],
          [
           "The Dirty Dozen"
          ],
          [
           "Goldfinger"
          ],
          [
           "The Magnificent Seven"
          ],
          [
           "Guardians of the Galaxy Vol. 2"
          ],
          [
           "Baby Driver"
          ],
          [
           "Only the Brave"
          ],
          [
           "Sicario"
          ],
          [
           "Hell or High Water"
          ],
          [
           "Dawn of the Planet of the Apes"
          ],
          [
           "Serbuan maut"
          ],
          [
           "End of Watch"
          ],
          [
           "Kick-Ass"
          ],
          [
           "Celda 211"
          ],
          [
           "Sherlock Holmes"
          ],
          [
           "Eastern Promises"
          ],
          [
           "Huo Yuan Jia"
          ],
          [
           "Harry Potter and the Half-Blood Prince"
          ],
          [
           "300"
          ],
          [
           "Watchmen"
          ],
          [
           "Lord of War"
          ],
          [
           "Batoru rowaiaru"
          ],
          [
           "Minority Report"
          ],
          [
           "Die Hard: With a Vengeance"
          ],
          [
           "Falling Down"
          ],
          [
           "Lethal Weapon"
          ],
          [
           "Mad Max 2"
          ],
          [
           "The Warriors"
          ],
          [
           "Escape from Alcatraz"
          ]
         ],
         "hovertemplate": "genre=Action<br>Gross=%{x}<br>No_of_Votes=%{y}<br>Series_Title=%{customdata[0]}<extra></extra>",
         "legendgroup": "Action",
         "marker": {
          "color": "#00cc96",
          "symbol": "circle"
         },
         "mode": "markers",
         "name": "Action",
         "orientation": "v",
         "showlegend": true,
         "type": "scatter",
         "x": [
          534858444,
          377845905,
          292576195,
          315544750,
          342551365,
          171479930,
          290475067,
          322740140,
          68034750.87364621,
          269061,
          187705427,
          19501238,
          204843350,
          68034750.87364621,
          12391761,
          858373000,
          678815482,
          448139099,
          707481,
          248159971,
          85160248,
          309125409,
          4186168,
          68034750.87364621,
          20186659,
          68034750.87364621,
          39567,
          13657115,
          70511035,
          206852432,
          68034750.87364621,
          3897569,
          68034750.87364621,
          197171806,
          83008852,
          4135750,
          68034750.87364621,
          68034750.87364621,
          977375,
          901610,
          226277068,
          26947624,
          117624028,
          154058340,
          68034750.87364621,
          1111061,
          70099045,
          402453882,
          32868943,
          68034750.87364621,
          68034750.87364621,
          1033895,
          8178001,
          68034750.87364621,
          6738000,
          2625803,
          333176600,
          92054159,
          183637894,
          100119,
          363070709,
          68034750.87364621,
          68034750.87364621,
          8060,
          623279547,
          227471070,
          167445960,
          66208183,
          169659,
          305413918,
          3296,
          38400000,
          14500000,
          12535000,
          315058289,
          936662225,
          233921534,
          100206256,
          115646235,
          257730019,
          13756082,
          318412101,
          53710019,
          121661683,
          57229890,
          5100000,
          68034750.87364621,
          12064472,
          3981000,
          68034750.87364621,
          68034750.87364621,
          188373161,
          68034750.87364621,
          532177324,
          408084349,
          128392,
          6460,
          68034750.87364621,
          145000989,
          760507625,
          50866635,
          23637265,
          25514517,
          68034750.87364621,
          54234062,
          128078872,
          25812,
          48323648,
          56505065,
          183875760,
          68034750.87364621,
          68034750.87364621,
          59735548,
          5923044,
          238632124,
          68034750.87364621,
          68034750.87364621,
          39100000,
          68034750.87364621,
          68034750.87364621,
          68034750.87364621,
          324591735,
          220159104,
          128261724,
          259766572,
          228778661,
          146408305,
          304360277,
          22494487,
          53606916,
          17108591,
          176241941,
          77911774,
          111110575,
          63540020,
          75505856,
          22238696,
          78912963,
          47212904,
          68034750.87364621,
          25000000,
          15630710,
          35900000,
          68034750.87364621,
          45300000,
          51081062,
          4905000,
          389813101,
          107825862,
          18340051,
          46889293,
          26862450,
          208545589,
          4105123,
          41003371,
          48071303,
          68034750.87364621,
          209028679,
          17114882,
          24633730,
          301959197,
          210614939,
          107509799,
          24149632,
          68034750.87364621,
          132072926,
          100012499,
          40903593,
          65207127,
          12465371,
          22490039,
          43000000
         ],
         "xaxis": "x",
         "y": [
          2303232,
          1642758,
          2067042,
          1661481,
          1485555,
          1676426,
          1159315,
          1231473,
          42004,
          315744,
          1341460,
          1035236,
          995506,
          28401,
          156479,
          809955,
          834477,
          1516346,
          515451,
          884112,
          652719,
          950470,
          43444,
          36680,
          75348,
          82365,
          33237,
          435950,
          1032749,
          1308302,
          57057,
          535216,
          49300,
          692366,
          793164,
          112505,
          51284,
          111244,
          41985,
          50445,
          647884,
          432811,
          291289,
          882316,
          73891,
          37820,
          1000639,
          867615,
          693827,
          33044,
          29807,
          81156,
          72245,
          52848,
          102972,
          114316,
          1043455,
          461823,
          705589,
          79200,
          902669,
          211427,
          31838,
          98097,
          1260806,
          604694,
          582239,
          683900,
          117857,
          1015122,
          27721,
          799795,
          198219,
          56305,
          587775,
          860823,
          659763,
          600004,
          638202,
          577336,
          154011,
          939644,
          173999,
          508771,
          183182,
          111512,
          52397,
          77401,
          47175,
          237392,
          25344,
          555092,
          27175,
          556608,
          663649,
          111252,
          62848,
          58468,
          564791,
          1118998,
          291018,
          463466,
          283310,
          26518,
          129022,
          253228,
          227143,
          345096,
          126871,
          267684,
          46700,
          45624,
          371387,
          148359,
          355413,
          66009,
          102415,
          52141,
          28167,
          36995,
          25312,
          478586,
          291257,
          590440,
          736182,
          463188,
          645512,
          630614,
          299524,
          288797,
          127250,
          434841,
          329592,
          400049,
          434125,
          150409,
          115677,
          112704,
          226541,
          26729,
          96561,
          110075,
          143292,
          51913,
          67183,
          174119,
          87719,
          569974,
          439406,
          58371,
          371291,
          204175,
          411599,
          190531,
          228132,
          524081,
          63882,
          583158,
          227760,
          72863,
          474827,
          732876,
          500799,
          294140,
          169091,
          508417,
          364420,
          171640,
          236894,
          166588,
          93878,
          121731
         ],
         "yaxis": "y"
        },
        {
         "customdata": [
          [
           "Schindler's List"
          ],
          [
           "Goodfellas"
          ],
          [
           "Hamilton"
          ],
          [
           "The Intouchables"
          ],
          [
           "The Pianist"
          ],
          [
           "Ayla: The Daughter of War"
          ],
          [
           "Braveheart"
          ],
          [
           "Amadeus"
          ],
          [
           "Green Book"
          ],
          [
           "Bhaag Milkha Bhaag"
          ],
          [
           "The Wolf of Wall Street"
          ],
          [
           "Der Untergang"
          ],
          [
           "A Beautiful Mind"
          ],
          [
           "Raging Bull"
          ],
          [
           "The Message"
          ],
          [
           "Hacksaw Ridge"
          ],
          [
           "12 Years a Slave"
          ],
          [
           "Spotlight"
          ],
          [
           "Hachi: A Dog's Tale"
          ],
          [
           "Hotel Rwanda"
          ],
          [
           "Catch Me If You Can"
          ],
          [
           "In the Name of the Father"
          ],
          [
           "The Elephant Man"
          ],
          [
           "Zerkalo"
          ],
          [
           "Andrei Rublev"
          ],
          [
           "Inherit the Wind"
          ],
          [
           "La passion de Jeanne d'Arc"
          ],
          [
           "Lion"
          ],
          [
           "The Imitation Game"
          ],
          [
           "Bohemian Rhapsody"
          ],
          [
           "The King's Speech"
          ],
          [
           "Dallas Buyers Club"
          ],
          [
           "The Pursuit of Happyness"
          ],
          [
           "Le scaphandre et le papillon"
          ],
          [
           "Mar adentro"
          ],
          [
           "Cinderella Man"
          ],
          [
           "The Straight Story"
          ],
          [
           "Gandhi"
          ],
          [
           "Dog Day Afternoon"
          ],
          [
           "Papillon"
          ],
          [
           "Butch Cassidy and the Sundance Kid"
          ],
          [
           "The Sound of Music"
          ],
          [
           "The Irishman"
          ],
          [
           "My Left Foot: The Story of Christy Brown"
          ],
          [
           "All the President's Men"
          ],
          [
           "Patton"
          ],
          [
           "The Lion in Winter"
          ],
          [
           "Hidden Figures"
          ],
          [
           "M.S. Dhoni: The Untold Story"
          ],
          [
           "Pride"
          ],
          [
           "The Big Short"
          ],
          [
           "Straight Outta Compton"
          ],
          [
           "The Fighter"
          ],
          [
           "American Gangster"
          ],
          [
           "The World's Fastest Indian"
          ],
          [
           "Walk the Line"
          ],
          [
           "Remember the Titans"
          ],
          [
           "The Insider"
          ],
          [
           "October Sky"
          ],
          [
           "Ed Wood"
          ],
          [
           "Awakenings"
          ],
          [
           "Glory"
          ],
          [
           "The Killing Fields"
          ],
          [
           "The Theory of Everything"
          ],
          [
           "The Social Network"
          ],
          [
           "Argo"
          ],
          [
           "Frost/Nixon"
          ],
          [
           "Changeling"
          ],
          [
           "The Last King of Scotland"
          ],
          [
           "Control"
          ],
          [
           "Ray"
          ],
          [
           "Donnie Brasco"
          ],
          [
           "Shine"
          ],
          [
           "Il postino"
          ],
          [
           "Malcolm X"
          ],
          [
           "The Last Emperor"
          ],
          [
           "Serpico"
          ],
          [
           "A Man for All Seasons"
          ],
          [
           "Dark Waters"
          ],
          [
           "Just Mercy"
          ],
          [
           "Philomena"
          ],
          [
           "Moneyball"
          ],
          [
           "The Blind Side"
          ],
          [
           "La Vie En Rose"
          ],
          [
           "Finding Neverland"
          ],
          [
           "Blow"
          ],
          [
           "The Hurricane"
          ],
          [
           "Midnight Express"
          ]
         ],
         "hovertemplate": "genre=Biography<br>Gross=%{x}<br>No_of_Votes=%{y}<br>Series_Title=%{customdata[0]}<extra></extra>",
         "legendgroup": "Biography",
         "marker": {
          "color": "#ab63fa",
          "symbol": "circle"
         },
         "mode": "markers",
         "name": "Biography",
         "orientation": "v",
         "showlegend": true,
         "type": "scatter",
         "x": [
          96898818,
          46836394,
          68034750.87364621,
          13182281,
          32572577,
          68034750.87364621,
          75600000,
          51973029,
          85080171,
          1626289,
          116900694,
          5509040,
          170742341,
          23383987,
          68034750.87364621,
          67209615,
          56671993,
          45055776,
          68034750.87364621,
          23530892,
          164615351,
          25010410,
          68034750.87364621,
          177345,
          102021,
          68034750.87364621,
          21877,
          51739495,
          91125683,
          216428042,
          138797449,
          27298285,
          163566459,
          5990075,
          2086345,
          61649911,
          6203044,
          52767889,
          50000000,
          53267000,
          102308889,
          163214286,
          7000000,
          14743391,
          70600000,
          61700000,
          22276975,
          169607287,
          1782795,
          68034750.87364621,
          70259870,
          161197785,
          93617009,
          130164645,
          5128124,
          119519402,
          115654751,
          28965197,
          32481825,
          5887457,
          52096475,
          26830000,
          34700291,
          35893537,
          96962694,
          136025503,
          18593156,
          35739802,
          17605861,
          871577,
          75331600,
          41909762,
          35811509,
          21848932,
          48169908,
          43984230,
          29800000,
          28350000,
          68034750.87364621,
          68034750.87364621,
          37707719,
          75605492,
          255959475,
          10301706,
          51680613,
          52990775,
          50668906,
          35000000
         ],
         "xaxis": "x",
         "y": [
          1213505,
          1020727,
          55291,
          760360,
          729603,
          34112,
          959181,
          369007,
          377884,
          61137,
          1187498,
          331308,
          848920,
          321860,
          43885,
          435928,
          640533,
          420316,
          253575,
          334320,
          832846,
          156842,
          220078,
          40081,
          46947,
          27254,
          47676,
          213970,
          685201,
          450349,
          639603,
          441614,
          448930,
          103284,
          77554,
          176151,
          82002,
          217664,
          235652,
          121627,
          201888,
          205425,
          324720,
          68076,
          103031,
          93741,
          29003,
          200876,
          40416,
          51841,
          362942,
          179264,
          340584,
          392449,
          51980,
          234207,
          198089,
          159886,
          82855,
          164937,
          125276,
          122779,
          51585,
          404182,
          624982,
          572581,
          103330,
          239203,
          175355,
          61609,
          138356,
          279318,
          51350,
          33600,
          85819,
          94326,
          109941,
          31222,
          60408,
          46739,
          94212,
          369529,
          293266,
          82781,
          198677,
          240714,
          91557,
          73662
         ],
         "yaxis": "y"
        },
        {
         "customdata": [
          [
           "Il buono, il brutto, il cattivo"
          ],
          [
           "Once Upon a Time in the West"
          ],
          [
           "Per qualche dollaro in più"
          ],
          [
           "The Outlaw Josey Wales"
          ]
         ],
         "hovertemplate": "genre=Western<br>Gross=%{x}<br>No_of_Votes=%{y}<br>Series_Title=%{customdata[0]}<extra></extra>",
         "legendgroup": "Western",
         "marker": {
          "color": "#FFA15A",
          "symbol": "circle"
         },
         "mode": "markers",
         "name": "Western",
         "orientation": "v",
         "showlegend": true,
         "type": "scatter",
         "x": [
          6100000,
          5321508,
          15000000,
          31800000
         ],
         "xaxis": "x",
         "y": [
          688390,
          302844,
          232772,
          65659
         ],
         "yaxis": "y"
        },
        {
         "customdata": [
          [
           "Gisaengchung"
          ],
          [
           "La vita è bella"
          ],
          [
           "Modern Times"
          ],
          [
           "City Lights"
          ],
          [
           "3 Idiots"
          ],
          [
           "Dr. Strangelove or: How I Learned to Stop Worrying and Love the Bomb"
          ],
          [
           "The Great Dictator"
          ],
          [
           "Amélie"
          ],
          [
           "Snatch"
          ],
          [
           "The Sting"
          ],
          [
           "The Apartment"
          ],
          [
           "Singin' in the Rain"
          ],
          [
           "The Kid"
          ],
          [
           "Chhichhore"
          ],
          [
           "Three Billboards Outside Ebbing, Missouri"
          ],
          [
           "Rang De Basanti"
          ],
          [
           "Dom za vesanje"
          ],
          [
           "Some Like It Hot"
          ],
          [
           "To Be or Not to Be"
          ],
          [
           "Relatos salvajes"
          ],
          [
           "PK"
          ],
          [
           "OMG: Oh My God!"
          ],
          [
           "Barfi!"
          ],
          [
           "Zindagi Na Milegi Dobara"
          ],
          [
           "Lage Raho Munna Bhai"
          ],
          [
           "Munna Bhai M.B.B.S."
          ],
          [
           "Dil Chahta Hai"
          ],
          [
           "The Truman Show"
          ],
          [
           "Crna macka, beli macor"
          ],
          [
           "The Big Lebowski"
          ],
          [
           "Underground"
          ],
          [
           "Chung Hing sam lam"
          ],
          [
           "Dead Poets Society"
          ],
          [
           "Life of Brian"
          ],
          [
           "Paper Moon"
          ],
          [
           "The Shop Around the Corner"
          ],
          [
           "Mr. Smith Goes to Washington"
          ],
          [
           "It Happened One Night"
          ],
          [
           "The Circus"
          ],
          [
           "Badhaai ho"
          ],
          [
           "La La Land"
          ],
          [
           "Kal Ho Naa Ho"
          ],
          [
           "Yeopgijeogin geunyeo"
          ],
          [
           "Vizontele"
          ],
          [
           "Secrets & Lies"
          ],
          [
           "Groundhog Day"
          ],
          [
           "Do the Right Thing"
          ],
          [
           "Being There"
          ],
          [
           "Annie Hall"
          ],
          [
           "Young Frankenstein"
          ],
          [
           "The Graduate"
          ],
          [
           "La dolce vita"
          ],
          [
           "Stalag 17"
          ],
          [
           "Roman Holiday"
          ],
          [
           "Kind Hearts and Coronets"
          ],
          [
           "Arsenic and Old Lace"
          ],
          [
           "La règle du jeu"
          ],
          [
           "The Thin Man"
          ],
          [
           "Knives Out"
          ],
          [
           "Dil Bechara"
          ],
          [
           "Marriage Story"
          ],
          [
           "Captain Fantastic"
          ],
          [
           "Sing Street"
          ],
          [
           "Jojo Rabbit"
          ],
          [
           "The Artist"
          ],
          [
           "Jab We Met"
          ],
          [
           "In Bruges"
          ],
          [
           "C.R.A.Z.Y."
          ],
          [
           "Shaun of the Dead"
          ],
          [
           "No Man's Land"
          ],
          [
           "Crimes and Misdemeanors"
          ],
          [
           "Hannah and Her Sisters"
          ],
          [
           "This Is Spinal Tap"
          ],
          [
           "A Christmas Story"
          ],
          [
           "Manhattan"
          ],
          [
           "Amarcord"
          ],
          [
           "Le charme discret de la bourgeoisie"
          ],
          [
           "Harold and Maude"
          ],
          [
           "Charade"
          ],
          [
           "Harvey"
          ],
          [
           "Miracle on 34th Street"
          ],
          [
           "The Philadelphia Story"
          ],
          [
           "His Girl Friday"
          ],
          [
           "A Night at the Opera"
          ],
          [
           "Perfetti sconosciuti"
          ],
          [
           "Vicky Donor"
          ],
          [
           "About Time"
          ],
          [
           "English Vinglish"
          ],
          [
           "Moonrise Kingdom"
          ],
          [
           "Druk"
          ],
          [
           "Little Miss Sunshine"
          ],
          [
           "Adams æbler"
          ],
          [
           "The Sandlot"
          ],
          [
           "Naked"
          ],
          [
           "Night on Earth"
          ],
          [
           "Ferris Bueller's Day Off"
          ],
          [
           "Down by Law"
          ],
          [
           "The Breakfast Club"
          ],
          [
           "The King of Comedy"
          ],
          [
           "Guess Who's Coming to Dinner"
          ],
          [
           "Mary Poppins"
          ],
          [
           "Bringing Up Baby"
          ],
          [
           "Duck Soup"
          ],
          [
           "En man som heter Ove"
          ],
          [
           "What We Do in the Shadows"
          ],
          [
           "Me and Earl and the Dying Girl"
          ],
          [
           "Birdman or (The Unexpected Virtue of Ignorance)"
          ],
          [
           "Midnight in Paris"
          ],
          [
           "The Hangover"
          ],
          [
           "Silver Linings Playbook"
          ],
          [
           "(500) Days of Summer"
          ],
          [
           "Flipped"
          ],
          [
           "Lost in Translation"
          ],
          [
           "Good Bye Lenin!"
          ],
          [
           "Adaptation."
          ],
          [
           "Hedwig and the Angry Inch"
          ],
          [
           "Office Space"
          ],
          [
           "Happiness"
          ],
          [
           "Rushmore"
          ],
          [
           "Being John Malkovich"
          ],
          [
           "As Good as It Gets"
          ],
          [
           "Le dîner de cons"
          ],
          [
           "Do lok tin si"
          ],
          [
           "Clerks"
          ],
          [
           "Short Cuts"
          ],
          [
           "The Muppet Christmas Carol"
          ],
          [
           "Barton Fink"
          ],
          [
           "Withnail & I"
          ],
          [
           "The Purple Rose of Cairo"
          ],
          [
           "After Hours"
          ],
          [
           "Zelig"
          ],
          [
           "Airplane!"
          ],
          [
           "Love and Death"
          ],
          [
           "Blazing Saddles"
          ],
          [
           "The Odd Couple"
          ],
          [
           "The Ladykillers"
          ],
          [
           "Sabrina"
          ],
          [
           "The Quiet Man"
          ],
          [
           "Once Upon a Time... in Hollywood"
          ],
          [
           "50/50"
          ],
          [
           "Jeux d'enfants"
          ],
          [
           "The Station Agent"
          ],
          [
           "The Royal Tenenbaums"
          ],
          [
           "American Psycho"
          ],
          [
           "Trois couleurs: Blanc"
          ],
          [
           "Dazed and Confused"
          ],
          [
           "My Cousin Vinny"
          ],
          [
           "Delicatessen"
          ],
          [
           "Home Alone"
          ],
          [
           "When Harry Met Sally..."
          ],
          [
           "The Naked Gun: From the Files of Police Squad!"
          ],
          [
           "Planes, Trains & Automobiles"
          ],
          [
           "The Long Goodbye"
          ],
          [
           "A Hard Day's Night"
          ],
          [
           "Breakfast at Tiffany's"
          ]
         ],
         "hovertemplate": "genre=Comedy<br>Gross=%{x}<br>No_of_Votes=%{y}<br>Series_Title=%{customdata[0]}<extra></extra>",
         "legendgroup": "Comedy",
         "marker": {
          "color": "#19d3f3",
          "symbol": "circle"
         },
         "mode": "markers",
         "name": "Comedy",
         "orientation": "v",
         "showlegend": true,
         "type": "scatter",
         "x": [
          53367844,
          57598247,
          163245,
          19181,
          6532908,
          275902,
          288475,
          33225499,
          30328156,
          159600000,
          18600000,
          8819028,
          5450000,
          898575,
          54513740,
          2197331,
          280015,
          25000000,
          68034750.87364621,
          3107072,
          10616104,
          923221,
          2804874,
          3108485,
          2217561,
          68034750.87364621,
          300000,
          125618201,
          348660,
          17498804,
          171082,
          600200,
          95860116,
          20045115,
          30933743,
          203300,
          9600000,
          4360000,
          68034750.87364621,
          68034750.87364621,
          151101803,
          1787378,
          68034750.87364621,
          68034750.87364621,
          13417292,
          70906973,
          27545445,
          30177511,
          39200000,
          86300000,
          104945305,
          19516000,
          68034750.87364621,
          68034750.87364621,
          68034750.87364621,
          68034750.87364621,
          68034750.87364621,
          68034750.87364621,
          165359751,
          68034750.87364621,
          2000000,
          5875006,
          3237118,
          349555,
          44671682,
          410800,
          7757130,
          68034750.87364621,
          13542874,
          1059830,
          18254702,
          40084041,
          188751,
          20605209,
          45700000,
          68034750.87364621,
          198809,
          68034750.87364621,
          13474588,
          68034750.87364621,
          2650000,
          68034750.87364621,
          296000,
          2537520,
          68034750.87364621,
          169209,
          15322921,
          1670773,
          45512466,
          68034750.87364621,
          59891098,
          1305,
          32416586,
          1769305,
          2015810,
          70136369,
          1436000,
          45875171,
          2500000,
          56700000,
          102272727,
          68034750.87364621,
          68034750.87364621,
          3358518,
          3333000,
          6743776,
          42340598,
          56816662,
          277322503,
          132092958,
          32391374,
          1752214,
          44585453,
          4064200,
          22245861,
          3029081,
          10824921,
          2807390,
          17105219,
          22858926,
          148478011,
          4065116,
          68034750.87364621,
          3151130,
          6110979,
          27281507,
          6153939,
          1544889,
          10631333,
          10600000,
          11798616,
          83400000,
          68034750.87364621,
          119500000,
          44527234,
          68034750.87364621,
          68034750.87364621,
          10550000,
          142502728,
          35014192,
          548707,
          5739376,
          52364010,
          15070285,
          1464625,
          7993039,
          52929168,
          1794187,
          285761243,
          92823600,
          78756177,
          49530280,
          959000,
          13780024,
          68034750.87364621
         ],
         "xaxis": "x",
         "y": [
          552778,
          623629,
          217881,
          167839,
          344445,
          450474,
          203150,
          703810,
          782001,
          241513,
          164363,
          218957,
          113314,
          33893,
          432610,
          111937,
          26402,
          243943,
          29915,
          177059,
          163061,
          51739,
          75721,
          67927,
          43137,
          73992,
          66803,
          939631,
          50862,
          732620,
          55220,
          63122,
          425457,
          367250,
          42285,
          28450,
          107017,
          94016,
          30205,
          27978,
          505918,
          63460,
          45403,
          33592,
          37564,
          577991,
          89429,
          65625,
          251823,
          143359,
          253676,
          66621,
          51046,
          127256,
          34485,
          65101,
          26725,
          26642,
          454203,
          111478,
          246644,
          189400,
          85109,
          297918,
          230624,
          47720,
          390334,
          31476,
          512249,
          44618,
          54670,
          67176,
          128812,
          132947,
          131436,
          39897,
          38737,
          70826,
          68689,
          52573,
          41625,
          63550,
          53667,
          30580,
          57168,
          39710,
          303032,
          33618,
          318789,
          33931,
          439856,
          45717,
          78963,
          34635,
          55362,
          321382,
          47834,
          357026,
          88511,
          39642,
          158029,
          55163,
          55581,
          47444,
          157498,
          123210,
          580291,
          388089,
          717559,
          661871,
          472242,
          81446,
          415074,
          137981,
          178565,
          31957,
          241575,
          66408,
          169229,
          312542,
          275755,
          37424,
          26429,
          211450,
          42275,
          50298,
          113240,
          40396,
          47102,
          59635,
          39881,
          214882,
          36037,
          125993,
          31572,
          26464,
          59415,
          34677,
          551309,
          315426,
          67360,
          67370,
          266842,
          490062,
          64390,
          165465,
          107325,
          80487,
          488817,
          195663,
          152871,
          124773,
          26337,
          40351,
          166544
         ],
         "yaxis": "y"
        },
        {
         "customdata": [
          [
           "Interstellar"
          ],
          [
           "Back to the Future"
          ],
          [
           "Inglourious Basterds"
          ],
          [
           "Das Boot"
          ],
          [
           "2001: A Space Odyssey"
          ],
          [
           "Lawrence of Arabia"
          ],
          [
           "North by Northwest"
          ],
          [
           "Queen"
          ],
          [
           "Monty Python and the Holy Grail"
          ],
          [
           "The Great Escape"
          ],
          [
           "The Treasure of the Sierra Madre"
          ],
          [
           "The Gold Rush"
          ],
          [
           "The Grand Budapest Hotel"
          ],
          [
           "Harry Potter and the Deathly Hallows: Part 2"
          ],
          [
           "Into the Wild"
          ],
          [
           "Lagaan: Once Upon a Time in India"
          ],
          [
           "Stand by Me"
          ],
          [
           "Fitzcarraldo"
          ],
          [
           "Barry Lyndon"
          ],
          [
           "Ben-Hur"
          ],
          [
           "Kakushi-toride no san-akunin"
          ],
          [
           "The Bridge on the River Kwai"
          ],
          [
           "Le salaire de la peur"
          ],
          [
           "Togo"
          ],
          [
           "The Martian"
          ],
          [
           "Blood Diamond"
          ],
          [
           "G.O.R.A."
          ],
          [
           "Big Fish"
          ],
          [
           "Dances with Wolves"
          ],
          [
           "The Princess Bride"
          ],
          [
           "Jaws"
          ],
          [
           "Planet of the Apes"
          ],
          [
           "The Wizard of Oz"
          ],
          [
           "Hunt for the Wilderpeople"
          ],
          [
           "The Fall"
          ],
          [
           "Life of Pi"
          ],
          [
           "Harry Potter and the Prisoner of Azkaban"
          ],
          [
           "Children of Men"
          ],
          [
           "Almost Famous"
          ],
          [
           "La montaña sagrada"
          ],
          [
           "Spartacus"
          ],
          [
           "The Ten Commandments"
          ],
          [
           "The Searchers"
          ],
          [
           "King Kong"
          ],
          [
           "Paddington 2"
          ],
          [
           "Captain Phillips"
          ],
          [
           "The Hobbit: The Desolation of Smaug"
          ],
          [
           "The Hobbit: An Unexpected Journey"
          ],
          [
           "Diarios de motocicleta"
          ],
          [
           "Cast Away"
          ],
          [
           "Back to the Future Part II"
          ],
          [
           "The Goonies"
          ],
          [
           "The Right Stuff"
          ],
          [
           "The Man Who Would Be King"
          ],
          [
           "To Have and Have Not"
          ],
          [
           "Stagecoach"
          ],
          [
           "Nebraska"
          ],
          [
           "Harry Potter and the Deathly Hallows: Part 1"
          ],
          [
           "Harry Potter and the Goblet of Fire"
          ],
          [
           "O Brother, Where Art Thou?"
          ],
          [
           "Interstate 60: Episodes of the Road"
          ],
          [
           "Deliverance"
          ],
          [
           "The African Queen"
          ],
          [
           "The Peanut Butter Falcon"
          ],
          [
           "Zombieland"
          ],
          [
           "Stardust"
          ],
          [
           "Harry Potter and the Sorcerer's Stone"
          ],
          [
           "Fear and Loathing in Las Vegas"
          ],
          [
           "Dead Man"
          ],
          [
           "Apollo 13"
          ],
          [
           "The Muppet Movie"
          ],
          [
           "Kelly's Heroes"
          ]
         ],
         "hovertemplate": "genre=Adventure<br>Gross=%{x}<br>No_of_Votes=%{y}<br>Series_Title=%{customdata[0]}<extra></extra>",
         "legendgroup": "Adventure",
         "marker": {
          "color": "#FF6692",
          "symbol": "circle"
         },
         "mode": "markers",
         "name": "Adventure",
         "orientation": "v",
         "showlegend": true,
         "type": "scatter",
         "x": [
          188020017,
          210609762,
          120540719,
          11487676,
          56954992,
          44824144,
          13275000,
          1429534,
          1229197,
          12100000,
          5014000,
          5450000,
          59100318,
          381011219,
          18354356,
          70147,
          52287414,
          68034750.87364621,
          68034750.87364621,
          74700000,
          68034750.87364621,
          44908000,
          68034750.87364621,
          68034750.87364621,
          228433663,
          57366262,
          68034750.87364621,
          66257002,
          184208848,
          30857814,
          260000000,
          33395426,
          2076020,
          5202582,
          2280348,
          124987023,
          249358727,
          35552383,
          32534850,
          61001,
          30000000,
          93740000,
          68034750.87364621,
          10000000,
          40442052,
          107100855,
          258366855,
          303003568,
          16756372,
          233632142,
          118500000,
          61503218,
          21500000,
          68034750.87364621,
          68034750.87364621,
          68034750.87364621,
          17654912,
          295983305,
          290013036,
          45512588,
          68034750.87364621,
          7056013,
          536118,
          13122642,
          75590286,
          38634938,
          317575550,
          10680275,
          1037847,
          173837933,
          76657000,
          1378435
         ],
         "xaxis": "x",
         "y": [
          1512360,
          1058081,
          1267869,
          231855,
          603517,
          268085,
          299198,
          60701,
          500875,
          224730,
          114304,
          101053,
          707630,
          764493,
          572921,
          105036,
          363401,
          31595,
          149843,
          219466,
          34797,
          203463,
          54588,
          37556,
          760094,
          499439,
          56960,
          415218,
          240266,
          393899,
          543388,
          165167,
          371379,
          111483,
          107290,
          580708,
          552493,
          465113,
          252586,
          37183,
          124339,
          63560,
          80316,
          78991,
          61594,
          421244,
          601408,
          757377,
          96703,
          524235,
          481918,
          244430,
          56235,
          44917,
          31053,
          43621,
          112298,
          479120,
          548619,
          286742,
          29999,
          98740,
          71481,
          66346,
          520041,
          255036,
          658185,
          259753,
          90442,
          269197,
          32802,
          45338
         ],
         "yaxis": "y"
        },
        {
         "customdata": [
          [
           "Sen to Chihiro no kamikakushi"
          ],
          [
           "The Lion King"
          ],
          [
           "Hotaru no haka"
          ],
          [
           "Kimi no na wa."
          ],
          [
           "Spider-Man: Into the Spider-Verse"
          ],
          [
           "Coco"
          ],
          [
           "WALL·E"
          ],
          [
           "Mononoke-hime"
          ],
          [
           "Toy Story"
          ],
          [
           "Klaus"
          ],
          [
           "Up"
          ],
          [
           "Toy Story 3"
          ],
          [
           "Hauru no ugoku shiro"
          ],
          [
           "Tonari no Totoro"
          ],
          [
           "Koe no katachi"
          ],
          [
           "Soul"
          ],
          [
           "Ôkami kodomo no Ame to Yuki"
          ],
          [
           "Inside Out"
          ],
          [
           "Song of the Sea"
          ],
          [
           "Mary and Max"
          ],
          [
           "How to Train Your Dragon"
          ],
          [
           "Finding Nemo"
          ],
          [
           "Monsters, Inc."
          ],
          [
           "Shin seiki Evangelion Gekijô-ban: Air/Magokoro wo, kimi ni"
          ],
          [
           "Kaze no tani no Naushika"
          ],
          [
           "Zootopia"
          ],
          [
           "Kaguyahime no monogatari"
          ],
          [
           "Persepolis"
          ],
          [
           "Ratatouille"
          ],
          [
           "The Incredibles"
          ],
          [
           "Pâfekuto burû"
          ],
          [
           "The Iron Giant"
          ],
          [
           "Kôkaku Kidôtai"
          ],
          [
           "The Nightmare Before Christmas"
          ],
          [
           "Aladdin"
          ],
          [
           "Beauty and the Beast"
          ],
          [
           "Akira"
          ],
          [
           "Tenkû no shiro Rapyuta"
          ],
          [
           "Isle of Dogs"
          ],
          [
           "Fantastic Mr. Fox"
          ],
          [
           "Cowboy Bebop: Tengoku no tobira"
          ],
          [
           "Toy Story 2"
          ],
          [
           "Mimi wo sumaseba"
          ],
          [
           "Jûbê ninpûchô"
          ],
          [
           "Kubo and the Two Strings"
          ],
          [
           "Loving Vincent"
          ],
          [
           "Big Hero 6"
          ],
          [
           "Kaze tachinu"
          ],
          [
           "Toy Story 4"
          ],
          [
           "How to Train Your Dragon 2"
          ],
          [
           "Tôkyô goddofâzâzu"
          ],
          [
           "Les triplettes de Belleville"
          ],
          [
           "Waking Life"
          ],
          [
           "Shrek"
          ],
          [
           "Batman: Mask of the Phantasm"
          ],
          [
           "Majo no takkyûbin"
          ],
          [
           "La planète sauvage"
          ],
          [
           "Omoide no Mânî"
          ],
          [
           "Wreck-It Ralph"
          ],
          [
           "Le Petit Prince"
          ],
          [
           "The Lego Movie"
          ],
          [
           "Gake no ue no Ponyo"
          ],
          [
           "Papurika"
          ],
          [
           "Toki o kakeru shôjo"
          ],
          [
           "Tangled"
          ],
          [
           "Coraline"
          ],
          [
           "Vampire Hunter D: Bloodlust"
          ],
          [
           "South Park: Bigger, Longer & Uncut"
          ],
          [
           "Kurenai no buta"
          ],
          [
           "Who Framed Roger Rabbit"
          ],
          [
           "Rupan sansei: Kariosutoro no shiro"
          ],
          [
           "Fantasia"
          ],
          [
           "Incredibles 2"
          ],
          [
           "Moana"
          ],
          [
           "Kari-gurashi no Arietti"
          ],
          [
           "Despicable Me"
          ],
          [
           "The Secret of Kells"
          ],
          [
           "Mulan"
          ],
          [
           "Omohide poro poro"
          ],
          [
           "The Little Mermaid"
          ],
          [
           "Watership Down"
          ],
          [
           "The Jungle Book"
          ]
         ],
         "hovertemplate": "genre=Animation<br>Gross=%{x}<br>No_of_Votes=%{y}<br>Series_Title=%{customdata[0]}<extra></extra>",
         "legendgroup": "Animation",
         "marker": {
          "color": "#B6E880",
          "symbol": "circle"
         },
         "mode": "markers",
         "name": "Animation",
         "orientation": "v",
         "showlegend": true,
         "type": "scatter",
         "x": [
          10055859,
          422783777,
          68034750.87364621,
          5017246,
          190241310,
          209726015,
          223808164,
          2375308,
          191796233,
          68034750.87364621,
          293004164,
          415004880,
          4711096,
          1105564,
          68034750.87364621,
          68034750.87364621,
          68034750.87364621,
          356461711,
          857524,
          68034750.87364621,
          217581231,
          380843261,
          289916256,
          68034750.87364621,
          495770,
          341268248,
          1506975,
          4445756,
          206445654,
          261441092,
          776665,
          23159305,
          515905,
          75082668,
          217350219,
          218967620,
          553171,
          68034750.87364621,
          32015231,
          21002919,
          1000045,
          245852179,
          68034750.87364621,
          68034750.87364621,
          48023088,
          6735118,
          222527828,
          5209580,
          434038008,
          177002924,
          128985,
          7002255,
          2892011,
          267665011,
          5617391,
          68034750.87364621,
          193817,
          765127,
          189422889,
          1339152,
          257760692,
          15090400,
          881302,
          68034750.87364621,
          200821936,
          75286229,
          151086,
          52037603,
          68034750.87364621,
          156452370,
          68034750.87364621,
          76408097,
          608581744,
          248757044,
          19202743,
          251513985,
          686383,
          120620254,
          453243,
          111543479,
          68034750.87364621,
          141843612
         ],
         "xaxis": "x",
         "y": [
          651376,
          942045,
          235231,
          194838,
          375110,
          384171,
          999790,
          343171,
          887429,
          104761,
          935507,
          757032,
          333915,
          291180,
          47708,
          159171,
          38803,
          616228,
          51679,
          164462,
          666773,
          949565,
          815505,
          38847,
          150924,
          434143,
          38746,
          88656,
          641645,
          657047,
          58192,
          172083,
          129231,
          300208,
          373845,
          417178,
          164918,
          150140,
          139114,
          199696,
          42897,
          527512,
          51943,
          34529,
          118035,
          50778,
          410983,
          73690,
          203177,
          305611,
          31658,
          50622,
          60684,
          613941,
          43690,
          124193,
          25229,
          32798,
          380195,
          56720,
          323982,
          125317,
          71379,
          60368,
          405922,
          197761,
          29210,
          192112,
          77798,
          182009,
          27014,
          88662,
          250057,
          272784,
          80939,
          500851,
          31779,
          256906,
          27071,
          237696,
          33656,
          166409
         ],
         "yaxis": "y"
        },
        {
         "customdata": [
          [
           "Psycho"
          ],
          [
           "Alien"
          ],
          [
           "The Thing"
          ],
          [
           "The Exorcist"
          ],
          [
           "Night of the Living Dead"
          ],
          [
           "The Innocents"
          ],
          [
           "Get Out"
          ],
          [
           "Halloween"
          ],
          [
           "The Invisible Man"
          ],
          [
           "Saw"
          ],
          [
           "The Others"
          ]
         ],
         "hovertemplate": "genre=Horror<br>Gross=%{x}<br>No_of_Votes=%{y}<br>Series_Title=%{customdata[0]}<extra></extra>",
         "legendgroup": "Horror",
         "marker": {
          "color": "#FF97FF",
          "symbol": "circle"
         },
         "mode": "markers",
         "name": "Horror",
         "orientation": "v",
         "showlegend": true,
         "type": "scatter",
         "x": [
          32000000,
          78900000,
          13782838,
          232906145,
          89029,
          2616000,
          176040665,
          47000000,
          68034750.87364621,
          56000369,
          96522687
         ],
         "xaxis": "x",
         "y": [
          604211,
          787806,
          371271,
          362393,
          116557,
          27007,
          492851,
          233106,
          30683,
          379020,
          337651
         ],
         "yaxis": "y"
        },
        {
         "customdata": [
          [
           "Memento"
          ],
          [
           "Rear Window"
          ],
          [
           "Vertigo"
          ],
          [
           "Shutter Island"
          ],
          [
           "Kahaani"
          ],
          [
           "Twelve Monkeys"
          ],
          [
           "Sleuth"
          ],
          [
           "The Lady Vanishes"
          ],
          [
           "Spoorloos"
          ],
          [
           "El cuerpo"
          ],
          [
           "Dark City"
          ],
          [
           "Lost Highway"
          ]
         ],
         "hovertemplate": "genre=Mystery<br>Gross=%{x}<br>No_of_Votes=%{y}<br>Series_Title=%{customdata[0]}<extra></extra>",
         "legendgroup": "Mystery",
         "marker": {
          "color": "#FECB52",
          "symbol": "circle"
         },
         "mode": "markers",
         "name": "Mystery",
         "orientation": "v",
         "showlegend": true,
         "type": "scatter",
         "x": [
          25544867,
          36764313,
          3200000,
          128012934,
          1035953,
          57141459,
          4081254,
          68034750.87364621,
          68034750.87364621,
          68034750.87364621,
          14378331,
          3796699
         ],
         "xaxis": "x",
         "y": [
          1125712,
          444074,
          364368,
          1129894,
          57806,
          578443,
          44748,
          47400,
          33982,
          57549,
          187927,
          131101
         ],
         "yaxis": "y"
        },
        {
         "customdata": [
          [
           "The Third Man"
          ],
          [
           "The Maltese Falcon"
          ],
          [
           "Shadow of a Doubt"
          ]
         ],
         "hovertemplate": "genre=Film-Noir<br>Gross=%{x}<br>No_of_Votes=%{y}<br>Series_Title=%{customdata[0]}<extra></extra>",
         "legendgroup": "Film-Noir",
         "marker": {
          "color": "#636efa",
          "symbol": "circle"
         },
         "mode": "markers",
         "name": "Film-Noir",
         "orientation": "v",
         "showlegend": true,
         "type": "scatter",
         "x": [
          449191,
          2108060,
          68034750.87364621
         ],
         "xaxis": "x",
         "y": [
          158731,
          148928,
          59556
         ],
         "yaxis": "y"
        },
        {
         "customdata": [
          [
           "Das Cabinet des Dr. Caligari"
          ],
          [
           "Nosferatu"
          ]
         ],
         "hovertemplate": "genre=Fantasy<br>Gross=%{x}<br>No_of_Votes=%{y}<br>Series_Title=%{customdata[0]}<extra></extra>",
         "legendgroup": "Fantasy",
         "marker": {
          "color": "#EF553B",
          "symbol": "circle"
         },
         "mode": "markers",
         "name": "Fantasy",
         "orientation": "v",
         "showlegend": true,
         "type": "scatter",
         "x": [
          68034750.87364621,
          68034750.87364621
         ],
         "xaxis": "x",
         "y": [
          57428,
          88794
         ],
         "yaxis": "y"
        },
        {
         "customdata": [
          [
           "E.T. the Extra-Terrestrial"
          ],
          [
           "Willy Wonka & the Chocolate Factory"
          ]
         ],
         "hovertemplate": "genre=Family<br>Gross=%{x}<br>No_of_Votes=%{y}<br>Series_Title=%{customdata[0]}<extra></extra>",
         "legendgroup": "Family",
         "marker": {
          "color": "#00cc96",
          "symbol": "circle"
         },
         "mode": "markers",
         "name": "Family",
         "orientation": "v",
         "showlegend": true,
         "type": "scatter",
         "x": [
          435110554,
          4000000
         ],
         "xaxis": "x",
         "y": [
          372490,
          178731
         ],
         "yaxis": "y"
        },
        {
         "customdata": [
          [
           "Wait Until Dark"
          ]
         ],
         "hovertemplate": "genre=Thriller<br>Gross=%{x}<br>No_of_Votes=%{y}<br>Series_Title=%{customdata[0]}<extra></extra>",
         "legendgroup": "Thriller",
         "marker": {
          "color": "#ab63fa",
          "symbol": "circle"
         },
         "mode": "markers",
         "name": "Thriller",
         "orientation": "v",
         "showlegend": true,
         "type": "scatter",
         "x": [
          17550741
         ],
         "xaxis": "x",
         "y": [
          27733
         ],
         "yaxis": "y"
        }
       ],
       "layout": {
        "font": {
         "color": "white",
         "family": "Lato",
         "size": 18
        },
        "legend": {
         "title": {
          "text": "genre"
         },
         "tracegroupgap": 0
        },
        "margin": {
         "t": 60
        },
        "paper_bgcolor": "black",
        "plot_bgcolor": "black",
        "template": {
         "data": {
          "bar": [
           {
            "error_x": {
             "color": "#2a3f5f"
            },
            "error_y": {
             "color": "#2a3f5f"
            },
            "marker": {
             "line": {
              "color": "#E5ECF6",
              "width": 0.5
             },
             "pattern": {
              "fillmode": "overlay",
              "size": 10,
              "solidity": 0.2
             }
            },
            "type": "bar"
           }
          ],
          "barpolar": [
           {
            "marker": {
             "line": {
              "color": "#E5ECF6",
              "width": 0.5
             },
             "pattern": {
              "fillmode": "overlay",
              "size": 10,
              "solidity": 0.2
             }
            },
            "type": "barpolar"
           }
          ],
          "carpet": [
           {
            "aaxis": {
             "endlinecolor": "#2a3f5f",
             "gridcolor": "white",
             "linecolor": "white",
             "minorgridcolor": "white",
             "startlinecolor": "#2a3f5f"
            },
            "baxis": {
             "endlinecolor": "#2a3f5f",
             "gridcolor": "white",
             "linecolor": "white",
             "minorgridcolor": "white",
             "startlinecolor": "#2a3f5f"
            },
            "type": "carpet"
           }
          ],
          "choropleth": [
           {
            "colorbar": {
             "outlinewidth": 0,
             "ticks": ""
            },
            "type": "choropleth"
           }
          ],
          "contour": [
           {
            "colorbar": {
             "outlinewidth": 0,
             "ticks": ""
            },
            "colorscale": [
             [
              0,
              "#0d0887"
             ],
             [
              0.1111111111111111,
              "#46039f"
             ],
             [
              0.2222222222222222,
              "#7201a8"
             ],
             [
              0.3333333333333333,
              "#9c179e"
             ],
             [
              0.4444444444444444,
              "#bd3786"
             ],
             [
              0.5555555555555556,
              "#d8576b"
             ],
             [
              0.6666666666666666,
              "#ed7953"
             ],
             [
              0.7777777777777778,
              "#fb9f3a"
             ],
             [
              0.8888888888888888,
              "#fdca26"
             ],
             [
              1,
              "#f0f921"
             ]
            ],
            "type": "contour"
           }
          ],
          "contourcarpet": [
           {
            "colorbar": {
             "outlinewidth": 0,
             "ticks": ""
            },
            "type": "contourcarpet"
           }
          ],
          "heatmap": [
           {
            "colorbar": {
             "outlinewidth": 0,
             "ticks": ""
            },
            "colorscale": [
             [
              0,
              "#0d0887"
             ],
             [
              0.1111111111111111,
              "#46039f"
             ],
             [
              0.2222222222222222,
              "#7201a8"
             ],
             [
              0.3333333333333333,
              "#9c179e"
             ],
             [
              0.4444444444444444,
              "#bd3786"
             ],
             [
              0.5555555555555556,
              "#d8576b"
             ],
             [
              0.6666666666666666,
              "#ed7953"
             ],
             [
              0.7777777777777778,
              "#fb9f3a"
             ],
             [
              0.8888888888888888,
              "#fdca26"
             ],
             [
              1,
              "#f0f921"
             ]
            ],
            "type": "heatmap"
           }
          ],
          "heatmapgl": [
           {
            "colorbar": {
             "outlinewidth": 0,
             "ticks": ""
            },
            "colorscale": [
             [
              0,
              "#0d0887"
             ],
             [
              0.1111111111111111,
              "#46039f"
             ],
             [
              0.2222222222222222,
              "#7201a8"
             ],
             [
              0.3333333333333333,
              "#9c179e"
             ],
             [
              0.4444444444444444,
              "#bd3786"
             ],
             [
              0.5555555555555556,
              "#d8576b"
             ],
             [
              0.6666666666666666,
              "#ed7953"
             ],
             [
              0.7777777777777778,
              "#fb9f3a"
             ],
             [
              0.8888888888888888,
              "#fdca26"
             ],
             [
              1,
              "#f0f921"
             ]
            ],
            "type": "heatmapgl"
           }
          ],
          "histogram": [
           {
            "marker": {
             "pattern": {
              "fillmode": "overlay",
              "size": 10,
              "solidity": 0.2
             }
            },
            "type": "histogram"
           }
          ],
          "histogram2d": [
           {
            "colorbar": {
             "outlinewidth": 0,
             "ticks": ""
            },
            "colorscale": [
             [
              0,
              "#0d0887"
             ],
             [
              0.1111111111111111,
              "#46039f"
             ],
             [
              0.2222222222222222,
              "#7201a8"
             ],
             [
              0.3333333333333333,
              "#9c179e"
             ],
             [
              0.4444444444444444,
              "#bd3786"
             ],
             [
              0.5555555555555556,
              "#d8576b"
             ],
             [
              0.6666666666666666,
              "#ed7953"
             ],
             [
              0.7777777777777778,
              "#fb9f3a"
             ],
             [
              0.8888888888888888,
              "#fdca26"
             ],
             [
              1,
              "#f0f921"
             ]
            ],
            "type": "histogram2d"
           }
          ],
          "histogram2dcontour": [
           {
            "colorbar": {
             "outlinewidth": 0,
             "ticks": ""
            },
            "colorscale": [
             [
              0,
              "#0d0887"
             ],
             [
              0.1111111111111111,
              "#46039f"
             ],
             [
              0.2222222222222222,
              "#7201a8"
             ],
             [
              0.3333333333333333,
              "#9c179e"
             ],
             [
              0.4444444444444444,
              "#bd3786"
             ],
             [
              0.5555555555555556,
              "#d8576b"
             ],
             [
              0.6666666666666666,
              "#ed7953"
             ],
             [
              0.7777777777777778,
              "#fb9f3a"
             ],
             [
              0.8888888888888888,
              "#fdca26"
             ],
             [
              1,
              "#f0f921"
             ]
            ],
            "type": "histogram2dcontour"
           }
          ],
          "mesh3d": [
           {
            "colorbar": {
             "outlinewidth": 0,
             "ticks": ""
            },
            "type": "mesh3d"
           }
          ],
          "parcoords": [
           {
            "line": {
             "colorbar": {
              "outlinewidth": 0,
              "ticks": ""
             }
            },
            "type": "parcoords"
           }
          ],
          "pie": [
           {
            "automargin": true,
            "type": "pie"
           }
          ],
          "scatter": [
           {
            "marker": {
             "colorbar": {
              "outlinewidth": 0,
              "ticks": ""
             }
            },
            "type": "scatter"
           }
          ],
          "scatter3d": [
           {
            "line": {
             "colorbar": {
              "outlinewidth": 0,
              "ticks": ""
             }
            },
            "marker": {
             "colorbar": {
              "outlinewidth": 0,
              "ticks": ""
             }
            },
            "type": "scatter3d"
           }
          ],
          "scattercarpet": [
           {
            "marker": {
             "colorbar": {
              "outlinewidth": 0,
              "ticks": ""
             }
            },
            "type": "scattercarpet"
           }
          ],
          "scattergeo": [
           {
            "marker": {
             "colorbar": {
              "outlinewidth": 0,
              "ticks": ""
             }
            },
            "type": "scattergeo"
           }
          ],
          "scattergl": [
           {
            "marker": {
             "colorbar": {
              "outlinewidth": 0,
              "ticks": ""
             }
            },
            "type": "scattergl"
           }
          ],
          "scattermapbox": [
           {
            "marker": {
             "colorbar": {
              "outlinewidth": 0,
              "ticks": ""
             }
            },
            "type": "scattermapbox"
           }
          ],
          "scatterpolar": [
           {
            "marker": {
             "colorbar": {
              "outlinewidth": 0,
              "ticks": ""
             }
            },
            "type": "scatterpolar"
           }
          ],
          "scatterpolargl": [
           {
            "marker": {
             "colorbar": {
              "outlinewidth": 0,
              "ticks": ""
             }
            },
            "type": "scatterpolargl"
           }
          ],
          "scatterternary": [
           {
            "marker": {
             "colorbar": {
              "outlinewidth": 0,
              "ticks": ""
             }
            },
            "type": "scatterternary"
           }
          ],
          "surface": [
           {
            "colorbar": {
             "outlinewidth": 0,
             "ticks": ""
            },
            "colorscale": [
             [
              0,
              "#0d0887"
             ],
             [
              0.1111111111111111,
              "#46039f"
             ],
             [
              0.2222222222222222,
              "#7201a8"
             ],
             [
              0.3333333333333333,
              "#9c179e"
             ],
             [
              0.4444444444444444,
              "#bd3786"
             ],
             [
              0.5555555555555556,
              "#d8576b"
             ],
             [
              0.6666666666666666,
              "#ed7953"
             ],
             [
              0.7777777777777778,
              "#fb9f3a"
             ],
             [
              0.8888888888888888,
              "#fdca26"
             ],
             [
              1,
              "#f0f921"
             ]
            ],
            "type": "surface"
           }
          ],
          "table": [
           {
            "cells": {
             "fill": {
              "color": "#EBF0F8"
             },
             "line": {
              "color": "white"
             }
            },
            "header": {
             "fill": {
              "color": "#C8D4E3"
             },
             "line": {
              "color": "white"
             }
            },
            "type": "table"
           }
          ]
         },
         "layout": {
          "annotationdefaults": {
           "arrowcolor": "#2a3f5f",
           "arrowhead": 0,
           "arrowwidth": 1
          },
          "autotypenumbers": "strict",
          "coloraxis": {
           "colorbar": {
            "outlinewidth": 0,
            "ticks": ""
           }
          },
          "colorscale": {
           "diverging": [
            [
             0,
             "#8e0152"
            ],
            [
             0.1,
             "#c51b7d"
            ],
            [
             0.2,
             "#de77ae"
            ],
            [
             0.3,
             "#f1b6da"
            ],
            [
             0.4,
             "#fde0ef"
            ],
            [
             0.5,
             "#f7f7f7"
            ],
            [
             0.6,
             "#e6f5d0"
            ],
            [
             0.7,
             "#b8e186"
            ],
            [
             0.8,
             "#7fbc41"
            ],
            [
             0.9,
             "#4d9221"
            ],
            [
             1,
             "#276419"
            ]
           ],
           "sequential": [
            [
             0,
             "#0d0887"
            ],
            [
             0.1111111111111111,
             "#46039f"
            ],
            [
             0.2222222222222222,
             "#7201a8"
            ],
            [
             0.3333333333333333,
             "#9c179e"
            ],
            [
             0.4444444444444444,
             "#bd3786"
            ],
            [
             0.5555555555555556,
             "#d8576b"
            ],
            [
             0.6666666666666666,
             "#ed7953"
            ],
            [
             0.7777777777777778,
             "#fb9f3a"
            ],
            [
             0.8888888888888888,
             "#fdca26"
            ],
            [
             1,
             "#f0f921"
            ]
           ],
           "sequentialminus": [
            [
             0,
             "#0d0887"
            ],
            [
             0.1111111111111111,
             "#46039f"
            ],
            [
             0.2222222222222222,
             "#7201a8"
            ],
            [
             0.3333333333333333,
             "#9c179e"
            ],
            [
             0.4444444444444444,
             "#bd3786"
            ],
            [
             0.5555555555555556,
             "#d8576b"
            ],
            [
             0.6666666666666666,
             "#ed7953"
            ],
            [
             0.7777777777777778,
             "#fb9f3a"
            ],
            [
             0.8888888888888888,
             "#fdca26"
            ],
            [
             1,
             "#f0f921"
            ]
           ]
          },
          "colorway": [
           "#636efa",
           "#EF553B",
           "#00cc96",
           "#ab63fa",
           "#FFA15A",
           "#19d3f3",
           "#FF6692",
           "#B6E880",
           "#FF97FF",
           "#FECB52"
          ],
          "font": {
           "color": "#2a3f5f"
          },
          "geo": {
           "bgcolor": "white",
           "lakecolor": "white",
           "landcolor": "#E5ECF6",
           "showlakes": true,
           "showland": true,
           "subunitcolor": "white"
          },
          "hoverlabel": {
           "align": "left"
          },
          "hovermode": "closest",
          "mapbox": {
           "style": "light"
          },
          "paper_bgcolor": "white",
          "plot_bgcolor": "#E5ECF6",
          "polar": {
           "angularaxis": {
            "gridcolor": "white",
            "linecolor": "white",
            "ticks": ""
           },
           "bgcolor": "#E5ECF6",
           "radialaxis": {
            "gridcolor": "white",
            "linecolor": "white",
            "ticks": ""
           }
          },
          "scene": {
           "xaxis": {
            "backgroundcolor": "#E5ECF6",
            "gridcolor": "white",
            "gridwidth": 2,
            "linecolor": "white",
            "showbackground": true,
            "ticks": "",
            "zerolinecolor": "white"
           },
           "yaxis": {
            "backgroundcolor": "#E5ECF6",
            "gridcolor": "white",
            "gridwidth": 2,
            "linecolor": "white",
            "showbackground": true,
            "ticks": "",
            "zerolinecolor": "white"
           },
           "zaxis": {
            "backgroundcolor": "#E5ECF6",
            "gridcolor": "white",
            "gridwidth": 2,
            "linecolor": "white",
            "showbackground": true,
            "ticks": "",
            "zerolinecolor": "white"
           }
          },
          "shapedefaults": {
           "line": {
            "color": "#2a3f5f"
           }
          },
          "ternary": {
           "aaxis": {
            "gridcolor": "white",
            "linecolor": "white",
            "ticks": ""
           },
           "baxis": {
            "gridcolor": "white",
            "linecolor": "white",
            "ticks": ""
           },
           "bgcolor": "#E5ECF6",
           "caxis": {
            "gridcolor": "white",
            "linecolor": "white",
            "ticks": ""
           }
          },
          "title": {
           "x": 0.05
          },
          "xaxis": {
           "automargin": true,
           "gridcolor": "white",
           "linecolor": "white",
           "ticks": "",
           "title": {
            "standoff": 15
           },
           "zerolinecolor": "white",
           "zerolinewidth": 2
          },
          "yaxis": {
           "automargin": true,
           "gridcolor": "white",
           "linecolor": "white",
           "ticks": "",
           "title": {
            "standoff": 15
           },
           "zerolinecolor": "white",
           "zerolinewidth": 2
          }
         }
        },
        "title": {
         "font": {
          "size": 30
         },
         "text": "<b>IMDB MOVIES - SCATTER PLOT<B>",
         "x": 0.5
        },
        "xaxis": {
         "anchor": "y",
         "domain": [
          0,
          1
         ],
         "showgrid": false,
         "title": {
          "text": "Gross"
         }
        },
        "yaxis": {
         "anchor": "x",
         "domain": [
          0,
          1
         ],
         "showgrid": false,
         "title": {
          "text": "Number of votes"
         }
        }
       }
      },
      "text/html": [
       "<div>                            <div id=\"362a0fea-1687-4aa3-a38c-7304811c23c2\" class=\"plotly-graph-div\" style=\"height:525px; width:100%;\"></div>            <script type=\"text/javascript\">                require([\"plotly\"], function(Plotly) {                    window.PLOTLYENV=window.PLOTLYENV || {};                                    if (document.getElementById(\"362a0fea-1687-4aa3-a38c-7304811c23c2\")) {                    Plotly.newPlot(                        \"362a0fea-1687-4aa3-a38c-7304811c23c2\",                        [{\"customdata\":[[\"The Shawshank Redemption\"],[\"Fight Club\"],[\"Forrest Gump\"],[\"One Flew Over the Cuckoo's Nest\"],[\"Soorarai Pottru\"],[\"Saving Private Ryan\"],[\"It's a Wonderful Life\"],[\"Whiplash\"],[\"The Prestige\"],[\"American History X\"],[\"Nuovo Cinema Paradiso\"],[\"Casablanca\"],[\"Capharna\\u00fcm\"],[\"Django Unchained\"],[\"Taare Zameen Par\"],[\"The Lives of Others\"],[\"The Shining\"],[\"Apocalypse Now\"],[\"Anand\"],[\"Paths of Glory\"],[\"Sunset Blvd.\"],[\"1917\"],[\"Tumbbad\"],[\"Jagten\"],[\"Jodaeiye Nader az Simin\"],[\"Incendies\"],[\"Miracle in cell NO.7\"],[\"Babam ve Oglum\"],[\"Eternal Sunshine of the Spotless Mind\"],[\"Requiem for a Dream\"],[\"American Beauty\"],[\"Good Will Hunting\"],[\"Bacheha-Ye aseman\"],[\"Full Metal Jacket\"],[\"Idi i smotri\"],[\"Ikiru\"],[\"Ladri di biciclette\"],[\"Citizen Kane\"],[\"Metropolis\"],[\"Mandariinid\"],[\"Udaan\"],[\"El secreto de sus ojos\"],[\"Chak De! India\"],[\"There Will Be Blood\"],[\"Pan's Labyrinth\"],[\"Black\"],[\"Swades: We, the People\"],[\"Unforgiven\"],[\"Stalker\"],[\"H\\u00f6stsonaten\"],[\"Judgment at Nuremberg\"],[\"Smultronst\\u00e4llet\"],[\"Det sjunde inseglet\"],[\"T\\u00f4ky\\u00f4 monogatari\"],[\"All About Eve\"],[\"Portrait de la jeune fille en feu\"],[\"Pink\"],[\"Ah-ga-ssi\"],[\"Mommy\"],[\"Room\"],[\"Kis Uykusu\"],[\"Gone Girl\"],[\"Gran Torino\"],[\"Okuribito\"],[\"Million Dollar Baby\"],[\"Before Sunset\"],[\"Amores perros\"],[\"The Sixth Sense\"],[\"La leggenda del pianista sull'oceano\"],[\"Fa yeung nin wah\"],[\"Trainspotting\"],[\"Dilwale Dulhania Le Jayenge\"],[\"Before Sunrise\"],[\"Trois couleurs: Rouge\"],[\"Ba wang bie ji\"],[\"D\\u00e0 h\\u00f3ng denglong gaogao gu\\u00e0\"],[\"Platoon\"],[\"Paris, Texas\"],[\"Pink Floyd: The Wall\"],[\"Fanny och Alexander\"],[\"The Deer Hunter\"],[\"Rocky\"],[\"Network\"],[\"Chinatown\"],[\"Viskningar och rop\"],[\"Solaris\"],[\"Persona\"],[\"La battaglia di Algeri\"],[\"El \\u00e1ngel exterminador\"],[\"What Ever Happened to Baby Jane?\"],[\"The Man Who Shot Liberty Valance\"],[\"Ivanovo detstvo\"],[\"Jungfruk\\u00e4llan\"],[\"Le notti di Cabiria\"],[\"Kumonosu-j\\u00f4\"],[\"Ace in the Hole\"],[\"The Red Shoes\"],[\"Rebecca\"],[\"Gone with the Wind\"],[\"La Grande Illusion\"],[\"Sunrise: A Song of Two Humans\"],[\"Airlift\"],[\"Wonder\"],[\"Gully Boy\"],[\"Short Term 12\"],[\"Her\"],[\"The Perks of Being a Wallflower\"],[\"The Help\"],[\"Darbareye Elly\"],[\"Dev.D\"],[\"My Name Is Khan\"],[\"Slumdog Millionaire\"],[\"Black Swan\"],[\"Vozvrashchenie\"],[\"Bom Yeoareum Gaeul Gyeoul Geurigo Bom\"],[\"Donnie Darko\"],[\"Magnolia\"],[\"Festen\"],[\"Central do Brasil\"],[\"Sling Blade\"],[\"Scent of a Woman\"],[\"JFK\"],[\"Rain Man\"],[\"Der Himmel \\u00fcber Berlin\"],[\"Au revoir les enfants\"],[\"Kagemusha\"],[\"The Last Picture Show\"],[\"Fiddler on the Roof\"],[\"Il conformista\"],[\"Rosemary's Baby\"],[\"Who's Afraid of Virginia Woolf?\"],[\"Doctor Zhivago\"],[\"8\\u00bd\"],[\"Vivre sa vie: Film en douze tableaux\"],[\"The Hustler\"],[\"Cat on a Hot Tin Roof\"],[\"Sweet Smell of Success\"],[\"La Strada\"],[\"A Streetcar Named Desire\"],[\"In a Lonely Place\"],[\"Brief Encounter\"],[\"Laura\"],[\"The Best Years of Our Lives\"],[\"The Grapes of Wrath\"],[\"All Quiet on the Western Front\"],[\"Bronenosets Potemkin\"],[\"Call Me by Your Name\"],[\"I, Daniel Blake\"],[\"Arrival\"],[\"Before Midnight\"],[\"Amour\"],[\"Moon\"],[\"The Wrestler\"],[\"Boyhood\"],[\"4 luni, 3 saptam\\u00e2ni si 2 zile\"],[\"The Man from Earth\"],[\"Les choristes\"],[\"Gegen die Wand\"],[\"Hable con ella\"],[\"Mulholland Dr.\"],[\"Boogie Nights\"],[\"Trois couleurs: Bleu\"],[\"Edward Scissorhands\"],[\"Brazil\"],[\"All That Jazz\"],[\"The Manchurian Candidate\"],[\"L'avventura\"],[\"Hiroshima mon amour\"],[\"East of Eden\"],[\"High Noon\"],[\"Notorious\"],[\"The Lost Weekend\"],[\"Freaks\"],[\"Sound of Metal\"],[\"Forushande\"],[\"Manchester by the Sea\"],[\"Under sandet\"],[\"Little Women\"],[\"Le pass\\u00e9\"],[\"La grande bellezza\"],[\"The Lunchbox\"],[\"Kokuhaku\"],[\"Das wei\\u00dfe Band - Eine deutsche Kindergeschichte\"],[\"The Trial of the Chicago 7\"],[\"The Boy in the Striped Pyjamas\"],[\"Once\"],[\"Auf der anderen Seite\"],[\"Atonement\"],[\"Mr. Nobody\"],[\"The Curious Case of Benjamin Button\"],[\"Veer-Zaara\"],[\"Pride & Prejudice\"],[\"Ondskan\"],[\"The Notebook\"],[\"Todo sobre mi madre\"],[\"Titanic\"],[\"Gattaca\"],[\"Breaking the Waves\"],[\"What's Eating Gilbert Grape\"],[\"The Remains of the Day\"],[\"La double vie de V\\u00e9ronique\"],[\"Misery\"],[\"The Color Purple\"],[\"Kramer vs. Kramer\"],[\"Days of Heaven\"],[\"The Conversation\"],[\"Cabaret\"],[\"Midnight Cowboy\"],[\"My Fair Lady\"],[\"Jules et Jim\"],[\"Bride of Frankenstein\"],[\"Frankenstein\"],[\"Roma\"],[\"God's Own Country\"],[\"The Fault in Our Stars\"],[\"La vie d'Ad\\u00e8le\"],[\"Kai po che!\"],[\"The Broken Circle Breakdown\"],[\"Rockstar\"],[\"Detachment\"],[\"Gravity\"],[\"Beasts of No Nation\"],[\"Ex Machina\"],[\"Efter brylluppet\"],[\"Joyeux No\\u00ebl\"],[\"Zwartboek\"],[\"Brokeback Mountain\"],[\"The Machinist\"],[\"The Magdalene Sisters\"],[\"In America\"],[\"I Am Sam\"],[\"Black Hawk Down\"],[\"Das Experiment\"],[\"Billy Elliot\"],[\"Abre los ojos\"],[\"Hamlet\"],[\"A Little Princess\"],[\"Philadelphia\"],[\"A Few Good Men\"],[\"Fried Green Tomatoes\"],[\"Blue Velvet\"],[\"The Verdict\"],[\"Ordinary People\"],[\"Le locataire\"],[\"Belle de jour\"],[\"Repulsion\"],[\"Zulu\"],[\"The Birds\"],[\"Cape Fear\"],[\"Peeping Tom\"],[\"Les yeux sans visage\"],[\"Invasion of the Body Snatchers\"],[\"Rebel Without a Cause\"],[\"The Day the Earth Stood Still\"],[\"Gilda\"],[\"Searching\"],[\"Nelyubov\"],[\"The Florida Project\"],[\"Gifted\"],[\"Mustang\"],[\"Bridge of Spies\"],[\"Creed\"],[\"A Star Is Born\"],[\"True Grit\"],[\"H\\u00e6vnen\"],[\"La piel que habito\"],[\"Die Welle\"],[\"The Visitor\"],[\"Seven Pounds\"],[\"The Illusionist\"],[\"Match Point\"],[\"Synecdoche, New York\"],[\"Mysterious Skin\"],[\"Un long dimanche de fian\\u00e7ailles\"],[\"25th Hour\"],[\"The Butterfly Effect\"],[\"28 Days Later...\"],[\"Y tu mam\\u00e1 tambi\\u00e9n\"],[\"Enemy at the Gates\"],[\"The Thin Red Line\"],[\"Sense and Sensibility\"],[\"The Bridges of Madison County\"],[\"On Golden Pond\"],[\"Close Encounters of the Third Kind\"],[\"Gi\\u00f9 la testa\"],[\"Blowup\"],[\"Giant\"],[\"From Here to Eternity\"],[\"Lifeboat\"]],\"hovertemplate\":\"genre=Drama<br>Gross=%{x}<br>No_of_Votes=%{y}<br>Series_Title=%{customdata[0]}<extra></extra>\",\"legendgroup\":\"Drama\",\"marker\":{\"color\":\"#636efa\",\"symbol\":\"circle\"},\"mode\":\"markers\",\"name\":\"Drama\",\"orientation\":\"v\",\"showlegend\":true,\"x\":[28341469.0,37030102.0,330252182.0,112000000.0,68034750.87364621,216540909.0,68034750.87364621,13092000.0,53089891.0,6719864.0,11990401.0,1024560.0,1661096.0,162805434.0,1223869.0,11286112.0,44017374.0,83471511.0,68034750.87364621,68034750.87364621,68034750.87364621,159227644.0,68034750.87364621,687185.0,7098492.0,6857096.0,68034750.87364621,68034750.87364621,34400301.0,3635482.0,130096601.0,138433435.0,933933.0,46357676.0,68034750.87364621,55240.0,332930.0,1585634.0,1236166.0,144501.0,7461.0,6391436.0,1113541.0,40222514.0,37634615.0,733094.0,1223240.0,101157447.0,234723.0,68034750.87364621,68034750.87364621,68034750.87364621,68034750.87364621,68034750.87364621,10177.0,3759854.0,1241223.0,2006788.0,3492754.0,14677674.0,165520.0,167767189.0,148095302.0,1498210.0,100492203.0,5820649.0,5383834.0,293506292.0,259127.0,2734044.0,16501785.0,68034750.87364621,5535405.0,4043686.0,5216888.0,2603061.0,138530565.0,2181987.0,22244207.0,4971340.0,48979328.0,117235247.0,68034750.87364621,29000000.0,1742348.0,68034750.87364621,68034750.87364621,55908.0,68034750.87364621,4050000.0,68034750.87364621,68034750.87364621,1526000.0,752045.0,68034750.87364621,3969893.0,10900000.0,4360000.0,198676459.0,172885.0,539540.0,68034750.87364621,132422809.0,5566534.0,1010414.0,25568251.0,17738570.0,169708112.0,106662.0,10950.0,4018695.0,141319928.0,106954678.0,502028.0,2380788.0,1480006.0,22455976.0,1647780.0,5595428.0,24475416.0,63895607.0,70405498.0,178800000.0,3333969.0,4542825.0,68034750.87364621,29133000.0,80500000.0,541940.0,68034750.87364621,68034750.87364621,111722000.0,50690.0,68034750.87364621,8284000.0,17570324.0,68034750.87364621,68034750.87364621,8000000.0,68034750.87364621,68034750.87364621,4360000.0,23650000.0,55000.0,3270000.0,50970.0,18095701.0,258168.0,100546139.0,8114627.0,6739492.0,5009677.0,26236603.0,25379975.0,1185783.0,68034750.87364621,3635164.0,68034750.87364621,9284265.0,7220243.0,26400640.0,1324974.0,56362352.0,9929135.0,37823676.0,68034750.87364621,68034750.87364621,88300.0,68034750.87364621,9450000.0,10464000.0,9460000.0,68034750.87364621,68034750.87364621,2402067.0,47695120.0,435266.0,108101214.0,1330596.0,2852400.0,4231500.0,68034750.87364621,2222647.0,68034750.87364621,9030581.0,9439923.0,741283.0,50927067.0,3600.0,127509326.0,2921738.0,38405088.0,15280.0,81001787.0,8264530.0,659325379.0,12339633.0,4040691.0,9170214.0,22954968.0,1999955.0,61276872.0,98467863.0,106260000.0,68034750.87364621,4420000.0,42765000.0,44785053.0,72000000.0,68034750.87364621,4360000.0,68034750.87364621,68034750.87364621,335609.0,124872350.0,2199675.0,1122527.0,175058.0,985912.0,71177.0,274092705.0,83861.0,25442958.0,412544.0,1054361.0,4398392.0,83043761.0,1082715.0,4890878.0,15539266.0,40311852.0,108638745.0,141072.0,21995263.0,368234.0,4414535.0,10019307.0,77324422.0,141340178.0,82418501.0,8551228.0,54000000.0,54800000.0,1924733.0,26331.0,68034750.87364621,68034750.87364621,11403529.0,68034750.87364621,83957.0,52709.0,68034750.87364621,68034750.87364621,68034750.87364621,68034750.87364621,26020957.0,566356.0,5904366.0,24801212.0,845464.0,72313754.0,109767581.0,215288866.0,171243005.0,1008098.0,3185812.0,68034750.87364621,9422422.0,69951824.0,39868642.0,23089926.0,3081925.0,697181.0,6167817.0,13060843.0,57938693.0,45064915.0,13622333.0,51401758.0,36400491.0,43182776.0,71516617.0,119285432.0,132088635.0,696690.0,68034750.87364621,68034750.87364621,30500000.0,68034750.87364621],\"xaxis\":\"x\",\"y\":[2343110,1854740,1809221,918088,54995,1235804,405801,717585,1190259,1034705,230763,522093,62635,1357682,168895,358685,898237,606398,30273,178092,201632,425844,27793,281623,220002,150023,33935,78925,911664,766870,1069738,861606,65341,675146,59056,68463,146427,403351,159992,40382,42341,193217,74129,517359,618623,33354,83005,375935,116945,26875,69458,96381,164939,53153,120539,63134,39216,113649,50700,371538,46547,859695,720450,48582,635975,236311,223741,911573,59020,124383,634716,63516,272291,90729,25088,29662,381222,91188,76081,57784,311361,518546,144911,294230,30206,81021,103191,53089,29682,50058,68827,31728,26697,42940,46678,31568,30935,123942,290074,33829,46865,52897,141923,31886,81770,540772,462252,428521,45803,28749,98575,798882,699673,42399,77520,740086,289742,78341,36419,86838,263918,142110,473064,64722,31163,32195,42456,39491,27067,193674,68926,69903,108844,28057,75067,45062,28137,58314,99182,26784,35601,42725,57259,85559,57318,53054,212651,53818,594181,141457,93090,335152,289415,335533,56625,174125,57430,51325,104691,322031,239473,89836,447368,187567,28223,71122,26542,28421,40313,97222,92306,33549,42117,27187,51240,246963,35539,143250,45002,81125,50523,35713,68715,89896,190748,110656,30827,251370,216421,589160,49050,258924,35682,520284,89058,1046089,280845,62428,215034,66065,42376,184740,78321,133351,52852,98611,48334,101124,86525,37605,43542,65341,140375,25198,344312,138741,32628,39379,39501,77071,769145,73964,474141,32001,28003,72643,323103,358432,25938,40403,142863,364254,90842,126770,64082,35991,32236,224169,235388,66941,181285,36096,47099,39889,40274,48883,35999,171739,26457,31354,27620,44839,83363,76315,27991,140840,29765,95181,99643,35785,287659,247666,334312,311822,38491,138959,102742,41544,286770,354728,206294,83158,65939,70925,169708,451479,376853,115827,243729,172710,102598,73172,27650,184966,30144,56513,34075,43374,26471],\"yaxis\":\"y\",\"type\":\"scatter\"},{\"customdata\":[[\"The Godfather\"],[\"The Godfather: Part II\"],[\"12 Angry Men\"],[\"Pulp Fiction\"],[\"Cidade de Deus\"],[\"The Green Mile\"],[\"Se7en\"],[\"The Silence of the Lambs\"],[\"Joker\"],[\"The Departed\"],[\"The Usual Suspects\"],[\"Once Upon a Time in America\"],[\"Tengoku to jigoku\"],[\"Witness for the Prosecution\"],[\"Andhadhun\"],[\"Drishyam\"],[\"Reservoir Dogs\"],[\"Scarface\"],[\"Taxi Driver\"],[\"A Clockwork Orange\"],[\"Double Indemnity\"],[\"M - Eine Stadt sucht einen M\\u00f6rder\"],[\"Talvar\"],[\"Drishyam\"],[\"L.A. Confidential\"],[\"Eskiya\"],[\"Heat\"],[\"Casino\"],[\"To Kill a Mockingbird\"],[\"Du rififi chez les hommes\"],[\"Dial M for Murder\"],[\"Rash\\u00f4mon\"],[\"Contratiempo\"],[\"Prisoners\"],[\"No Country for Old Men\"],[\"Salinui chueok\"],[\"Fargo\"],[\"La haine\"],[\"Le samoura\\u00ef\"],[\"Cool Hand Luke\"],[\"Les quatre cents coups\"],[\"On the Waterfront\"],[\"Special Chabbis\"],[\"Bin-jip\"],[\"Sin City\"],[\"Dogville\"],[\"Dancer in the Dark\"],[\"Bound by Honor\"],[\"Anatomy of a Murder\"],[\"Touch of Evil\"],[\"The Killing\"],[\"The Night of the Hunter\"],[\"Les diaboliques\"],[\"Rope\"],[\"Out of the Past\"],[\"Manbiki kazoku\"],[\"Nightcrawler\"],[\"Bir Zamanlar Anadolu'da\"],[\"Un proph\\u00e8te\"],[\"L\\u00e5t den r\\u00e4tte komma in\"],[\"Mystic River\"],[\"Nueve reinas\"],[\"Once Were Warriors\"],[\"True Romance\"],[\"Carlito's Way\"],[\"The Untouchables\"],[\"In the Heat of the Night\"],[\"Strangers on a Train\"],[\"The Big Sleep\"],[\"The Hateful Eight\"],[\"La migliore offerta\"],[\"The Girl with the Dragon Tattoo\"],[\"Madeo\"],[\"M\\u00e4n som hatar kvinnor\"],[\"Drive\"],[\"Lilja 4-ever\"],[\"Hana-bi\"],[\"A Bronx Tale\"],[\"Boyz n the Hood\"],[\"Mississippi Burning\"],[\"The Day of the Jackal\"],[\"\\u00c0 bout de souffle\"],[\"Wind River\"],[\"Death Note: Desu n\\u00f4to\"],[\"This Is England\"],[\"Zodiac\"],[\"Crash\"],[\"Road to Perdition\"],[\"Ocean's Eleven\"],[\"Training Day\"],[\"Primal Fear\"],[\"Glengarry Glen Ross\"],[\"Miller's Crossing\"],[\"Der Name der Rose\"],[\"Victoria\"],[\"Leviafan\"],[\"Inside Man\"],[\"Gone Baby Gone\"],[\"Dead Man's Shoes\"],[\"21 Grams\"],[\"Boksuneun naui geot\"],[\"Lola rennt\"],[\"Funny Games\"],[\"Sleepers\"],[\"The Godfather: Part III\"],[\"Blood Simple\"],[\"The 39 Steps\"]],\"hovertemplate\":\"genre=Crime<br>Gross=%{x}<br>No_of_Votes=%{y}<br>Series_Title=%{customdata[0]}<extra></extra>\",\"legendgroup\":\"Crime\",\"marker\":{\"color\":\"#EF553B\",\"symbol\":\"circle\"},\"mode\":\"markers\",\"name\":\"Crime\",\"orientation\":\"v\",\"showlegend\":true,\"x\":[134966411.0,57300000.0,4360000.0,107928762.0,7563397.0,136801374.0,100125643.0,130742922.0,335451311.0,132384315.0,23341568.0,5321508.0,68034750.87364621,8175000.0,1373943.0,68034750.87364621,2832029.0,45598982.0,28262574.0,6207725.0,5720000.0,28877.0,342370.0,739478.0,64616940.0,68034750.87364621,67436818.0,42438300.0,68034750.87364621,57226.0,12562.0,96568.0,68034750.87364621,61002302.0,74283625.0,14131.0,24611975.0,309811.0,39481.0,16217773.0,68034750.87364621,9600000.0,1079369.0,238507.0,74103820.0,1530386.0,4184036.0,4496583.0,11900000.0,2237659.0,68034750.87364621,654000.0,68034750.87364621,68034750.87364621,68034750.87364621,3313513.0,32381218.0,138730.0,2084637.0,2122065.0,90135191.0,1221261.0,2201126.0,12281500.0,36948322.0,76270454.0,24379978.0,7630000.0,6540000.0,54117416.0,85433.0,102515793.0,547292.0,10095170.0,35061555.0,181655.0,233986.0,17266971.0,57504069.0,34603943.0,16056255.0,336705.0,33800859.0,68034750.87364621,327919.0,33080084.0,54580300.0,104454762.0,183417150.0,76631907.0,56116183.0,10725228.0,5080409.0,7153487.0,68034750.87364621,1092800.0,88513495.0,20300218.0,6013.0,16290476.0,45289.0,7267585.0,68034750.87364621,49100000.0,66666062.0,2150000.0,68034750.87364621],\"xaxis\":\"x\",\"y\":[1620367,1129952,689845,1826188,699256,1147794,1445096,1270197,939252,1189773,991208,311365,34357,108862,71875,30722,918562,740911,724636,757904,143525,143434,31142,70367,531967,64118,577113,466276,293811,28810,158335,152572,141516,601149,856916,139558,617444,150345,45434,161984,105291,142107,51069,50610,738512,137963,102285,28825,59847,98431,81702,81980,61503,129783,32784,62754,466134,41995,93560,205609,419420,49721,31590,206918,201000,281842,67804,123341,78796,517059,108399,423010,52758,208994,571571,42673,27712,128171,126082,88214,37445,73251,205444,28630,115576,466080,419483,246840,516372,390247,189716,95826,125822,102031,52903,49397,339757,250590,49728,224545,62659,188317,65058,186734,359809,87745,51853],\"yaxis\":\"y\",\"type\":\"scatter\"},{\"customdata\":[[\"The Dark Knight\"],[\"The Lord of the Rings: The Return of the King\"],[\"Inception\"],[\"The Lord of the Rings: The Fellowship of the Ring\"],[\"The Lord of the Rings: The Two Towers\"],[\"The Matrix\"],[\"Star Wars: Episode V - The Empire Strikes Back\"],[\"Star Wars\"],[\"Seppuku\"],[\"Shichinin no samurai\"],[\"Gladiator\"],[\"L\\u00e9on\"],[\"Terminator 2: Judgment Day\"],[\"Vikram Vedha\"],[\"Dangal\"],[\"Avengers: Endgame\"],[\"Avengers: Infinity War\"],[\"The Dark Knight Rises\"],[\"Oldeuboi\"],[\"Raiders of the Lost Ark\"],[\"Aliens\"],[\"Star Wars: Episode VI - Return of the Jedi\"],[\"Uri: The Surgical Strike\"],[\"K.G.F: Chapter 1\"],[\"Baahubali 2: The Conclusion\"],[\"Gangs of Wasseypur\"],[\"Paan Singh Tomar\"],[\"Warrior\"],[\"V for Vendetta\"],[\"Batman Begins\"],[\"Hera Pheri\"],[\"Lock, Stock and Two Smoking Barrels\"],[\"Andaz Apna Apna\"],[\"Indiana Jones and the Last Crusade\"],[\"Die Hard\"],[\"Ran\"],[\"Sholay\"],[\"Y\\u00f4jinb\\u00f4\"],[\"Sherlock Jr.\"],[\"Haider\"],[\"Logan\"],[\"Rush\"],[\"Ford v Ferrari\"],[\"Mad Max: Fury Road\"],[\"A Wednesday\"],[\"Taegukgi hwinalrimyeo\"],[\"Kill Bill: Vol. 1\"],[\"Jurassic Park\"],[\"Blade Runner\"],[\"Sanjuro\"],[\"White Heat\"],[\"The General\"],[\"Bajrangi Bhaijaan\"],[\"Baby\"],[\"B\\u00e3hubali: The Beginning\"],[\"Serbuan maut 2: Berandal\"],[\"Guardians of the Galaxy\"],[\"Blade Runner 2049\"],[\"The Revenant\"],[\"Tropa de Elite 2: O Inimigo Agora \\u00e9 Outro\"],[\"Deadpool\"],[\"Yip Man\"],[\"Nefes: Vatan Sagolsun\"],[\"Tropa de Elite\"],[\"The Avengers\"],[\"The Bourne Ultimatum\"],[\"Casino Royale\"],[\"Kill Bill: Vol. 2\"],[\"Mou gaan dou\"],[\"Pirates of the Caribbean: The Curse of the Black Pearl\"],[\"Knockin' on Heaven's Door\"],[\"The Terminator\"],[\"Per un pugno di dollari\"],[\"Rio Bravo\"],[\"Thor: Ragnarok\"],[\"Star Wars: Episode VII - The Force Awakens\"],[\"X-Men: Days of Future Past\"],[\"Edge of Tomorrow\"],[\"District 9\"],[\"Star Trek\"],[\"Letters from Iwo Jima\"],[\"Iron Man\"],[\"Ying xiong\"],[\"The Bourne Identity\"],[\"The Blues Brothers\"],[\"Dawn of the Dead\"],[\"Aguirre, der Zorn Gottes\"],[\"The Wild Bunch\"],[\"The Adventures of Robin Hood\"],[\"The Gentlemen\"],[\"Raazi\"],[\"Dunkirk\"],[\"Udta Punjab\"],[\"Rogue One\"],[\"Captain America: Civil War\"],[\"Ang-ma-reul bo-at-da\"],[\"Ajeossi\"],[\"Chugyeokja\"],[\"Taken\"],[\"Avatar\"],[\"Apocalypto\"],[\"Hot Fuzz\"],[\"Serenity\"],[\"Gongdong gyeongbi guyeok JSA\"],[\"The Count of Monte Cristo\"],[\"Wo hu cang long\"],[\"The Boondock Saints\"],[\"The Game\"],[\"Tombstone\"],[\"The Fugitive\"],[\"Lat sau san taam\"],[\"Dip huet seung hung\"],[\"Predator\"],[\"Evil Dead II\"],[\"Ghostbusters\"],[\"Badlands\"],[\"Bonnie and Clyde\"],[\"The Longest Day\"],[\"Red River\"],[\"Key Largo\"],[\"Scarface: The Shame of the Nation\"],[\"Deadpool 2\"],[\"Mission: Impossible - Fallout\"],[\"Kingsman: The Secret Service\"],[\"Captain America: The Winter Soldier\"],[\"Star Trek Into Darkness\"],[\"X: First Class\"],[\"Skyfall\"],[\"Lucky Number Slevin\"],[\"3:10 to Yuma\"],[\"Kung fu\"],[\"The Bourne Supremacy\"],[\"Man on Fire\"],[\"The Last Samurai\"],[\"The Fifth Element\"],[\"The Last of the Mohicans\"],[\"Empire of the Sun\"],[\"Star Trek II: The Wrath of Khan\"],[\"First Blood\"],[\"The Taking of Pelham One Two Three\"],[\"Enter the Dragon\"],[\"The French Connection\"],[\"Dirty Harry\"],[\"Where Eagles Dare\"],[\"The Dirty Dozen\"],[\"Goldfinger\"],[\"The Magnificent Seven\"],[\"Guardians of the Galaxy Vol. 2\"],[\"Baby Driver\"],[\"Only the Brave\"],[\"Sicario\"],[\"Hell or High Water\"],[\"Dawn of the Planet of the Apes\"],[\"Serbuan maut\"],[\"End of Watch\"],[\"Kick-Ass\"],[\"Celda 211\"],[\"Sherlock Holmes\"],[\"Eastern Promises\"],[\"Huo Yuan Jia\"],[\"Harry Potter and the Half-Blood Prince\"],[\"300\"],[\"Watchmen\"],[\"Lord of War\"],[\"Batoru rowaiaru\"],[\"Minority Report\"],[\"Die Hard: With a Vengeance\"],[\"Falling Down\"],[\"Lethal Weapon\"],[\"Mad Max 2\"],[\"The Warriors\"],[\"Escape from Alcatraz\"]],\"hovertemplate\":\"genre=Action<br>Gross=%{x}<br>No_of_Votes=%{y}<br>Series_Title=%{customdata[0]}<extra></extra>\",\"legendgroup\":\"Action\",\"marker\":{\"color\":\"#00cc96\",\"symbol\":\"circle\"},\"mode\":\"markers\",\"name\":\"Action\",\"orientation\":\"v\",\"showlegend\":true,\"x\":[534858444.0,377845905.0,292576195.0,315544750.0,342551365.0,171479930.0,290475067.0,322740140.0,68034750.87364621,269061.0,187705427.0,19501238.0,204843350.0,68034750.87364621,12391761.0,858373000.0,678815482.0,448139099.0,707481.0,248159971.0,85160248.0,309125409.0,4186168.0,68034750.87364621,20186659.0,68034750.87364621,39567.0,13657115.0,70511035.0,206852432.0,68034750.87364621,3897569.0,68034750.87364621,197171806.0,83008852.0,4135750.0,68034750.87364621,68034750.87364621,977375.0,901610.0,226277068.0,26947624.0,117624028.0,154058340.0,68034750.87364621,1111061.0,70099045.0,402453882.0,32868943.0,68034750.87364621,68034750.87364621,1033895.0,8178001.0,68034750.87364621,6738000.0,2625803.0,333176600.0,92054159.0,183637894.0,100119.0,363070709.0,68034750.87364621,68034750.87364621,8060.0,623279547.0,227471070.0,167445960.0,66208183.0,169659.0,305413918.0,3296.0,38400000.0,14500000.0,12535000.0,315058289.0,936662225.0,233921534.0,100206256.0,115646235.0,257730019.0,13756082.0,318412101.0,53710019.0,121661683.0,57229890.0,5100000.0,68034750.87364621,12064472.0,3981000.0,68034750.87364621,68034750.87364621,188373161.0,68034750.87364621,532177324.0,408084349.0,128392.0,6460.0,68034750.87364621,145000989.0,760507625.0,50866635.0,23637265.0,25514517.0,68034750.87364621,54234062.0,128078872.0,25812.0,48323648.0,56505065.0,183875760.0,68034750.87364621,68034750.87364621,59735548.0,5923044.0,238632124.0,68034750.87364621,68034750.87364621,39100000.0,68034750.87364621,68034750.87364621,68034750.87364621,324591735.0,220159104.0,128261724.0,259766572.0,228778661.0,146408305.0,304360277.0,22494487.0,53606916.0,17108591.0,176241941.0,77911774.0,111110575.0,63540020.0,75505856.0,22238696.0,78912963.0,47212904.0,68034750.87364621,25000000.0,15630710.0,35900000.0,68034750.87364621,45300000.0,51081062.0,4905000.0,389813101.0,107825862.0,18340051.0,46889293.0,26862450.0,208545589.0,4105123.0,41003371.0,48071303.0,68034750.87364621,209028679.0,17114882.0,24633730.0,301959197.0,210614939.0,107509799.0,24149632.0,68034750.87364621,132072926.0,100012499.0,40903593.0,65207127.0,12465371.0,22490039.0,43000000.0],\"xaxis\":\"x\",\"y\":[2303232,1642758,2067042,1661481,1485555,1676426,1159315,1231473,42004,315744,1341460,1035236,995506,28401,156479,809955,834477,1516346,515451,884112,652719,950470,43444,36680,75348,82365,33237,435950,1032749,1308302,57057,535216,49300,692366,793164,112505,51284,111244,41985,50445,647884,432811,291289,882316,73891,37820,1000639,867615,693827,33044,29807,81156,72245,52848,102972,114316,1043455,461823,705589,79200,902669,211427,31838,98097,1260806,604694,582239,683900,117857,1015122,27721,799795,198219,56305,587775,860823,659763,600004,638202,577336,154011,939644,173999,508771,183182,111512,52397,77401,47175,237392,25344,555092,27175,556608,663649,111252,62848,58468,564791,1118998,291018,463466,283310,26518,129022,253228,227143,345096,126871,267684,46700,45624,371387,148359,355413,66009,102415,52141,28167,36995,25312,478586,291257,590440,736182,463188,645512,630614,299524,288797,127250,434841,329592,400049,434125,150409,115677,112704,226541,26729,96561,110075,143292,51913,67183,174119,87719,569974,439406,58371,371291,204175,411599,190531,228132,524081,63882,583158,227760,72863,474827,732876,500799,294140,169091,508417,364420,171640,236894,166588,93878,121731],\"yaxis\":\"y\",\"type\":\"scatter\"},{\"customdata\":[[\"Schindler's List\"],[\"Goodfellas\"],[\"Hamilton\"],[\"The Intouchables\"],[\"The Pianist\"],[\"Ayla: The Daughter of War\"],[\"Braveheart\"],[\"Amadeus\"],[\"Green Book\"],[\"Bhaag Milkha Bhaag\"],[\"The Wolf of Wall Street\"],[\"Der Untergang\"],[\"A Beautiful Mind\"],[\"Raging Bull\"],[\"The Message\"],[\"Hacksaw Ridge\"],[\"12 Years a Slave\"],[\"Spotlight\"],[\"Hachi: A Dog's Tale\"],[\"Hotel Rwanda\"],[\"Catch Me If You Can\"],[\"In the Name of the Father\"],[\"The Elephant Man\"],[\"Zerkalo\"],[\"Andrei Rublev\"],[\"Inherit the Wind\"],[\"La passion de Jeanne d'Arc\"],[\"Lion\"],[\"The Imitation Game\"],[\"Bohemian Rhapsody\"],[\"The King's Speech\"],[\"Dallas Buyers Club\"],[\"The Pursuit of Happyness\"],[\"Le scaphandre et le papillon\"],[\"Mar adentro\"],[\"Cinderella Man\"],[\"The Straight Story\"],[\"Gandhi\"],[\"Dog Day Afternoon\"],[\"Papillon\"],[\"Butch Cassidy and the Sundance Kid\"],[\"The Sound of Music\"],[\"The Irishman\"],[\"My Left Foot: The Story of Christy Brown\"],[\"All the President's Men\"],[\"Patton\"],[\"The Lion in Winter\"],[\"Hidden Figures\"],[\"M.S. Dhoni: The Untold Story\"],[\"Pride\"],[\"The Big Short\"],[\"Straight Outta Compton\"],[\"The Fighter\"],[\"American Gangster\"],[\"The World's Fastest Indian\"],[\"Walk the Line\"],[\"Remember the Titans\"],[\"The Insider\"],[\"October Sky\"],[\"Ed Wood\"],[\"Awakenings\"],[\"Glory\"],[\"The Killing Fields\"],[\"The Theory of Everything\"],[\"The Social Network\"],[\"Argo\"],[\"Frost/Nixon\"],[\"Changeling\"],[\"The Last King of Scotland\"],[\"Control\"],[\"Ray\"],[\"Donnie Brasco\"],[\"Shine\"],[\"Il postino\"],[\"Malcolm X\"],[\"The Last Emperor\"],[\"Serpico\"],[\"A Man for All Seasons\"],[\"Dark Waters\"],[\"Just Mercy\"],[\"Philomena\"],[\"Moneyball\"],[\"The Blind Side\"],[\"La Vie En Rose\"],[\"Finding Neverland\"],[\"Blow\"],[\"The Hurricane\"],[\"Midnight Express\"]],\"hovertemplate\":\"genre=Biography<br>Gross=%{x}<br>No_of_Votes=%{y}<br>Series_Title=%{customdata[0]}<extra></extra>\",\"legendgroup\":\"Biography\",\"marker\":{\"color\":\"#ab63fa\",\"symbol\":\"circle\"},\"mode\":\"markers\",\"name\":\"Biography\",\"orientation\":\"v\",\"showlegend\":true,\"x\":[96898818.0,46836394.0,68034750.87364621,13182281.0,32572577.0,68034750.87364621,75600000.0,51973029.0,85080171.0,1626289.0,116900694.0,5509040.0,170742341.0,23383987.0,68034750.87364621,67209615.0,56671993.0,45055776.0,68034750.87364621,23530892.0,164615351.0,25010410.0,68034750.87364621,177345.0,102021.0,68034750.87364621,21877.0,51739495.0,91125683.0,216428042.0,138797449.0,27298285.0,163566459.0,5990075.0,2086345.0,61649911.0,6203044.0,52767889.0,50000000.0,53267000.0,102308889.0,163214286.0,7000000.0,14743391.0,70600000.0,61700000.0,22276975.0,169607287.0,1782795.0,68034750.87364621,70259870.0,161197785.0,93617009.0,130164645.0,5128124.0,119519402.0,115654751.0,28965197.0,32481825.0,5887457.0,52096475.0,26830000.0,34700291.0,35893537.0,96962694.0,136025503.0,18593156.0,35739802.0,17605861.0,871577.0,75331600.0,41909762.0,35811509.0,21848932.0,48169908.0,43984230.0,29800000.0,28350000.0,68034750.87364621,68034750.87364621,37707719.0,75605492.0,255959475.0,10301706.0,51680613.0,52990775.0,50668906.0,35000000.0],\"xaxis\":\"x\",\"y\":[1213505,1020727,55291,760360,729603,34112,959181,369007,377884,61137,1187498,331308,848920,321860,43885,435928,640533,420316,253575,334320,832846,156842,220078,40081,46947,27254,47676,213970,685201,450349,639603,441614,448930,103284,77554,176151,82002,217664,235652,121627,201888,205425,324720,68076,103031,93741,29003,200876,40416,51841,362942,179264,340584,392449,51980,234207,198089,159886,82855,164937,125276,122779,51585,404182,624982,572581,103330,239203,175355,61609,138356,279318,51350,33600,85819,94326,109941,31222,60408,46739,94212,369529,293266,82781,198677,240714,91557,73662],\"yaxis\":\"y\",\"type\":\"scatter\"},{\"customdata\":[[\"Il buono, il brutto, il cattivo\"],[\"Once Upon a Time in the West\"],[\"Per qualche dollaro in pi\\u00f9\"],[\"The Outlaw Josey Wales\"]],\"hovertemplate\":\"genre=Western<br>Gross=%{x}<br>No_of_Votes=%{y}<br>Series_Title=%{customdata[0]}<extra></extra>\",\"legendgroup\":\"Western\",\"marker\":{\"color\":\"#FFA15A\",\"symbol\":\"circle\"},\"mode\":\"markers\",\"name\":\"Western\",\"orientation\":\"v\",\"showlegend\":true,\"x\":[6100000.0,5321508.0,15000000.0,31800000.0],\"xaxis\":\"x\",\"y\":[688390,302844,232772,65659],\"yaxis\":\"y\",\"type\":\"scatter\"},{\"customdata\":[[\"Gisaengchung\"],[\"La vita \\u00e8 bella\"],[\"Modern Times\"],[\"City Lights\"],[\"3 Idiots\"],[\"Dr. Strangelove or: How I Learned to Stop Worrying and Love the Bomb\"],[\"The Great Dictator\"],[\"Am\\u00e9lie\"],[\"Snatch\"],[\"The Sting\"],[\"The Apartment\"],[\"Singin' in the Rain\"],[\"The Kid\"],[\"Chhichhore\"],[\"Three Billboards Outside Ebbing, Missouri\"],[\"Rang De Basanti\"],[\"Dom za vesanje\"],[\"Some Like It Hot\"],[\"To Be or Not to Be\"],[\"Relatos salvajes\"],[\"PK\"],[\"OMG: Oh My God!\"],[\"Barfi!\"],[\"Zindagi Na Milegi Dobara\"],[\"Lage Raho Munna Bhai\"],[\"Munna Bhai M.B.B.S.\"],[\"Dil Chahta Hai\"],[\"The Truman Show\"],[\"Crna macka, beli macor\"],[\"The Big Lebowski\"],[\"Underground\"],[\"Chung Hing sam lam\"],[\"Dead Poets Society\"],[\"Life of Brian\"],[\"Paper Moon\"],[\"The Shop Around the Corner\"],[\"Mr. Smith Goes to Washington\"],[\"It Happened One Night\"],[\"The Circus\"],[\"Badhaai ho\"],[\"La La Land\"],[\"Kal Ho Naa Ho\"],[\"Yeopgijeogin geunyeo\"],[\"Vizontele\"],[\"Secrets & Lies\"],[\"Groundhog Day\"],[\"Do the Right Thing\"],[\"Being There\"],[\"Annie Hall\"],[\"Young Frankenstein\"],[\"The Graduate\"],[\"La dolce vita\"],[\"Stalag 17\"],[\"Roman Holiday\"],[\"Kind Hearts and Coronets\"],[\"Arsenic and Old Lace\"],[\"La r\\u00e8gle du jeu\"],[\"The Thin Man\"],[\"Knives Out\"],[\"Dil Bechara\"],[\"Marriage Story\"],[\"Captain Fantastic\"],[\"Sing Street\"],[\"Jojo Rabbit\"],[\"The Artist\"],[\"Jab We Met\"],[\"In Bruges\"],[\"C.R.A.Z.Y.\"],[\"Shaun of the Dead\"],[\"No Man's Land\"],[\"Crimes and Misdemeanors\"],[\"Hannah and Her Sisters\"],[\"This Is Spinal Tap\"],[\"A Christmas Story\"],[\"Manhattan\"],[\"Amarcord\"],[\"Le charme discret de la bourgeoisie\"],[\"Harold and Maude\"],[\"Charade\"],[\"Harvey\"],[\"Miracle on 34th Street\"],[\"The Philadelphia Story\"],[\"His Girl Friday\"],[\"A Night at the Opera\"],[\"Perfetti sconosciuti\"],[\"Vicky Donor\"],[\"About Time\"],[\"English Vinglish\"],[\"Moonrise Kingdom\"],[\"Druk\"],[\"Little Miss Sunshine\"],[\"Adams \\u00e6bler\"],[\"The Sandlot\"],[\"Naked\"],[\"Night on Earth\"],[\"Ferris Bueller's Day Off\"],[\"Down by Law\"],[\"The Breakfast Club\"],[\"The King of Comedy\"],[\"Guess Who's Coming to Dinner\"],[\"Mary Poppins\"],[\"Bringing Up Baby\"],[\"Duck Soup\"],[\"En man som heter Ove\"],[\"What We Do in the Shadows\"],[\"Me and Earl and the Dying Girl\"],[\"Birdman or (The Unexpected Virtue of Ignorance)\"],[\"Midnight in Paris\"],[\"The Hangover\"],[\"Silver Linings Playbook\"],[\"(500) Days of Summer\"],[\"Flipped\"],[\"Lost in Translation\"],[\"Good Bye Lenin!\"],[\"Adaptation.\"],[\"Hedwig and the Angry Inch\"],[\"Office Space\"],[\"Happiness\"],[\"Rushmore\"],[\"Being John Malkovich\"],[\"As Good as It Gets\"],[\"Le d\\u00eener de cons\"],[\"Do lok tin si\"],[\"Clerks\"],[\"Short Cuts\"],[\"The Muppet Christmas Carol\"],[\"Barton Fink\"],[\"Withnail & I\"],[\"The Purple Rose of Cairo\"],[\"After Hours\"],[\"Zelig\"],[\"Airplane!\"],[\"Love and Death\"],[\"Blazing Saddles\"],[\"The Odd Couple\"],[\"The Ladykillers\"],[\"Sabrina\"],[\"The Quiet Man\"],[\"Once Upon a Time... in Hollywood\"],[\"50/50\"],[\"Jeux d'enfants\"],[\"The Station Agent\"],[\"The Royal Tenenbaums\"],[\"American Psycho\"],[\"Trois couleurs: Blanc\"],[\"Dazed and Confused\"],[\"My Cousin Vinny\"],[\"Delicatessen\"],[\"Home Alone\"],[\"When Harry Met Sally...\"],[\"The Naked Gun: From the Files of Police Squad!\"],[\"Planes, Trains & Automobiles\"],[\"The Long Goodbye\"],[\"A Hard Day's Night\"],[\"Breakfast at Tiffany's\"]],\"hovertemplate\":\"genre=Comedy<br>Gross=%{x}<br>No_of_Votes=%{y}<br>Series_Title=%{customdata[0]}<extra></extra>\",\"legendgroup\":\"Comedy\",\"marker\":{\"color\":\"#19d3f3\",\"symbol\":\"circle\"},\"mode\":\"markers\",\"name\":\"Comedy\",\"orientation\":\"v\",\"showlegend\":true,\"x\":[53367844.0,57598247.0,163245.0,19181.0,6532908.0,275902.0,288475.0,33225499.0,30328156.0,159600000.0,18600000.0,8819028.0,5450000.0,898575.0,54513740.0,2197331.0,280015.0,25000000.0,68034750.87364621,3107072.0,10616104.0,923221.0,2804874.0,3108485.0,2217561.0,68034750.87364621,300000.0,125618201.0,348660.0,17498804.0,171082.0,600200.0,95860116.0,20045115.0,30933743.0,203300.0,9600000.0,4360000.0,68034750.87364621,68034750.87364621,151101803.0,1787378.0,68034750.87364621,68034750.87364621,13417292.0,70906973.0,27545445.0,30177511.0,39200000.0,86300000.0,104945305.0,19516000.0,68034750.87364621,68034750.87364621,68034750.87364621,68034750.87364621,68034750.87364621,68034750.87364621,165359751.0,68034750.87364621,2000000.0,5875006.0,3237118.0,349555.0,44671682.0,410800.0,7757130.0,68034750.87364621,13542874.0,1059830.0,18254702.0,40084041.0,188751.0,20605209.0,45700000.0,68034750.87364621,198809.0,68034750.87364621,13474588.0,68034750.87364621,2650000.0,68034750.87364621,296000.0,2537520.0,68034750.87364621,169209.0,15322921.0,1670773.0,45512466.0,68034750.87364621,59891098.0,1305.0,32416586.0,1769305.0,2015810.0,70136369.0,1436000.0,45875171.0,2500000.0,56700000.0,102272727.0,68034750.87364621,68034750.87364621,3358518.0,3333000.0,6743776.0,42340598.0,56816662.0,277322503.0,132092958.0,32391374.0,1752214.0,44585453.0,4064200.0,22245861.0,3029081.0,10824921.0,2807390.0,17105219.0,22858926.0,148478011.0,4065116.0,68034750.87364621,3151130.0,6110979.0,27281507.0,6153939.0,1544889.0,10631333.0,10600000.0,11798616.0,83400000.0,68034750.87364621,119500000.0,44527234.0,68034750.87364621,68034750.87364621,10550000.0,142502728.0,35014192.0,548707.0,5739376.0,52364010.0,15070285.0,1464625.0,7993039.0,52929168.0,1794187.0,285761243.0,92823600.0,78756177.0,49530280.0,959000.0,13780024.0,68034750.87364621],\"xaxis\":\"x\",\"y\":[552778,623629,217881,167839,344445,450474,203150,703810,782001,241513,164363,218957,113314,33893,432610,111937,26402,243943,29915,177059,163061,51739,75721,67927,43137,73992,66803,939631,50862,732620,55220,63122,425457,367250,42285,28450,107017,94016,30205,27978,505918,63460,45403,33592,37564,577991,89429,65625,251823,143359,253676,66621,51046,127256,34485,65101,26725,26642,454203,111478,246644,189400,85109,297918,230624,47720,390334,31476,512249,44618,54670,67176,128812,132947,131436,39897,38737,70826,68689,52573,41625,63550,53667,30580,57168,39710,303032,33618,318789,33931,439856,45717,78963,34635,55362,321382,47834,357026,88511,39642,158029,55163,55581,47444,157498,123210,580291,388089,717559,661871,472242,81446,415074,137981,178565,31957,241575,66408,169229,312542,275755,37424,26429,211450,42275,50298,113240,40396,47102,59635,39881,214882,36037,125993,31572,26464,59415,34677,551309,315426,67360,67370,266842,490062,64390,165465,107325,80487,488817,195663,152871,124773,26337,40351,166544],\"yaxis\":\"y\",\"type\":\"scatter\"},{\"customdata\":[[\"Interstellar\"],[\"Back to the Future\"],[\"Inglourious Basterds\"],[\"Das Boot\"],[\"2001: A Space Odyssey\"],[\"Lawrence of Arabia\"],[\"North by Northwest\"],[\"Queen\"],[\"Monty Python and the Holy Grail\"],[\"The Great Escape\"],[\"The Treasure of the Sierra Madre\"],[\"The Gold Rush\"],[\"The Grand Budapest Hotel\"],[\"Harry Potter and the Deathly Hallows: Part 2\"],[\"Into the Wild\"],[\"Lagaan: Once Upon a Time in India\"],[\"Stand by Me\"],[\"Fitzcarraldo\"],[\"Barry Lyndon\"],[\"Ben-Hur\"],[\"Kakushi-toride no san-akunin\"],[\"The Bridge on the River Kwai\"],[\"Le salaire de la peur\"],[\"Togo\"],[\"The Martian\"],[\"Blood Diamond\"],[\"G.O.R.A.\"],[\"Big Fish\"],[\"Dances with Wolves\"],[\"The Princess Bride\"],[\"Jaws\"],[\"Planet of the Apes\"],[\"The Wizard of Oz\"],[\"Hunt for the Wilderpeople\"],[\"The Fall\"],[\"Life of Pi\"],[\"Harry Potter and the Prisoner of Azkaban\"],[\"Children of Men\"],[\"Almost Famous\"],[\"La monta\\u00f1a sagrada\"],[\"Spartacus\"],[\"The Ten Commandments\"],[\"The Searchers\"],[\"King Kong\"],[\"Paddington 2\"],[\"Captain Phillips\"],[\"The Hobbit: The Desolation of Smaug\"],[\"The Hobbit: An Unexpected Journey\"],[\"Diarios de motocicleta\"],[\"Cast Away\"],[\"Back to the Future Part II\"],[\"The Goonies\"],[\"The Right Stuff\"],[\"The Man Who Would Be King\"],[\"To Have and Have Not\"],[\"Stagecoach\"],[\"Nebraska\"],[\"Harry Potter and the Deathly Hallows: Part 1\"],[\"Harry Potter and the Goblet of Fire\"],[\"O Brother, Where Art Thou?\"],[\"Interstate 60: Episodes of the Road\"],[\"Deliverance\"],[\"The African Queen\"],[\"The Peanut Butter Falcon\"],[\"Zombieland\"],[\"Stardust\"],[\"Harry Potter and the Sorcerer's Stone\"],[\"Fear and Loathing in Las Vegas\"],[\"Dead Man\"],[\"Apollo 13\"],[\"The Muppet Movie\"],[\"Kelly's Heroes\"]],\"hovertemplate\":\"genre=Adventure<br>Gross=%{x}<br>No_of_Votes=%{y}<br>Series_Title=%{customdata[0]}<extra></extra>\",\"legendgroup\":\"Adventure\",\"marker\":{\"color\":\"#FF6692\",\"symbol\":\"circle\"},\"mode\":\"markers\",\"name\":\"Adventure\",\"orientation\":\"v\",\"showlegend\":true,\"x\":[188020017.0,210609762.0,120540719.0,11487676.0,56954992.0,44824144.0,13275000.0,1429534.0,1229197.0,12100000.0,5014000.0,5450000.0,59100318.0,381011219.0,18354356.0,70147.0,52287414.0,68034750.87364621,68034750.87364621,74700000.0,68034750.87364621,44908000.0,68034750.87364621,68034750.87364621,228433663.0,57366262.0,68034750.87364621,66257002.0,184208848.0,30857814.0,260000000.0,33395426.0,2076020.0,5202582.0,2280348.0,124987023.0,249358727.0,35552383.0,32534850.0,61001.0,30000000.0,93740000.0,68034750.87364621,10000000.0,40442052.0,107100855.0,258366855.0,303003568.0,16756372.0,233632142.0,118500000.0,61503218.0,21500000.0,68034750.87364621,68034750.87364621,68034750.87364621,17654912.0,295983305.0,290013036.0,45512588.0,68034750.87364621,7056013.0,536118.0,13122642.0,75590286.0,38634938.0,317575550.0,10680275.0,1037847.0,173837933.0,76657000.0,1378435.0],\"xaxis\":\"x\",\"y\":[1512360,1058081,1267869,231855,603517,268085,299198,60701,500875,224730,114304,101053,707630,764493,572921,105036,363401,31595,149843,219466,34797,203463,54588,37556,760094,499439,56960,415218,240266,393899,543388,165167,371379,111483,107290,580708,552493,465113,252586,37183,124339,63560,80316,78991,61594,421244,601408,757377,96703,524235,481918,244430,56235,44917,31053,43621,112298,479120,548619,286742,29999,98740,71481,66346,520041,255036,658185,259753,90442,269197,32802,45338],\"yaxis\":\"y\",\"type\":\"scatter\"},{\"customdata\":[[\"Sen to Chihiro no kamikakushi\"],[\"The Lion King\"],[\"Hotaru no haka\"],[\"Kimi no na wa.\"],[\"Spider-Man: Into the Spider-Verse\"],[\"Coco\"],[\"WALL\\u00b7E\"],[\"Mononoke-hime\"],[\"Toy Story\"],[\"Klaus\"],[\"Up\"],[\"Toy Story 3\"],[\"Hauru no ugoku shiro\"],[\"Tonari no Totoro\"],[\"Koe no katachi\"],[\"Soul\"],[\"\\u00d4kami kodomo no Ame to Yuki\"],[\"Inside Out\"],[\"Song of the Sea\"],[\"Mary and Max\"],[\"How to Train Your Dragon\"],[\"Finding Nemo\"],[\"Monsters, Inc.\"],[\"Shin seiki Evangelion Gekij\\u00f4-ban: Air/Magokoro wo, kimi ni\"],[\"Kaze no tani no Naushika\"],[\"Zootopia\"],[\"Kaguyahime no monogatari\"],[\"Persepolis\"],[\"Ratatouille\"],[\"The Incredibles\"],[\"P\\u00e2fekuto bur\\u00fb\"],[\"The Iron Giant\"],[\"K\\u00f4kaku Kid\\u00f4tai\"],[\"The Nightmare Before Christmas\"],[\"Aladdin\"],[\"Beauty and the Beast\"],[\"Akira\"],[\"Tenk\\u00fb no shiro Rapyuta\"],[\"Isle of Dogs\"],[\"Fantastic Mr. Fox\"],[\"Cowboy Bebop: Tengoku no tobira\"],[\"Toy Story 2\"],[\"Mimi wo sumaseba\"],[\"J\\u00fbb\\u00ea ninp\\u00fbch\\u00f4\"],[\"Kubo and the Two Strings\"],[\"Loving Vincent\"],[\"Big Hero 6\"],[\"Kaze tachinu\"],[\"Toy Story 4\"],[\"How to Train Your Dragon 2\"],[\"T\\u00f4ky\\u00f4 goddof\\u00e2z\\u00e2zu\"],[\"Les triplettes de Belleville\"],[\"Waking Life\"],[\"Shrek\"],[\"Batman: Mask of the Phantasm\"],[\"Majo no takky\\u00fbbin\"],[\"La plan\\u00e8te sauvage\"],[\"Omoide no M\\u00e2n\\u00ee\"],[\"Wreck-It Ralph\"],[\"Le Petit Prince\"],[\"The Lego Movie\"],[\"Gake no ue no Ponyo\"],[\"Papurika\"],[\"Toki o kakeru sh\\u00f4jo\"],[\"Tangled\"],[\"Coraline\"],[\"Vampire Hunter D: Bloodlust\"],[\"South Park: Bigger, Longer & Uncut\"],[\"Kurenai no buta\"],[\"Who Framed Roger Rabbit\"],[\"Rupan sansei: Kariosutoro no shiro\"],[\"Fantasia\"],[\"Incredibles 2\"],[\"Moana\"],[\"Kari-gurashi no Arietti\"],[\"Despicable Me\"],[\"The Secret of Kells\"],[\"Mulan\"],[\"Omohide poro poro\"],[\"The Little Mermaid\"],[\"Watership Down\"],[\"The Jungle Book\"]],\"hovertemplate\":\"genre=Animation<br>Gross=%{x}<br>No_of_Votes=%{y}<br>Series_Title=%{customdata[0]}<extra></extra>\",\"legendgroup\":\"Animation\",\"marker\":{\"color\":\"#B6E880\",\"symbol\":\"circle\"},\"mode\":\"markers\",\"name\":\"Animation\",\"orientation\":\"v\",\"showlegend\":true,\"x\":[10055859.0,422783777.0,68034750.87364621,5017246.0,190241310.0,209726015.0,223808164.0,2375308.0,191796233.0,68034750.87364621,293004164.0,415004880.0,4711096.0,1105564.0,68034750.87364621,68034750.87364621,68034750.87364621,356461711.0,857524.0,68034750.87364621,217581231.0,380843261.0,289916256.0,68034750.87364621,495770.0,341268248.0,1506975.0,4445756.0,206445654.0,261441092.0,776665.0,23159305.0,515905.0,75082668.0,217350219.0,218967620.0,553171.0,68034750.87364621,32015231.0,21002919.0,1000045.0,245852179.0,68034750.87364621,68034750.87364621,48023088.0,6735118.0,222527828.0,5209580.0,434038008.0,177002924.0,128985.0,7002255.0,2892011.0,267665011.0,5617391.0,68034750.87364621,193817.0,765127.0,189422889.0,1339152.0,257760692.0,15090400.0,881302.0,68034750.87364621,200821936.0,75286229.0,151086.0,52037603.0,68034750.87364621,156452370.0,68034750.87364621,76408097.0,608581744.0,248757044.0,19202743.0,251513985.0,686383.0,120620254.0,453243.0,111543479.0,68034750.87364621,141843612.0],\"xaxis\":\"x\",\"y\":[651376,942045,235231,194838,375110,384171,999790,343171,887429,104761,935507,757032,333915,291180,47708,159171,38803,616228,51679,164462,666773,949565,815505,38847,150924,434143,38746,88656,641645,657047,58192,172083,129231,300208,373845,417178,164918,150140,139114,199696,42897,527512,51943,34529,118035,50778,410983,73690,203177,305611,31658,50622,60684,613941,43690,124193,25229,32798,380195,56720,323982,125317,71379,60368,405922,197761,29210,192112,77798,182009,27014,88662,250057,272784,80939,500851,31779,256906,27071,237696,33656,166409],\"yaxis\":\"y\",\"type\":\"scatter\"},{\"customdata\":[[\"Psycho\"],[\"Alien\"],[\"The Thing\"],[\"The Exorcist\"],[\"Night of the Living Dead\"],[\"The Innocents\"],[\"Get Out\"],[\"Halloween\"],[\"The Invisible Man\"],[\"Saw\"],[\"The Others\"]],\"hovertemplate\":\"genre=Horror<br>Gross=%{x}<br>No_of_Votes=%{y}<br>Series_Title=%{customdata[0]}<extra></extra>\",\"legendgroup\":\"Horror\",\"marker\":{\"color\":\"#FF97FF\",\"symbol\":\"circle\"},\"mode\":\"markers\",\"name\":\"Horror\",\"orientation\":\"v\",\"showlegend\":true,\"x\":[32000000.0,78900000.0,13782838.0,232906145.0,89029.0,2616000.0,176040665.0,47000000.0,68034750.87364621,56000369.0,96522687.0],\"xaxis\":\"x\",\"y\":[604211,787806,371271,362393,116557,27007,492851,233106,30683,379020,337651],\"yaxis\":\"y\",\"type\":\"scatter\"},{\"customdata\":[[\"Memento\"],[\"Rear Window\"],[\"Vertigo\"],[\"Shutter Island\"],[\"Kahaani\"],[\"Twelve Monkeys\"],[\"Sleuth\"],[\"The Lady Vanishes\"],[\"Spoorloos\"],[\"El cuerpo\"],[\"Dark City\"],[\"Lost Highway\"]],\"hovertemplate\":\"genre=Mystery<br>Gross=%{x}<br>No_of_Votes=%{y}<br>Series_Title=%{customdata[0]}<extra></extra>\",\"legendgroup\":\"Mystery\",\"marker\":{\"color\":\"#FECB52\",\"symbol\":\"circle\"},\"mode\":\"markers\",\"name\":\"Mystery\",\"orientation\":\"v\",\"showlegend\":true,\"x\":[25544867.0,36764313.0,3200000.0,128012934.0,1035953.0,57141459.0,4081254.0,68034750.87364621,68034750.87364621,68034750.87364621,14378331.0,3796699.0],\"xaxis\":\"x\",\"y\":[1125712,444074,364368,1129894,57806,578443,44748,47400,33982,57549,187927,131101],\"yaxis\":\"y\",\"type\":\"scatter\"},{\"customdata\":[[\"The Third Man\"],[\"The Maltese Falcon\"],[\"Shadow of a Doubt\"]],\"hovertemplate\":\"genre=Film-Noir<br>Gross=%{x}<br>No_of_Votes=%{y}<br>Series_Title=%{customdata[0]}<extra></extra>\",\"legendgroup\":\"Film-Noir\",\"marker\":{\"color\":\"#636efa\",\"symbol\":\"circle\"},\"mode\":\"markers\",\"name\":\"Film-Noir\",\"orientation\":\"v\",\"showlegend\":true,\"x\":[449191.0,2108060.0,68034750.87364621],\"xaxis\":\"x\",\"y\":[158731,148928,59556],\"yaxis\":\"y\",\"type\":\"scatter\"},{\"customdata\":[[\"Das Cabinet des Dr. Caligari\"],[\"Nosferatu\"]],\"hovertemplate\":\"genre=Fantasy<br>Gross=%{x}<br>No_of_Votes=%{y}<br>Series_Title=%{customdata[0]}<extra></extra>\",\"legendgroup\":\"Fantasy\",\"marker\":{\"color\":\"#EF553B\",\"symbol\":\"circle\"},\"mode\":\"markers\",\"name\":\"Fantasy\",\"orientation\":\"v\",\"showlegend\":true,\"x\":[68034750.87364621,68034750.87364621],\"xaxis\":\"x\",\"y\":[57428,88794],\"yaxis\":\"y\",\"type\":\"scatter\"},{\"customdata\":[[\"E.T. the Extra-Terrestrial\"],[\"Willy Wonka & the Chocolate Factory\"]],\"hovertemplate\":\"genre=Family<br>Gross=%{x}<br>No_of_Votes=%{y}<br>Series_Title=%{customdata[0]}<extra></extra>\",\"legendgroup\":\"Family\",\"marker\":{\"color\":\"#00cc96\",\"symbol\":\"circle\"},\"mode\":\"markers\",\"name\":\"Family\",\"orientation\":\"v\",\"showlegend\":true,\"x\":[435110554.0,4000000.0],\"xaxis\":\"x\",\"y\":[372490,178731],\"yaxis\":\"y\",\"type\":\"scatter\"},{\"customdata\":[[\"Wait Until Dark\"]],\"hovertemplate\":\"genre=Thriller<br>Gross=%{x}<br>No_of_Votes=%{y}<br>Series_Title=%{customdata[0]}<extra></extra>\",\"legendgroup\":\"Thriller\",\"marker\":{\"color\":\"#ab63fa\",\"symbol\":\"circle\"},\"mode\":\"markers\",\"name\":\"Thriller\",\"orientation\":\"v\",\"showlegend\":true,\"x\":[17550741.0],\"xaxis\":\"x\",\"y\":[27733],\"yaxis\":\"y\",\"type\":\"scatter\"}],                        {\"template\":{\"data\":{\"bar\":[{\"error_x\":{\"color\":\"#2a3f5f\"},\"error_y\":{\"color\":\"#2a3f5f\"},\"marker\":{\"line\":{\"color\":\"#E5ECF6\",\"width\":0.5},\"pattern\":{\"fillmode\":\"overlay\",\"size\":10,\"solidity\":0.2}},\"type\":\"bar\"}],\"barpolar\":[{\"marker\":{\"line\":{\"color\":\"#E5ECF6\",\"width\":0.5},\"pattern\":{\"fillmode\":\"overlay\",\"size\":10,\"solidity\":0.2}},\"type\":\"barpolar\"}],\"carpet\":[{\"aaxis\":{\"endlinecolor\":\"#2a3f5f\",\"gridcolor\":\"white\",\"linecolor\":\"white\",\"minorgridcolor\":\"white\",\"startlinecolor\":\"#2a3f5f\"},\"baxis\":{\"endlinecolor\":\"#2a3f5f\",\"gridcolor\":\"white\",\"linecolor\":\"white\",\"minorgridcolor\":\"white\",\"startlinecolor\":\"#2a3f5f\"},\"type\":\"carpet\"}],\"choropleth\":[{\"colorbar\":{\"outlinewidth\":0,\"ticks\":\"\"},\"type\":\"choropleth\"}],\"contour\":[{\"colorbar\":{\"outlinewidth\":0,\"ticks\":\"\"},\"colorscale\":[[0.0,\"#0d0887\"],[0.1111111111111111,\"#46039f\"],[0.2222222222222222,\"#7201a8\"],[0.3333333333333333,\"#9c179e\"],[0.4444444444444444,\"#bd3786\"],[0.5555555555555556,\"#d8576b\"],[0.6666666666666666,\"#ed7953\"],[0.7777777777777778,\"#fb9f3a\"],[0.8888888888888888,\"#fdca26\"],[1.0,\"#f0f921\"]],\"type\":\"contour\"}],\"contourcarpet\":[{\"colorbar\":{\"outlinewidth\":0,\"ticks\":\"\"},\"type\":\"contourcarpet\"}],\"heatmap\":[{\"colorbar\":{\"outlinewidth\":0,\"ticks\":\"\"},\"colorscale\":[[0.0,\"#0d0887\"],[0.1111111111111111,\"#46039f\"],[0.2222222222222222,\"#7201a8\"],[0.3333333333333333,\"#9c179e\"],[0.4444444444444444,\"#bd3786\"],[0.5555555555555556,\"#d8576b\"],[0.6666666666666666,\"#ed7953\"],[0.7777777777777778,\"#fb9f3a\"],[0.8888888888888888,\"#fdca26\"],[1.0,\"#f0f921\"]],\"type\":\"heatmap\"}],\"heatmapgl\":[{\"colorbar\":{\"outlinewidth\":0,\"ticks\":\"\"},\"colorscale\":[[0.0,\"#0d0887\"],[0.1111111111111111,\"#46039f\"],[0.2222222222222222,\"#7201a8\"],[0.3333333333333333,\"#9c179e\"],[0.4444444444444444,\"#bd3786\"],[0.5555555555555556,\"#d8576b\"],[0.6666666666666666,\"#ed7953\"],[0.7777777777777778,\"#fb9f3a\"],[0.8888888888888888,\"#fdca26\"],[1.0,\"#f0f921\"]],\"type\":\"heatmapgl\"}],\"histogram\":[{\"marker\":{\"pattern\":{\"fillmode\":\"overlay\",\"size\":10,\"solidity\":0.2}},\"type\":\"histogram\"}],\"histogram2d\":[{\"colorbar\":{\"outlinewidth\":0,\"ticks\":\"\"},\"colorscale\":[[0.0,\"#0d0887\"],[0.1111111111111111,\"#46039f\"],[0.2222222222222222,\"#7201a8\"],[0.3333333333333333,\"#9c179e\"],[0.4444444444444444,\"#bd3786\"],[0.5555555555555556,\"#d8576b\"],[0.6666666666666666,\"#ed7953\"],[0.7777777777777778,\"#fb9f3a\"],[0.8888888888888888,\"#fdca26\"],[1.0,\"#f0f921\"]],\"type\":\"histogram2d\"}],\"histogram2dcontour\":[{\"colorbar\":{\"outlinewidth\":0,\"ticks\":\"\"},\"colorscale\":[[0.0,\"#0d0887\"],[0.1111111111111111,\"#46039f\"],[0.2222222222222222,\"#7201a8\"],[0.3333333333333333,\"#9c179e\"],[0.4444444444444444,\"#bd3786\"],[0.5555555555555556,\"#d8576b\"],[0.6666666666666666,\"#ed7953\"],[0.7777777777777778,\"#fb9f3a\"],[0.8888888888888888,\"#fdca26\"],[1.0,\"#f0f921\"]],\"type\":\"histogram2dcontour\"}],\"mesh3d\":[{\"colorbar\":{\"outlinewidth\":0,\"ticks\":\"\"},\"type\":\"mesh3d\"}],\"parcoords\":[{\"line\":{\"colorbar\":{\"outlinewidth\":0,\"ticks\":\"\"}},\"type\":\"parcoords\"}],\"pie\":[{\"automargin\":true,\"type\":\"pie\"}],\"scatter\":[{\"marker\":{\"colorbar\":{\"outlinewidth\":0,\"ticks\":\"\"}},\"type\":\"scatter\"}],\"scatter3d\":[{\"line\":{\"colorbar\":{\"outlinewidth\":0,\"ticks\":\"\"}},\"marker\":{\"colorbar\":{\"outlinewidth\":0,\"ticks\":\"\"}},\"type\":\"scatter3d\"}],\"scattercarpet\":[{\"marker\":{\"colorbar\":{\"outlinewidth\":0,\"ticks\":\"\"}},\"type\":\"scattercarpet\"}],\"scattergeo\":[{\"marker\":{\"colorbar\":{\"outlinewidth\":0,\"ticks\":\"\"}},\"type\":\"scattergeo\"}],\"scattergl\":[{\"marker\":{\"colorbar\":{\"outlinewidth\":0,\"ticks\":\"\"}},\"type\":\"scattergl\"}],\"scattermapbox\":[{\"marker\":{\"colorbar\":{\"outlinewidth\":0,\"ticks\":\"\"}},\"type\":\"scattermapbox\"}],\"scatterpolar\":[{\"marker\":{\"colorbar\":{\"outlinewidth\":0,\"ticks\":\"\"}},\"type\":\"scatterpolar\"}],\"scatterpolargl\":[{\"marker\":{\"colorbar\":{\"outlinewidth\":0,\"ticks\":\"\"}},\"type\":\"scatterpolargl\"}],\"scatterternary\":[{\"marker\":{\"colorbar\":{\"outlinewidth\":0,\"ticks\":\"\"}},\"type\":\"scatterternary\"}],\"surface\":[{\"colorbar\":{\"outlinewidth\":0,\"ticks\":\"\"},\"colorscale\":[[0.0,\"#0d0887\"],[0.1111111111111111,\"#46039f\"],[0.2222222222222222,\"#7201a8\"],[0.3333333333333333,\"#9c179e\"],[0.4444444444444444,\"#bd3786\"],[0.5555555555555556,\"#d8576b\"],[0.6666666666666666,\"#ed7953\"],[0.7777777777777778,\"#fb9f3a\"],[0.8888888888888888,\"#fdca26\"],[1.0,\"#f0f921\"]],\"type\":\"surface\"}],\"table\":[{\"cells\":{\"fill\":{\"color\":\"#EBF0F8\"},\"line\":{\"color\":\"white\"}},\"header\":{\"fill\":{\"color\":\"#C8D4E3\"},\"line\":{\"color\":\"white\"}},\"type\":\"table\"}]},\"layout\":{\"annotationdefaults\":{\"arrowcolor\":\"#2a3f5f\",\"arrowhead\":0,\"arrowwidth\":1},\"autotypenumbers\":\"strict\",\"coloraxis\":{\"colorbar\":{\"outlinewidth\":0,\"ticks\":\"\"}},\"colorscale\":{\"diverging\":[[0,\"#8e0152\"],[0.1,\"#c51b7d\"],[0.2,\"#de77ae\"],[0.3,\"#f1b6da\"],[0.4,\"#fde0ef\"],[0.5,\"#f7f7f7\"],[0.6,\"#e6f5d0\"],[0.7,\"#b8e186\"],[0.8,\"#7fbc41\"],[0.9,\"#4d9221\"],[1,\"#276419\"]],\"sequential\":[[0.0,\"#0d0887\"],[0.1111111111111111,\"#46039f\"],[0.2222222222222222,\"#7201a8\"],[0.3333333333333333,\"#9c179e\"],[0.4444444444444444,\"#bd3786\"],[0.5555555555555556,\"#d8576b\"],[0.6666666666666666,\"#ed7953\"],[0.7777777777777778,\"#fb9f3a\"],[0.8888888888888888,\"#fdca26\"],[1.0,\"#f0f921\"]],\"sequentialminus\":[[0.0,\"#0d0887\"],[0.1111111111111111,\"#46039f\"],[0.2222222222222222,\"#7201a8\"],[0.3333333333333333,\"#9c179e\"],[0.4444444444444444,\"#bd3786\"],[0.5555555555555556,\"#d8576b\"],[0.6666666666666666,\"#ed7953\"],[0.7777777777777778,\"#fb9f3a\"],[0.8888888888888888,\"#fdca26\"],[1.0,\"#f0f921\"]]},\"colorway\":[\"#636efa\",\"#EF553B\",\"#00cc96\",\"#ab63fa\",\"#FFA15A\",\"#19d3f3\",\"#FF6692\",\"#B6E880\",\"#FF97FF\",\"#FECB52\"],\"font\":{\"color\":\"#2a3f5f\"},\"geo\":{\"bgcolor\":\"white\",\"lakecolor\":\"white\",\"landcolor\":\"#E5ECF6\",\"showlakes\":true,\"showland\":true,\"subunitcolor\":\"white\"},\"hoverlabel\":{\"align\":\"left\"},\"hovermode\":\"closest\",\"mapbox\":{\"style\":\"light\"},\"paper_bgcolor\":\"white\",\"plot_bgcolor\":\"#E5ECF6\",\"polar\":{\"angularaxis\":{\"gridcolor\":\"white\",\"linecolor\":\"white\",\"ticks\":\"\"},\"bgcolor\":\"#E5ECF6\",\"radialaxis\":{\"gridcolor\":\"white\",\"linecolor\":\"white\",\"ticks\":\"\"}},\"scene\":{\"xaxis\":{\"backgroundcolor\":\"#E5ECF6\",\"gridcolor\":\"white\",\"gridwidth\":2,\"linecolor\":\"white\",\"showbackground\":true,\"ticks\":\"\",\"zerolinecolor\":\"white\"},\"yaxis\":{\"backgroundcolor\":\"#E5ECF6\",\"gridcolor\":\"white\",\"gridwidth\":2,\"linecolor\":\"white\",\"showbackground\":true,\"ticks\":\"\",\"zerolinecolor\":\"white\"},\"zaxis\":{\"backgroundcolor\":\"#E5ECF6\",\"gridcolor\":\"white\",\"gridwidth\":2,\"linecolor\":\"white\",\"showbackground\":true,\"ticks\":\"\",\"zerolinecolor\":\"white\"}},\"shapedefaults\":{\"line\":{\"color\":\"#2a3f5f\"}},\"ternary\":{\"aaxis\":{\"gridcolor\":\"white\",\"linecolor\":\"white\",\"ticks\":\"\"},\"baxis\":{\"gridcolor\":\"white\",\"linecolor\":\"white\",\"ticks\":\"\"},\"bgcolor\":\"#E5ECF6\",\"caxis\":{\"gridcolor\":\"white\",\"linecolor\":\"white\",\"ticks\":\"\"}},\"title\":{\"x\":0.05},\"xaxis\":{\"automargin\":true,\"gridcolor\":\"white\",\"linecolor\":\"white\",\"ticks\":\"\",\"title\":{\"standoff\":15},\"zerolinecolor\":\"white\",\"zerolinewidth\":2},\"yaxis\":{\"automargin\":true,\"gridcolor\":\"white\",\"linecolor\":\"white\",\"ticks\":\"\",\"title\":{\"standoff\":15},\"zerolinecolor\":\"white\",\"zerolinewidth\":2}}},\"xaxis\":{\"anchor\":\"y\",\"domain\":[0.0,1.0],\"title\":{\"text\":\"Gross\"},\"showgrid\":false},\"yaxis\":{\"anchor\":\"x\",\"domain\":[0.0,1.0],\"title\":{\"text\":\"Number of votes\"},\"showgrid\":false},\"legend\":{\"title\":{\"text\":\"genre\"},\"tracegroupgap\":0},\"margin\":{\"t\":60},\"font\":{\"family\":\"Lato\",\"size\":18,\"color\":\"white\"},\"title\":{\"font\":{\"size\":30},\"text\":\"<b>IMDB MOVIES - SCATTER PLOT<B>\",\"x\":0.5},\"paper_bgcolor\":\"black\",\"plot_bgcolor\":\"black\"},                        {\"responsive\": true}                    ).then(function(){\n",
       "                            \n",
       "var gd = document.getElementById('362a0fea-1687-4aa3-a38c-7304811c23c2');\n",
       "var x = new MutationObserver(function (mutations, observer) {{\n",
       "        var display = window.getComputedStyle(gd).display;\n",
       "        if (!display || display === 'none') {{\n",
       "            console.log([gd, 'removed!']);\n",
       "            Plotly.purge(gd);\n",
       "            observer.disconnect();\n",
       "        }}\n",
       "}});\n",
       "\n",
       "// Listen for the removal of the full notebook cells\n",
       "var notebookContainer = gd.closest('#notebook-container');\n",
       "if (notebookContainer) {{\n",
       "    x.observe(notebookContainer, {childList: true});\n",
       "}}\n",
       "\n",
       "// Listen for the clearing of the current output cell\n",
       "var outputEl = gd.closest('.output');\n",
       "if (outputEl) {{\n",
       "    x.observe(outputEl, {childList: true});\n",
       "}}\n",
       "\n",
       "                        })                };                });            </script>        </div>"
      ]
     },
     "metadata": {},
     "output_type": "display_data"
    }
   ],
   "source": [
    "fig = px.scatter(df, x='Gross', y='No_of_Votes', hover_data=['Series_Title'],\n",
    "                color='genre')\n",
    "\n",
    "fig.update_layout(font=dict(family='Lato', size=18, color='white'), \n",
    "                  title=dict(text='<b>IMDB MOVIES - SCATTER PLOT<B>',\n",
    "                           font=dict(size=30), x=.5), \n",
    "                  paper_bgcolor= 'black', plot_bgcolor='black',\n",
    "                 xaxis=dict(title='Gross', showgrid=False),\n",
    "                 yaxis=dict(title='Number of votes', showgrid=False))"
   ]
  },
  {
   "cell_type": "code",
   "execution_count": 24,
   "metadata": {},
   "outputs": [],
   "source": [
    "###Scatterplots:"
   ]
  },
  {
   "cell_type": "code",
   "execution_count": 25,
   "metadata": {},
   "outputs": [
    {
     "data": {
      "text/plain": [
       "<seaborn.axisgrid.PairGrid at 0x243aed3c6d0>"
      ]
     },
     "execution_count": 25,
     "metadata": {},
     "output_type": "execute_result"
    },
    {
     "data": {
      "image/png": "[encoded data removed]",
      "text/plain": [
       "<Figure size 900x900 with 30 Axes>"
      ]
     },
     "metadata": {},
     "output_type": "display_data"
    }
   ],
   "source": [
    "sns.pairplot(df)"
   ]
  },
  {
   "cell_type": "code",
   "execution_count": 26,
   "metadata": {},
   "outputs": [
    {
     "data": {
      "image/png": "[encoded data removed]",
      "text/plain": [
       "<Figure size 540x540 with 12 Axes>"
      ]
     },
     "metadata": {},
     "output_type": "display_data"
    }
   ],
   "source": [
    "a=sns.pairplot(df, palette=\"muted\",height=2.5,vars=[ 'Gross','IMDB_Rating', 'Meta_score'], kind='reg');\n",
    "\n",
    "#to change the size of scatterpoints\n",
    "a=a.map_offdiag(plt.scatter,s=35,alpha=0.9)\n",
    "\n",
    "#additional line to adjust some appearance issues\n",
    "plt.subplots_adjust(top=0.9);\n",
    "\n",
    "#set the title of the graph\n",
    "a.fig.suptitle('Relationship between Gross, IMDB_Rating and Metascore of Movies',fontsize=20,color='b',alpha=0.5);"
   ]
  },
  {
   "cell_type": "code",
   "execution_count": 27,
   "metadata": {},
   "outputs": [
    {
     "data": {
      "text/plain": [
       "Text(0, 0.5, 'Movies Count')"
      ]
     },
     "execution_count": 27,
     "metadata": {},
     "output_type": "execute_result"
    },
    {
     "data": {
      "text/plain": [
       "<Figure size 432x288 with 0 Axes>"
      ]
     },
     "metadata": {},
     "output_type": "display_data"
    },
    {
     "data": {
      "image/png": "[encoded data removed]",
      "text/plain": [
       "<Figure size 432x288 with 1 Axes>"
      ]
     },
     "metadata": {},
     "output_type": "display_data"
    }
   ],
   "source": [
    "# Plot the movies count per year\n",
    "plt.figure()\n",
    "ax = df.plot.line();\n",
    "ax.set_title('Movies count per Year', y=1.04)\n",
    "ax.set_ylabel('Movies Count')"
   ]
  },
  {
   "cell_type": "code",
   "execution_count": 28,
   "metadata": {},
   "outputs": [
    {
     "name": "stdout",
     "output_type": "stream",
     "text": [
      "<class 'pandas.core.frame.DataFrame'>\n",
      "RangeIndex: 1000 entries, 0 to 999\n",
      "Data columns (total 16 columns):\n",
      " #   Column         Non-Null Count  Dtype  \n",
      "---  ------         --------------  -----  \n",
      " 0   Poster_Link    1000 non-null   object \n",
      " 1   Series_Title   1000 non-null   object \n",
      " 2   Released_Year  1000 non-null   object \n",
      " 3   Certificate    1000 non-null   object \n",
      " 4   Runtime        1000 non-null   int32  \n",
      " 5   IMDB_Rating    1000 non-null   float64\n",
      " 6   Overview       1000 non-null   object \n",
      " 7   Meta_score     1000 non-null   float64\n",
      " 8   Director       1000 non-null   object \n",
      " 9   Star1          1000 non-null   object \n",
      " 10  Star2          1000 non-null   object \n",
      " 11  Star3          1000 non-null   object \n",
      " 12  Star4          1000 non-null   object \n",
      " 13  No_of_Votes    1000 non-null   int64  \n",
      " 14  Gross          1000 non-null   float64\n",
      " 15  genre          1000 non-null   object \n",
      "dtypes: float64(3), int32(1), int64(1), object(11)\n",
      "memory usage: 121.2+ KB\n"
     ]
    }
   ],
   "source": [
    "df.info()"
   ]
  },
  {
   "cell_type": "code",
   "execution_count": 29,
   "metadata": {},
   "outputs": [],
   "source": [
    "df1=df.drop('Poster_Link',axis=1)"
   ]
  },
  {
   "cell_type": "code",
   "execution_count": 30,
   "metadata": {},
   "outputs": [
    {
     "data": {
      "text/html": [
       "<div>\n",
       "<style scoped>\n",
       "    .dataframe tbody tr th:only-of-type {\n",
       "        vertical-align: middle;\n",
       "    }\n",
       "\n",
       "    .dataframe tbody tr th {\n",
       "        vertical-align: top;\n",
       "    }\n",
       "\n",
       "    .dataframe thead th {\n",
       "        text-align: right;\n",
       "    }\n",
       "</style>\n",
       "<table border=\"1\" class=\"dataframe\">\n",
       "  <thead>\n",
       "    <tr style=\"text-align: right;\">\n",
       "      <th></th>\n",
       "      <th>Runtime</th>\n",
       "      <th>IMDB_Rating</th>\n",
       "      <th>Meta_score</th>\n",
       "      <th>No_of_Votes</th>\n",
       "      <th>Gross</th>\n",
       "      <th>Series_Title_(500) Days of Summer</th>\n",
       "      <th>Series_Title_12 Angry Men</th>\n",
       "      <th>Series_Title_12 Years a Slave</th>\n",
       "      <th>Series_Title_1917</th>\n",
       "      <th>Series_Title_2001: A Space Odyssey</th>\n",
       "      <th>...</th>\n",
       "      <th>genre_Comedy</th>\n",
       "      <th>genre_Crime</th>\n",
       "      <th>genre_Drama</th>\n",
       "      <th>genre_Family</th>\n",
       "      <th>genre_Fantasy</th>\n",
       "      <th>genre_Film-Noir</th>\n",
       "      <th>genre_Horror</th>\n",
       "      <th>genre_Mystery</th>\n",
       "      <th>genre_Thriller</th>\n",
       "      <th>genre_Western</th>\n",
       "    </tr>\n",
       "  </thead>\n",
       "  <tbody>\n",
       "    <tr>\n",
       "      <th>0</th>\n",
       "      <td>142</td>\n",
       "      <td>9.3</td>\n",
       "      <td>80.0</td>\n",
       "      <td>2343110</td>\n",
       "      <td>2.834147e+07</td>\n",
       "      <td>0</td>\n",
       "      <td>0</td>\n",
       "      <td>0</td>\n",
       "      <td>0</td>\n",
       "      <td>0</td>\n",
       "      <td>...</td>\n",
       "      <td>0</td>\n",
       "      <td>0</td>\n",
       "      <td>1</td>\n",
       "      <td>0</td>\n",
       "      <td>0</td>\n",
       "      <td>0</td>\n",
       "      <td>0</td>\n",
       "      <td>0</td>\n",
       "      <td>0</td>\n",
       "      <td>0</td>\n",
       "    </tr>\n",
       "    <tr>\n",
       "      <th>1</th>\n",
       "      <td>175</td>\n",
       "      <td>9.2</td>\n",
       "      <td>100.0</td>\n",
       "      <td>1620367</td>\n",
       "      <td>1.349664e+08</td>\n",
       "      <td>0</td>\n",
       "      <td>0</td>\n",
       "      <td>0</td>\n",
       "      <td>0</td>\n",
       "      <td>0</td>\n",
       "      <td>...</td>\n",
       "      <td>0</td>\n",
       "      <td>1</td>\n",
       "      <td>0</td>\n",
       "      <td>0</td>\n",
       "      <td>0</td>\n",
       "      <td>0</td>\n",
       "      <td>0</td>\n",
       "      <td>0</td>\n",
       "      <td>0</td>\n",
       "      <td>0</td>\n",
       "    </tr>\n",
       "    <tr>\n",
       "      <th>2</th>\n",
       "      <td>152</td>\n",
       "      <td>9.0</td>\n",
       "      <td>84.0</td>\n",
       "      <td>2303232</td>\n",
       "      <td>5.348584e+08</td>\n",
       "      <td>0</td>\n",
       "      <td>0</td>\n",
       "      <td>0</td>\n",
       "      <td>0</td>\n",
       "      <td>0</td>\n",
       "      <td>...</td>\n",
       "      <td>0</td>\n",
       "      <td>0</td>\n",
       "      <td>0</td>\n",
       "      <td>0</td>\n",
       "      <td>0</td>\n",
       "      <td>0</td>\n",
       "      <td>0</td>\n",
       "      <td>0</td>\n",
       "      <td>0</td>\n",
       "      <td>0</td>\n",
       "    </tr>\n",
       "    <tr>\n",
       "      <th>3</th>\n",
       "      <td>202</td>\n",
       "      <td>9.0</td>\n",
       "      <td>90.0</td>\n",
       "      <td>1129952</td>\n",
       "      <td>5.730000e+07</td>\n",
       "      <td>0</td>\n",
       "      <td>0</td>\n",
       "      <td>0</td>\n",
       "      <td>0</td>\n",
       "      <td>0</td>\n",
       "      <td>...</td>\n",
       "      <td>0</td>\n",
       "      <td>1</td>\n",
       "      <td>0</td>\n",
       "      <td>0</td>\n",
       "      <td>0</td>\n",
       "      <td>0</td>\n",
       "      <td>0</td>\n",
       "      <td>0</td>\n",
       "      <td>0</td>\n",
       "      <td>0</td>\n",
       "    </tr>\n",
       "    <tr>\n",
       "      <th>4</th>\n",
       "      <td>96</td>\n",
       "      <td>9.0</td>\n",
       "      <td>96.0</td>\n",
       "      <td>689845</td>\n",
       "      <td>4.360000e+06</td>\n",
       "      <td>0</td>\n",
       "      <td>1</td>\n",
       "      <td>0</td>\n",
       "      <td>0</td>\n",
       "      <td>0</td>\n",
       "      <td>...</td>\n",
       "      <td>0</td>\n",
       "      <td>1</td>\n",
       "      <td>0</td>\n",
       "      <td>0</td>\n",
       "      <td>0</td>\n",
       "      <td>0</td>\n",
       "      <td>0</td>\n",
       "      <td>0</td>\n",
       "      <td>0</td>\n",
       "      <td>0</td>\n",
       "    </tr>\n",
       "    <tr>\n",
       "      <th>...</th>\n",
       "      <td>...</td>\n",
       "      <td>...</td>\n",
       "      <td>...</td>\n",
       "      <td>...</td>\n",
       "      <td>...</td>\n",
       "      <td>...</td>\n",
       "      <td>...</td>\n",
       "      <td>...</td>\n",
       "      <td>...</td>\n",
       "      <td>...</td>\n",
       "      <td>...</td>\n",
       "      <td>...</td>\n",
       "      <td>...</td>\n",
       "      <td>...</td>\n",
       "      <td>...</td>\n",
       "      <td>...</td>\n",
       "      <td>...</td>\n",
       "      <td>...</td>\n",
       "      <td>...</td>\n",
       "      <td>...</td>\n",
       "      <td>...</td>\n",
       "    </tr>\n",
       "    <tr>\n",
       "      <th>995</th>\n",
       "      <td>115</td>\n",
       "      <td>7.6</td>\n",
       "      <td>76.0</td>\n",
       "      <td>166544</td>\n",
       "      <td>6.803475e+07</td>\n",
       "      <td>0</td>\n",
       "      <td>0</td>\n",
       "      <td>0</td>\n",
       "      <td>0</td>\n",
       "      <td>0</td>\n",
       "      <td>...</td>\n",
       "      <td>1</td>\n",
       "      <td>0</td>\n",
       "      <td>0</td>\n",
       "      <td>0</td>\n",
       "      <td>0</td>\n",
       "      <td>0</td>\n",
       "      <td>0</td>\n",
       "      <td>0</td>\n",
       "      <td>0</td>\n",
       "      <td>0</td>\n",
       "    </tr>\n",
       "    <tr>\n",
       "      <th>996</th>\n",
       "      <td>201</td>\n",
       "      <td>7.6</td>\n",
       "      <td>84.0</td>\n",
       "      <td>34075</td>\n",
       "      <td>6.803475e+07</td>\n",
       "      <td>0</td>\n",
       "      <td>0</td>\n",
       "      <td>0</td>\n",
       "      <td>0</td>\n",
       "      <td>0</td>\n",
       "      <td>...</td>\n",
       "      <td>0</td>\n",
       "      <td>0</td>\n",
       "      <td>1</td>\n",
       "      <td>0</td>\n",
       "      <td>0</td>\n",
       "      <td>0</td>\n",
       "      <td>0</td>\n",
       "      <td>0</td>\n",
       "      <td>0</td>\n",
       "      <td>0</td>\n",
       "    </tr>\n",
       "    <tr>\n",
       "      <th>997</th>\n",
       "      <td>118</td>\n",
       "      <td>7.6</td>\n",
       "      <td>85.0</td>\n",
       "      <td>43374</td>\n",
       "      <td>3.050000e+07</td>\n",
       "      <td>0</td>\n",
       "      <td>0</td>\n",
       "      <td>0</td>\n",
       "      <td>0</td>\n",
       "      <td>0</td>\n",
       "      <td>...</td>\n",
       "      <td>0</td>\n",
       "      <td>0</td>\n",
       "      <td>1</td>\n",
       "      <td>0</td>\n",
       "      <td>0</td>\n",
       "      <td>0</td>\n",
       "      <td>0</td>\n",
       "      <td>0</td>\n",
       "      <td>0</td>\n",
       "      <td>0</td>\n",
       "    </tr>\n",
       "    <tr>\n",
       "      <th>998</th>\n",
       "      <td>97</td>\n",
       "      <td>7.6</td>\n",
       "      <td>78.0</td>\n",
       "      <td>26471</td>\n",
       "      <td>6.803475e+07</td>\n",
       "      <td>0</td>\n",
       "      <td>0</td>\n",
       "      <td>0</td>\n",
       "      <td>0</td>\n",
       "      <td>0</td>\n",
       "      <td>...</td>\n",
       "      <td>0</td>\n",
       "      <td>0</td>\n",
       "      <td>1</td>\n",
       "      <td>0</td>\n",
       "      <td>0</td>\n",
       "      <td>0</td>\n",
       "      <td>0</td>\n",
       "      <td>0</td>\n",
       "      <td>0</td>\n",
       "      <td>0</td>\n",
       "    </tr>\n",
       "    <tr>\n",
       "      <th>999</th>\n",
       "      <td>86</td>\n",
       "      <td>7.6</td>\n",
       "      <td>93.0</td>\n",
       "      <td>51853</td>\n",
       "      <td>6.803475e+07</td>\n",
       "      <td>0</td>\n",
       "      <td>0</td>\n",
       "      <td>0</td>\n",
       "      <td>0</td>\n",
       "      <td>0</td>\n",
       "      <td>...</td>\n",
       "      <td>0</td>\n",
       "      <td>1</td>\n",
       "      <td>0</td>\n",
       "      <td>0</td>\n",
       "      <td>0</td>\n",
       "      <td>0</td>\n",
       "      <td>0</td>\n",
       "      <td>0</td>\n",
       "      <td>0</td>\n",
       "      <td>0</td>\n",
       "    </tr>\n",
       "  </tbody>\n",
       "</table>\n",
       "<p>1000 rows × 6014 columns</p>\n",
       "</div>"
      ],
      "text/plain": [
       "     Runtime  IMDB_Rating  Meta_score  No_of_Votes         Gross  \\\n",
       "0        142          9.3        80.0      2343110  2.834147e+07   \n",
       "1        175          9.2       100.0      1620367  1.349664e+08   \n",
       "2        152          9.0        84.0      2303232  5.348584e+08   \n",
       "3        202          9.0        90.0      1129952  5.730000e+07   \n",
       "4         96          9.0        96.0       689845  4.360000e+06   \n",
       "..       ...          ...         ...          ...           ...   \n",
       "995      115          7.6        76.0       166544  6.803475e+07   \n",
       "996      201          7.6        84.0        34075  6.803475e+07   \n",
       "997      118          7.6        85.0        43374  3.050000e+07   \n",
       "998       97          7.6        78.0        26471  6.803475e+07   \n",
       "999       86          7.6        93.0        51853  6.803475e+07   \n",
       "\n",
       "     Series_Title_(500) Days of Summer  Series_Title_12 Angry Men  \\\n",
       "0                                    0                          0   \n",
       "1                                    0                          0   \n",
       "2                                    0                          0   \n",
       "3                                    0                          0   \n",
       "4                                    0                          1   \n",
       "..                                 ...                        ...   \n",
       "995                                  0                          0   \n",
       "996                                  0                          0   \n",
       "997                                  0                          0   \n",
       "998                                  0                          0   \n",
       "999                                  0                          0   \n",
       "\n",
       "     Series_Title_12 Years a Slave  Series_Title_1917  \\\n",
       "0                                0                  0   \n",
       "1                                0                  0   \n",
       "2                                0                  0   \n",
       "3                                0                  0   \n",
       "4                                0                  0   \n",
       "..                             ...                ...   \n",
       "995                              0                  0   \n",
       "996                              0                  0   \n",
       "997                              0                  0   \n",
       "998                              0                  0   \n",
       "999                              0                  0   \n",
       "\n",
       "     Series_Title_2001: A Space Odyssey  ...  genre_Comedy  genre_Crime  \\\n",
       "0                                     0  ...             0            0   \n",
       "1                                     0  ...             0            1   \n",
       "2                                     0  ...             0            0   \n",
       "3                                     0  ...             0            1   \n",
       "4                                     0  ...             0            1   \n",
       "..                                  ...  ...           ...          ...   \n",
       "995                                   0  ...             1            0   \n",
       "996                                   0  ...             0            0   \n",
       "997                                   0  ...             0            0   \n",
       "998                                   0  ...             0            0   \n",
       "999                                   0  ...             0            1   \n",
       "\n",
       "     genre_Drama  genre_Family  genre_Fantasy  genre_Film-Noir  genre_Horror  \\\n",
       "0              1             0              0                0             0   \n",
       "1              0             0              0                0             0   \n",
       "2              0             0              0                0             0   \n",
       "3              0             0              0                0             0   \n",
       "4              0             0              0                0             0   \n",
       "..           ...           ...            ...              ...           ...   \n",
       "995            0             0              0                0             0   \n",
       "996            1             0              0                0             0   \n",
       "997            1             0              0                0             0   \n",
       "998            1             0              0                0             0   \n",
       "999            0             0              0                0             0   \n",
       "\n",
       "     genre_Mystery  genre_Thriller  genre_Western  \n",
       "0                0               0              0  \n",
       "1                0               0              0  \n",
       "2                0               0              0  \n",
       "3                0               0              0  \n",
       "4                0               0              0  \n",
       "..             ...             ...            ...  \n",
       "995              0               0              0  \n",
       "996              0               0              0  \n",
       "997              0               0              0  \n",
       "998              0               0              0  \n",
       "999              0               0              0  \n",
       "\n",
       "[1000 rows x 6014 columns]"
      ]
     },
     "execution_count": 30,
     "metadata": {},
     "output_type": "execute_result"
    }
   ],
   "source": [
    "pd.get_dummies(df1)"
   ]
  },
  {
   "cell_type": "code",
   "execution_count": 31,
   "metadata": {},
   "outputs": [
    {
     "data": {
      "text/html": [
       "<div>\n",
       "<style scoped>\n",
       "    .dataframe tbody tr th:only-of-type {\n",
       "        vertical-align: middle;\n",
       "    }\n",
       "\n",
       "    .dataframe tbody tr th {\n",
       "        vertical-align: top;\n",
       "    }\n",
       "\n",
       "    .dataframe thead th {\n",
       "        text-align: right;\n",
       "    }\n",
       "</style>\n",
       "<table border=\"1\" class=\"dataframe\">\n",
       "  <thead>\n",
       "    <tr style=\"text-align: right;\">\n",
       "      <th></th>\n",
       "      <th>Runtime</th>\n",
       "      <th>IMDB_Rating</th>\n",
       "      <th>Meta_score</th>\n",
       "      <th>No_of_Votes</th>\n",
       "      <th>Gross</th>\n",
       "      <th>Series_Title_12 Angry Men</th>\n",
       "      <th>Series_Title_12 Years a Slave</th>\n",
       "      <th>Series_Title_1917</th>\n",
       "      <th>Series_Title_2001: A Space Odyssey</th>\n",
       "      <th>Series_Title_21 Grams</th>\n",
       "      <th>...</th>\n",
       "      <th>genre_Comedy</th>\n",
       "      <th>genre_Crime</th>\n",
       "      <th>genre_Drama</th>\n",
       "      <th>genre_Family</th>\n",
       "      <th>genre_Fantasy</th>\n",
       "      <th>genre_Film-Noir</th>\n",
       "      <th>genre_Horror</th>\n",
       "      <th>genre_Mystery</th>\n",
       "      <th>genre_Thriller</th>\n",
       "      <th>genre_Western</th>\n",
       "    </tr>\n",
       "  </thead>\n",
       "  <tbody>\n",
       "    <tr>\n",
       "      <th>0</th>\n",
       "      <td>142</td>\n",
       "      <td>9.3</td>\n",
       "      <td>80.0</td>\n",
       "      <td>2343110</td>\n",
       "      <td>2.834147e+07</td>\n",
       "      <td>0</td>\n",
       "      <td>0</td>\n",
       "      <td>0</td>\n",
       "      <td>0</td>\n",
       "      <td>0</td>\n",
       "      <td>...</td>\n",
       "      <td>0</td>\n",
       "      <td>0</td>\n",
       "      <td>1</td>\n",
       "      <td>0</td>\n",
       "      <td>0</td>\n",
       "      <td>0</td>\n",
       "      <td>0</td>\n",
       "      <td>0</td>\n",
       "      <td>0</td>\n",
       "      <td>0</td>\n",
       "    </tr>\n",
       "    <tr>\n",
       "      <th>1</th>\n",
       "      <td>175</td>\n",
       "      <td>9.2</td>\n",
       "      <td>100.0</td>\n",
       "      <td>1620367</td>\n",
       "      <td>1.349664e+08</td>\n",
       "      <td>0</td>\n",
       "      <td>0</td>\n",
       "      <td>0</td>\n",
       "      <td>0</td>\n",
       "      <td>0</td>\n",
       "      <td>...</td>\n",
       "      <td>0</td>\n",
       "      <td>1</td>\n",
       "      <td>0</td>\n",
       "      <td>0</td>\n",
       "      <td>0</td>\n",
       "      <td>0</td>\n",
       "      <td>0</td>\n",
       "      <td>0</td>\n",
       "      <td>0</td>\n",
       "      <td>0</td>\n",
       "    </tr>\n",
       "    <tr>\n",
       "      <th>2</th>\n",
       "      <td>152</td>\n",
       "      <td>9.0</td>\n",
       "      <td>84.0</td>\n",
       "      <td>2303232</td>\n",
       "      <td>5.348584e+08</td>\n",
       "      <td>0</td>\n",
       "      <td>0</td>\n",
       "      <td>0</td>\n",
       "      <td>0</td>\n",
       "      <td>0</td>\n",
       "      <td>...</td>\n",
       "      <td>0</td>\n",
       "      <td>0</td>\n",
       "      <td>0</td>\n",
       "      <td>0</td>\n",
       "      <td>0</td>\n",
       "      <td>0</td>\n",
       "      <td>0</td>\n",
       "      <td>0</td>\n",
       "      <td>0</td>\n",
       "      <td>0</td>\n",
       "    </tr>\n",
       "    <tr>\n",
       "      <th>3</th>\n",
       "      <td>202</td>\n",
       "      <td>9.0</td>\n",
       "      <td>90.0</td>\n",
       "      <td>1129952</td>\n",
       "      <td>5.730000e+07</td>\n",
       "      <td>0</td>\n",
       "      <td>0</td>\n",
       "      <td>0</td>\n",
       "      <td>0</td>\n",
       "      <td>0</td>\n",
       "      <td>...</td>\n",
       "      <td>0</td>\n",
       "      <td>1</td>\n",
       "      <td>0</td>\n",
       "      <td>0</td>\n",
       "      <td>0</td>\n",
       "      <td>0</td>\n",
       "      <td>0</td>\n",
       "      <td>0</td>\n",
       "      <td>0</td>\n",
       "      <td>0</td>\n",
       "    </tr>\n",
       "    <tr>\n",
       "      <th>4</th>\n",
       "      <td>96</td>\n",
       "      <td>9.0</td>\n",
       "      <td>96.0</td>\n",
       "      <td>689845</td>\n",
       "      <td>4.360000e+06</td>\n",
       "      <td>1</td>\n",
       "      <td>0</td>\n",
       "      <td>0</td>\n",
       "      <td>0</td>\n",
       "      <td>0</td>\n",
       "      <td>...</td>\n",
       "      <td>0</td>\n",
       "      <td>1</td>\n",
       "      <td>0</td>\n",
       "      <td>0</td>\n",
       "      <td>0</td>\n",
       "      <td>0</td>\n",
       "      <td>0</td>\n",
       "      <td>0</td>\n",
       "      <td>0</td>\n",
       "      <td>0</td>\n",
       "    </tr>\n",
       "    <tr>\n",
       "      <th>...</th>\n",
       "      <td>...</td>\n",
       "      <td>...</td>\n",
       "      <td>...</td>\n",
       "      <td>...</td>\n",
       "      <td>...</td>\n",
       "      <td>...</td>\n",
       "      <td>...</td>\n",
       "      <td>...</td>\n",
       "      <td>...</td>\n",
       "      <td>...</td>\n",
       "      <td>...</td>\n",
       "      <td>...</td>\n",
       "      <td>...</td>\n",
       "      <td>...</td>\n",
       "      <td>...</td>\n",
       "      <td>...</td>\n",
       "      <td>...</td>\n",
       "      <td>...</td>\n",
       "      <td>...</td>\n",
       "      <td>...</td>\n",
       "      <td>...</td>\n",
       "    </tr>\n",
       "    <tr>\n",
       "      <th>995</th>\n",
       "      <td>115</td>\n",
       "      <td>7.6</td>\n",
       "      <td>76.0</td>\n",
       "      <td>166544</td>\n",
       "      <td>6.803475e+07</td>\n",
       "      <td>0</td>\n",
       "      <td>0</td>\n",
       "      <td>0</td>\n",
       "      <td>0</td>\n",
       "      <td>0</td>\n",
       "      <td>...</td>\n",
       "      <td>1</td>\n",
       "      <td>0</td>\n",
       "      <td>0</td>\n",
       "      <td>0</td>\n",
       "      <td>0</td>\n",
       "      <td>0</td>\n",
       "      <td>0</td>\n",
       "      <td>0</td>\n",
       "      <td>0</td>\n",
       "      <td>0</td>\n",
       "    </tr>\n",
       "    <tr>\n",
       "      <th>996</th>\n",
       "      <td>201</td>\n",
       "      <td>7.6</td>\n",
       "      <td>84.0</td>\n",
       "      <td>34075</td>\n",
       "      <td>6.803475e+07</td>\n",
       "      <td>0</td>\n",
       "      <td>0</td>\n",
       "      <td>0</td>\n",
       "      <td>0</td>\n",
       "      <td>0</td>\n",
       "      <td>...</td>\n",
       "      <td>0</td>\n",
       "      <td>0</td>\n",
       "      <td>1</td>\n",
       "      <td>0</td>\n",
       "      <td>0</td>\n",
       "      <td>0</td>\n",
       "      <td>0</td>\n",
       "      <td>0</td>\n",
       "      <td>0</td>\n",
       "      <td>0</td>\n",
       "    </tr>\n",
       "    <tr>\n",
       "      <th>997</th>\n",
       "      <td>118</td>\n",
       "      <td>7.6</td>\n",
       "      <td>85.0</td>\n",
       "      <td>43374</td>\n",
       "      <td>3.050000e+07</td>\n",
       "      <td>0</td>\n",
       "      <td>0</td>\n",
       "      <td>0</td>\n",
       "      <td>0</td>\n",
       "      <td>0</td>\n",
       "      <td>...</td>\n",
       "      <td>0</td>\n",
       "      <td>0</td>\n",
       "      <td>1</td>\n",
       "      <td>0</td>\n",
       "      <td>0</td>\n",
       "      <td>0</td>\n",
       "      <td>0</td>\n",
       "      <td>0</td>\n",
       "      <td>0</td>\n",
       "      <td>0</td>\n",
       "    </tr>\n",
       "    <tr>\n",
       "      <th>998</th>\n",
       "      <td>97</td>\n",
       "      <td>7.6</td>\n",
       "      <td>78.0</td>\n",
       "      <td>26471</td>\n",
       "      <td>6.803475e+07</td>\n",
       "      <td>0</td>\n",
       "      <td>0</td>\n",
       "      <td>0</td>\n",
       "      <td>0</td>\n",
       "      <td>0</td>\n",
       "      <td>...</td>\n",
       "      <td>0</td>\n",
       "      <td>0</td>\n",
       "      <td>1</td>\n",
       "      <td>0</td>\n",
       "      <td>0</td>\n",
       "      <td>0</td>\n",
       "      <td>0</td>\n",
       "      <td>0</td>\n",
       "      <td>0</td>\n",
       "      <td>0</td>\n",
       "    </tr>\n",
       "    <tr>\n",
       "      <th>999</th>\n",
       "      <td>86</td>\n",
       "      <td>7.6</td>\n",
       "      <td>93.0</td>\n",
       "      <td>51853</td>\n",
       "      <td>6.803475e+07</td>\n",
       "      <td>0</td>\n",
       "      <td>0</td>\n",
       "      <td>0</td>\n",
       "      <td>0</td>\n",
       "      <td>0</td>\n",
       "      <td>...</td>\n",
       "      <td>0</td>\n",
       "      <td>1</td>\n",
       "      <td>0</td>\n",
       "      <td>0</td>\n",
       "      <td>0</td>\n",
       "      <td>0</td>\n",
       "      <td>0</td>\n",
       "      <td>0</td>\n",
       "      <td>0</td>\n",
       "      <td>0</td>\n",
       "    </tr>\n",
       "  </tbody>\n",
       "</table>\n",
       "<p>1000 rows × 6004 columns</p>\n",
       "</div>"
      ],
      "text/plain": [
       "     Runtime  IMDB_Rating  Meta_score  No_of_Votes         Gross  \\\n",
       "0        142          9.3        80.0      2343110  2.834147e+07   \n",
       "1        175          9.2       100.0      1620367  1.349664e+08   \n",
       "2        152          9.0        84.0      2303232  5.348584e+08   \n",
       "3        202          9.0        90.0      1129952  5.730000e+07   \n",
       "4         96          9.0        96.0       689845  4.360000e+06   \n",
       "..       ...          ...         ...          ...           ...   \n",
       "995      115          7.6        76.0       166544  6.803475e+07   \n",
       "996      201          7.6        84.0        34075  6.803475e+07   \n",
       "997      118          7.6        85.0        43374  3.050000e+07   \n",
       "998       97          7.6        78.0        26471  6.803475e+07   \n",
       "999       86          7.6        93.0        51853  6.803475e+07   \n",
       "\n",
       "     Series_Title_12 Angry Men  Series_Title_12 Years a Slave  \\\n",
       "0                            0                              0   \n",
       "1                            0                              0   \n",
       "2                            0                              0   \n",
       "3                            0                              0   \n",
       "4                            1                              0   \n",
       "..                         ...                            ...   \n",
       "995                          0                              0   \n",
       "996                          0                              0   \n",
       "997                          0                              0   \n",
       "998                          0                              0   \n",
       "999                          0                              0   \n",
       "\n",
       "     Series_Title_1917  Series_Title_2001: A Space Odyssey  \\\n",
       "0                    0                                   0   \n",
       "1                    0                                   0   \n",
       "2                    0                                   0   \n",
       "3                    0                                   0   \n",
       "4                    0                                   0   \n",
       "..                 ...                                 ...   \n",
       "995                  0                                   0   \n",
       "996                  0                                   0   \n",
       "997                  0                                   0   \n",
       "998                  0                                   0   \n",
       "999                  0                                   0   \n",
       "\n",
       "     Series_Title_21 Grams  ...  genre_Comedy  genre_Crime  genre_Drama  \\\n",
       "0                        0  ...             0            0            1   \n",
       "1                        0  ...             0            1            0   \n",
       "2                        0  ...             0            0            0   \n",
       "3                        0  ...             0            1            0   \n",
       "4                        0  ...             0            1            0   \n",
       "..                     ...  ...           ...          ...          ...   \n",
       "995                      0  ...             1            0            0   \n",
       "996                      0  ...             0            0            1   \n",
       "997                      0  ...             0            0            1   \n",
       "998                      0  ...             0            0            1   \n",
       "999                      0  ...             0            1            0   \n",
       "\n",
       "     genre_Family  genre_Fantasy  genre_Film-Noir  genre_Horror  \\\n",
       "0               0              0                0             0   \n",
       "1               0              0                0             0   \n",
       "2               0              0                0             0   \n",
       "3               0              0                0             0   \n",
       "4               0              0                0             0   \n",
       "..            ...            ...              ...           ...   \n",
       "995             0              0                0             0   \n",
       "996             0              0                0             0   \n",
       "997             0              0                0             0   \n",
       "998             0              0                0             0   \n",
       "999             0              0                0             0   \n",
       "\n",
       "     genre_Mystery  genre_Thriller  genre_Western  \n",
       "0                0               0              0  \n",
       "1                0               0              0  \n",
       "2                0               0              0  \n",
       "3                0               0              0  \n",
       "4                0               0              0  \n",
       "..             ...             ...            ...  \n",
       "995              0               0              0  \n",
       "996              0               0              0  \n",
       "997              0               0              0  \n",
       "998              0               0              0  \n",
       "999              0               0              0  \n",
       "\n",
       "[1000 rows x 6004 columns]"
      ]
     },
     "execution_count": 31,
     "metadata": {},
     "output_type": "execute_result"
    }
   ],
   "source": [
    "df1 = pd.get_dummies(df1, drop_first=True)\n",
    "df1"
   ]
  },
  {
   "cell_type": "code",
   "execution_count": 32,
   "metadata": {},
   "outputs": [],
   "source": [
    "# Distributing the dataset into 2 components: X and y\n",
    "\n",
    "X = df1.drop('IMDB_Rating', axis=1).values\n",
    "y = df1['IMDB_Rating'].values"
   ]
  },
  {
   "cell_type": "code",
   "execution_count": 33,
   "metadata": {},
   "outputs": [],
   "source": [
    "from sklearn.model_selection import train_test_split\n",
    "from sklearn.linear_model import LinearRegression"
   ]
  },
  {
   "cell_type": "code",
   "execution_count": 34,
   "metadata": {},
   "outputs": [],
   "source": [
    "X_train, X_test, y_train, y_test = train_test_split(X, y, test_size=0.2)\n"
   ]
  },
  {
   "cell_type": "code",
   "execution_count": 35,
   "metadata": {},
   "outputs": [
    {
     "data": {
      "text/plain": [
       "LinearRegression()"
      ]
     },
     "execution_count": 35,
     "metadata": {},
     "output_type": "execute_result"
    }
   ],
   "source": [
    "linreg = LinearRegression()\n",
    "linreg.fit(X_train, y_train)\n"
   ]
  },
  {
   "cell_type": "code",
   "execution_count": 36,
   "metadata": {},
   "outputs": [],
   "source": [
    "y_pred = linreg.predict(X_test)"
   ]
  },
  {
   "cell_type": "code",
   "execution_count": 37,
   "metadata": {},
   "outputs": [],
   "source": [
    "from sklearn import metrics\n"
   ]
  },
  {
   "cell_type": "code",
   "execution_count": 38,
   "metadata": {},
   "outputs": [
    {
     "data": {
      "text/plain": [
       "0.5258474960270445"
      ]
     },
     "execution_count": 38,
     "metadata": {},
     "output_type": "execute_result"
    }
   ],
   "source": [
    "linreg.score(X_test, y_test)\n"
   ]
  },
  {
   "cell_type": "code",
   "execution_count": 39,
   "metadata": {},
   "outputs": [
    {
     "data": {
      "text/plain": [
       "RandomForestRegressor(random_state=0)"
      ]
     },
     "execution_count": 39,
     "metadata": {},
     "output_type": "execute_result"
    }
   ],
   "source": [
    "from sklearn.ensemble import RandomForestRegressor\n",
    "\n",
    "randomforest = RandomForestRegressor(n_estimators=100, random_state=0)\n",
    "randomforest.fit(X_train, y_train)"
   ]
  },
  {
   "cell_type": "code",
   "execution_count": 40,
   "metadata": {},
   "outputs": [
    {
     "data": {
      "text/plain": [
       "0.47553673715943223"
      ]
     },
     "execution_count": 40,
     "metadata": {},
     "output_type": "execute_result"
    }
   ],
   "source": [
    "randomforest.score(X_test, y_test)\n"
   ]
  },
  {
   "cell_type": "code",
   "execution_count": 41,
   "metadata": {},
   "outputs": [
    {
     "data": {
      "text/plain": [
       "DecisionTreeRegressor(max_depth=5, random_state=0)"
      ]
     },
     "execution_count": 41,
     "metadata": {},
     "output_type": "execute_result"
    }
   ],
   "source": [
    "from sklearn.tree import DecisionTreeRegressor\n",
    "\n",
    "decisiontree = DecisionTreeRegressor(max_depth=5, random_state=0)\n",
    "decisiontree.fit(X_train, y_train)"
   ]
  },
  {
   "cell_type": "code",
   "execution_count": 42,
   "metadata": {},
   "outputs": [
    {
     "data": {
      "text/plain": [
       "0.23092593904762926"
      ]
     },
     "execution_count": 42,
     "metadata": {},
     "output_type": "execute_result"
    }
   ],
   "source": [
    "decisiontree.score(X_test, y_test)\n"
   ]
  },
  {
   "cell_type": "code",
   "execution_count": null,
   "metadata": {},
   "outputs": [],
   "source": []
  }
 ],
 "metadata": {
  "celltoolbar": "Raw Cell Format",
  "interpreter": {
   "hash": "31f2aee4e71d21fbe5cf8b01ff0e069b9275f58929596ceb00d14d90e3e16cd6"
  },
  "kernelspec": {
   "display_name": "Python 3 (ipykernel)",
   "language": "python",
   "name": "python3"
  },
  "language_info": {
   "codemirror_mode": {
    "name": "ipython",
    "version": 3
   },
   "file_extension": ".py",
   "mimetype": "text/x-python",
   "name": "python",
   "nbconvert_exporter": "python",
   "pygments_lexer": "ipython3",
   "version": "3.9.7"
  }
 },
 "nbformat": 4,
 "nbformat_minor": 4
}
